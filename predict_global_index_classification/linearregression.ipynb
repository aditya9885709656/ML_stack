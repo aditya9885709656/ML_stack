{
 "cells": [
  {
   "cell_type": "code",
   "execution_count": 1,
   "id": "c09e5371",
   "metadata": {
    "_cell_guid": "b1076dfc-b9ad-4769-8c92-a6c4dae69d19",
    "_uuid": "8f2839f25d086af736a60e9eeb907d3b93b6e0e5",
    "execution": {
     "iopub.execute_input": "2023-06-08T09:44:54.319766Z",
     "iopub.status.busy": "2023-06-08T09:44:54.319453Z",
     "iopub.status.idle": "2023-06-08T09:44:54.335265Z",
     "shell.execute_reply": "2023-06-08T09:44:54.334524Z"
    },
    "papermill": {
     "duration": 0.02454,
     "end_time": "2023-06-08T09:44:54.337399",
     "exception": false,
     "start_time": "2023-06-08T09:44:54.312859",
     "status": "completed"
    },
    "tags": []
   },
   "outputs": [
    {
     "name": "stdout",
     "output_type": "stream",
     "text": [
      "/kaggle/input/ai-index/AI_index_db.csv\n"
     ]
    }
   ],
   "source": [
    "# This Python 3 environment comes with many helpful analytics libraries installed\n",
    "# It is defined by the kaggle/python Docker image: https://github.com/kaggle/docker-python\n",
    "# For example, here's several helpful packages to load\n",
    "\n",
    "import numpy as np # linear algebra\n",
    "import pandas as pd # data processing, CSV file I/O (e.g. pd.read_csv)\n",
    "\n",
    "# Input data files are available in the read-only \"../input/\" directory\n",
    "# For example, running this (by clicking run or pressing Shift+Enter) will list all files under the input directory\n",
    "\n",
    "import os\n",
    "for dirname, _, filenames in os.walk('/kaggle/input'):\n",
    "    for filename in filenames:\n",
    "        print(os.path.join(dirname, filename))\n",
    "\n",
    "# You can write up to 20GB to the current directory (/kaggle/working/) that gets preserved as output when you create a version using \"Save & Run All\" \n",
    "# You can also write temporary files to /kaggle/temp/, but they won't be saved outside of the current session"
   ]
  },
  {
   "cell_type": "code",
   "execution_count": 2,
   "id": "80380dd3",
   "metadata": {
    "execution": {
     "iopub.execute_input": "2023-06-08T09:44:54.348002Z",
     "iopub.status.busy": "2023-06-08T09:44:54.347619Z",
     "iopub.status.idle": "2023-06-08T09:44:54.405407Z",
     "shell.execute_reply": "2023-06-08T09:44:54.404002Z"
    },
    "papermill": {
     "duration": 0.065866,
     "end_time": "2023-06-08T09:44:54.407898",
     "exception": false,
     "start_time": "2023-06-08T09:44:54.342032",
     "status": "completed"
    },
    "tags": []
   },
   "outputs": [
    {
     "data": {
      "text/html": [
       "<div>\n",
       "<style scoped>\n",
       "    .dataframe tbody tr th:only-of-type {\n",
       "        vertical-align: middle;\n",
       "    }\n",
       "\n",
       "    .dataframe tbody tr th {\n",
       "        vertical-align: top;\n",
       "    }\n",
       "\n",
       "    .dataframe thead th {\n",
       "        text-align: right;\n",
       "    }\n",
       "</style>\n",
       "<table border=\"1\" class=\"dataframe\">\n",
       "  <thead>\n",
       "    <tr style=\"text-align: right;\">\n",
       "      <th></th>\n",
       "      <th>Country</th>\n",
       "      <th>Talent</th>\n",
       "      <th>Infrastructure</th>\n",
       "      <th>Operating Environment</th>\n",
       "      <th>Research</th>\n",
       "      <th>Development</th>\n",
       "      <th>Government Strategy</th>\n",
       "      <th>Commercial</th>\n",
       "      <th>Total score</th>\n",
       "      <th>Region</th>\n",
       "      <th>Cluster</th>\n",
       "      <th>Income group</th>\n",
       "      <th>Political regime</th>\n",
       "    </tr>\n",
       "  </thead>\n",
       "  <tbody>\n",
       "    <tr>\n",
       "      <th>0</th>\n",
       "      <td>United States of America</td>\n",
       "      <td>100.00</td>\n",
       "      <td>94.02</td>\n",
       "      <td>64.56</td>\n",
       "      <td>100.00</td>\n",
       "      <td>100.00</td>\n",
       "      <td>77.39</td>\n",
       "      <td>100.00</td>\n",
       "      <td>100.00</td>\n",
       "      <td>Americas</td>\n",
       "      <td>Power players</td>\n",
       "      <td>High</td>\n",
       "      <td>Liberal democracy</td>\n",
       "    </tr>\n",
       "    <tr>\n",
       "      <th>1</th>\n",
       "      <td>China</td>\n",
       "      <td>16.51</td>\n",
       "      <td>100.00</td>\n",
       "      <td>91.57</td>\n",
       "      <td>71.42</td>\n",
       "      <td>79.97</td>\n",
       "      <td>94.87</td>\n",
       "      <td>44.02</td>\n",
       "      <td>62.92</td>\n",
       "      <td>Asia-Pacific</td>\n",
       "      <td>Power players</td>\n",
       "      <td>Upper middle</td>\n",
       "      <td>Closed autocracy</td>\n",
       "    </tr>\n",
       "    <tr>\n",
       "      <th>2</th>\n",
       "      <td>United Kingdom</td>\n",
       "      <td>39.65</td>\n",
       "      <td>71.43</td>\n",
       "      <td>74.65</td>\n",
       "      <td>36.50</td>\n",
       "      <td>25.03</td>\n",
       "      <td>82.82</td>\n",
       "      <td>18.91</td>\n",
       "      <td>40.93</td>\n",
       "      <td>Europe</td>\n",
       "      <td>Traditional champions</td>\n",
       "      <td>High</td>\n",
       "      <td>Liberal democracy</td>\n",
       "    </tr>\n",
       "    <tr>\n",
       "      <th>3</th>\n",
       "      <td>Canada</td>\n",
       "      <td>31.28</td>\n",
       "      <td>77.05</td>\n",
       "      <td>93.94</td>\n",
       "      <td>30.67</td>\n",
       "      <td>25.78</td>\n",
       "      <td>100.00</td>\n",
       "      <td>14.88</td>\n",
       "      <td>40.19</td>\n",
       "      <td>Americas</td>\n",
       "      <td>Traditional champions</td>\n",
       "      <td>High</td>\n",
       "      <td>Liberal democracy</td>\n",
       "    </tr>\n",
       "    <tr>\n",
       "      <th>4</th>\n",
       "      <td>Israel</td>\n",
       "      <td>35.76</td>\n",
       "      <td>67.58</td>\n",
       "      <td>82.44</td>\n",
       "      <td>32.63</td>\n",
       "      <td>27.96</td>\n",
       "      <td>43.91</td>\n",
       "      <td>27.33</td>\n",
       "      <td>39.89</td>\n",
       "      <td>Middle East</td>\n",
       "      <td>Rising stars</td>\n",
       "      <td>High</td>\n",
       "      <td>Liberal democracy</td>\n",
       "    </tr>\n",
       "  </tbody>\n",
       "</table>\n",
       "</div>"
      ],
      "text/plain": [
       "                    Country  Talent  Infrastructure  Operating Environment  \\\n",
       "0  United States of America  100.00           94.02                  64.56   \n",
       "1                     China   16.51          100.00                  91.57   \n",
       "2            United Kingdom   39.65           71.43                  74.65   \n",
       "3                    Canada   31.28           77.05                  93.94   \n",
       "4                    Israel   35.76           67.58                  82.44   \n",
       "\n",
       "   Research  Development  Government Strategy  Commercial  Total score  \\\n",
       "0    100.00       100.00                77.39      100.00       100.00   \n",
       "1     71.42        79.97                94.87       44.02        62.92   \n",
       "2     36.50        25.03                82.82       18.91        40.93   \n",
       "3     30.67        25.78               100.00       14.88        40.19   \n",
       "4     32.63        27.96                43.91       27.33        39.89   \n",
       "\n",
       "         Region                Cluster  Income group   Political regime  \n",
       "0      Americas          Power players          High  Liberal democracy  \n",
       "1  Asia-Pacific          Power players  Upper middle   Closed autocracy  \n",
       "2        Europe  Traditional champions          High  Liberal democracy  \n",
       "3      Americas  Traditional champions          High  Liberal democracy  \n",
       "4   Middle East           Rising stars          High  Liberal democracy  "
      ]
     },
     "execution_count": 2,
     "metadata": {},
     "output_type": "execute_result"
    }
   ],
   "source": [
    "df = pd.read_csv('/kaggle/input/ai-index/AI_index_db.csv')\n",
    "df.head()\n"
   ]
  },
  {
   "cell_type": "code",
   "execution_count": 3,
   "id": "831bdeb4",
   "metadata": {
    "execution": {
     "iopub.execute_input": "2023-06-08T09:44:54.419163Z",
     "iopub.status.busy": "2023-06-08T09:44:54.418745Z",
     "iopub.status.idle": "2023-06-08T09:44:54.429695Z",
     "shell.execute_reply": "2023-06-08T09:44:54.428524Z"
    },
    "papermill": {
     "duration": 0.018818,
     "end_time": "2023-06-08T09:44:54.431638",
     "exception": false,
     "start_time": "2023-06-08T09:44:54.412820",
     "status": "completed"
    },
    "tags": []
   },
   "outputs": [
    {
     "data": {
      "text/plain": [
       "array(['Americas', 'Asia-Pacific', 'Europe', 'Middle East', 'Africa'],\n",
       "      dtype=object)"
      ]
     },
     "execution_count": 3,
     "metadata": {},
     "output_type": "execute_result"
    }
   ],
   "source": [
    "df['Region'].unique()"
   ]
  },
  {
   "cell_type": "code",
   "execution_count": 4,
   "id": "d999405b",
   "metadata": {
    "execution": {
     "iopub.execute_input": "2023-06-08T09:44:54.442795Z",
     "iopub.status.busy": "2023-06-08T09:44:54.442439Z",
     "iopub.status.idle": "2023-06-08T09:44:55.814773Z",
     "shell.execute_reply": "2023-06-08T09:44:55.812838Z"
    },
    "papermill": {
     "duration": 1.380862,
     "end_time": "2023-06-08T09:44:55.817432",
     "exception": false,
     "start_time": "2023-06-08T09:44:54.436570",
     "status": "completed"
    },
    "tags": []
   },
   "outputs": [
    {
     "data": {
      "text/html": [
       "<div>\n",
       "<style scoped>\n",
       "    .dataframe tbody tr th:only-of-type {\n",
       "        vertical-align: middle;\n",
       "    }\n",
       "\n",
       "    .dataframe tbody tr th {\n",
       "        vertical-align: top;\n",
       "    }\n",
       "\n",
       "    .dataframe thead th {\n",
       "        text-align: right;\n",
       "    }\n",
       "</style>\n",
       "<table border=\"1\" class=\"dataframe\">\n",
       "  <thead>\n",
       "    <tr style=\"text-align: right;\">\n",
       "      <th></th>\n",
       "      <th>Country</th>\n",
       "      <th>Talent</th>\n",
       "      <th>Infrastructure</th>\n",
       "      <th>Operating Environment</th>\n",
       "      <th>Research</th>\n",
       "      <th>Development</th>\n",
       "      <th>Government Strategy</th>\n",
       "      <th>Commercial</th>\n",
       "      <th>Total score</th>\n",
       "      <th>Region</th>\n",
       "      <th>Cluster</th>\n",
       "      <th>Income group</th>\n",
       "      <th>Political regime</th>\n",
       "    </tr>\n",
       "  </thead>\n",
       "  <tbody>\n",
       "    <tr>\n",
       "      <th>0</th>\n",
       "      <td>United States of America</td>\n",
       "      <td>100.00</td>\n",
       "      <td>94.02</td>\n",
       "      <td>64.56</td>\n",
       "      <td>100.00</td>\n",
       "      <td>100.00</td>\n",
       "      <td>77.39</td>\n",
       "      <td>100.00</td>\n",
       "      <td>100.00</td>\n",
       "      <td>1</td>\n",
       "      <td>Power players</td>\n",
       "      <td>High</td>\n",
       "      <td>Liberal democracy</td>\n",
       "    </tr>\n",
       "    <tr>\n",
       "      <th>1</th>\n",
       "      <td>China</td>\n",
       "      <td>16.51</td>\n",
       "      <td>100.00</td>\n",
       "      <td>91.57</td>\n",
       "      <td>71.42</td>\n",
       "      <td>79.97</td>\n",
       "      <td>94.87</td>\n",
       "      <td>44.02</td>\n",
       "      <td>62.92</td>\n",
       "      <td>2</td>\n",
       "      <td>Power players</td>\n",
       "      <td>Upper middle</td>\n",
       "      <td>Closed autocracy</td>\n",
       "    </tr>\n",
       "    <tr>\n",
       "      <th>2</th>\n",
       "      <td>United Kingdom</td>\n",
       "      <td>39.65</td>\n",
       "      <td>71.43</td>\n",
       "      <td>74.65</td>\n",
       "      <td>36.50</td>\n",
       "      <td>25.03</td>\n",
       "      <td>82.82</td>\n",
       "      <td>18.91</td>\n",
       "      <td>40.93</td>\n",
       "      <td>3</td>\n",
       "      <td>Traditional champions</td>\n",
       "      <td>High</td>\n",
       "      <td>Liberal democracy</td>\n",
       "    </tr>\n",
       "    <tr>\n",
       "      <th>3</th>\n",
       "      <td>Canada</td>\n",
       "      <td>31.28</td>\n",
       "      <td>77.05</td>\n",
       "      <td>93.94</td>\n",
       "      <td>30.67</td>\n",
       "      <td>25.78</td>\n",
       "      <td>100.00</td>\n",
       "      <td>14.88</td>\n",
       "      <td>40.19</td>\n",
       "      <td>1</td>\n",
       "      <td>Traditional champions</td>\n",
       "      <td>High</td>\n",
       "      <td>Liberal democracy</td>\n",
       "    </tr>\n",
       "    <tr>\n",
       "      <th>4</th>\n",
       "      <td>Israel</td>\n",
       "      <td>35.76</td>\n",
       "      <td>67.58</td>\n",
       "      <td>82.44</td>\n",
       "      <td>32.63</td>\n",
       "      <td>27.96</td>\n",
       "      <td>43.91</td>\n",
       "      <td>27.33</td>\n",
       "      <td>39.89</td>\n",
       "      <td>4</td>\n",
       "      <td>Rising stars</td>\n",
       "      <td>High</td>\n",
       "      <td>Liberal democracy</td>\n",
       "    </tr>\n",
       "  </tbody>\n",
       "</table>\n",
       "</div>"
      ],
      "text/plain": [
       "                    Country  Talent  Infrastructure  Operating Environment  \\\n",
       "0  United States of America  100.00           94.02                  64.56   \n",
       "1                     China   16.51          100.00                  91.57   \n",
       "2            United Kingdom   39.65           71.43                  74.65   \n",
       "3                    Canada   31.28           77.05                  93.94   \n",
       "4                    Israel   35.76           67.58                  82.44   \n",
       "\n",
       "   Research  Development  Government Strategy  Commercial  Total score  \\\n",
       "0    100.00       100.00                77.39      100.00       100.00   \n",
       "1     71.42        79.97                94.87       44.02        62.92   \n",
       "2     36.50        25.03                82.82       18.91        40.93   \n",
       "3     30.67        25.78               100.00       14.88        40.19   \n",
       "4     32.63        27.96                43.91       27.33        39.89   \n",
       "\n",
       "   Region                Cluster  Income group   Political regime  \n",
       "0       1          Power players          High  Liberal democracy  \n",
       "1       2          Power players  Upper middle   Closed autocracy  \n",
       "2       3  Traditional champions          High  Liberal democracy  \n",
       "3       1  Traditional champions          High  Liberal democracy  \n",
       "4       4           Rising stars          High  Liberal democracy  "
      ]
     },
     "execution_count": 4,
     "metadata": {},
     "output_type": "execute_result"
    }
   ],
   "source": [
    "from sklearn.preprocessing import LabelEncoder\n",
    "le = LabelEncoder()\n",
    "df['Region'] = le.fit_transform(df['Region'])\n",
    "df['Region'].unique()\n",
    "df.head()"
   ]
  },
  {
   "cell_type": "markdown",
   "id": "832c881a",
   "metadata": {
    "execution": {
     "iopub.execute_input": "2023-06-08T09:09:50.212627Z",
     "iopub.status.busy": "2023-06-08T09:09:50.212171Z",
     "iopub.status.idle": "2023-06-08T09:09:50.238919Z",
     "shell.execute_reply": "2023-06-08T09:09:50.237745Z",
     "shell.execute_reply.started": "2023-06-08T09:09:50.212591Z"
    },
    "papermill": {
     "duration": 0.006543,
     "end_time": "2023-06-08T09:44:55.829258",
     "exception": false,
     "start_time": "2023-06-08T09:44:55.822715",
     "status": "completed"
    },
    "tags": []
   },
   "source": [
    "df['Income group'] = le.fit_transform(df['Income group'])\n",
    "df['Political regime'] = le.fit_transform(df['Political regime'])\n",
    "df.head()"
   ]
  },
  {
   "cell_type": "code",
   "execution_count": 5,
   "id": "d2d2c008",
   "metadata": {
    "execution": {
     "iopub.execute_input": "2023-06-08T09:44:55.841006Z",
     "iopub.status.busy": "2023-06-08T09:44:55.840647Z",
     "iopub.status.idle": "2023-06-08T09:44:55.868230Z",
     "shell.execute_reply": "2023-06-08T09:44:55.866719Z"
    },
    "papermill": {
     "duration": 0.036512,
     "end_time": "2023-06-08T09:44:55.871003",
     "exception": false,
     "start_time": "2023-06-08T09:44:55.834491",
     "status": "completed"
    },
    "tags": []
   },
   "outputs": [
    {
     "name": "stdout",
     "output_type": "stream",
     "text": [
      "<class 'pandas.core.frame.DataFrame'>\n",
      "RangeIndex: 62 entries, 0 to 61\n",
      "Data columns (total 13 columns):\n",
      " #   Column                 Non-Null Count  Dtype  \n",
      "---  ------                 --------------  -----  \n",
      " 0   Country                62 non-null     object \n",
      " 1   Talent                 62 non-null     float64\n",
      " 2   Infrastructure         62 non-null     float64\n",
      " 3   Operating Environment  62 non-null     float64\n",
      " 4   Research               62 non-null     float64\n",
      " 5   Development            62 non-null     float64\n",
      " 6   Government Strategy    62 non-null     float64\n",
      " 7   Commercial             62 non-null     float64\n",
      " 8   Total score            62 non-null     float64\n",
      " 9   Region                 62 non-null     int64  \n",
      " 10  Cluster                62 non-null     object \n",
      " 11  Income group           62 non-null     int64  \n",
      " 12  Political regime       62 non-null     int64  \n",
      "dtypes: float64(8), int64(3), object(2)\n",
      "memory usage: 6.4+ KB\n"
     ]
    }
   ],
   "source": [
    "df['Income group'] = le.fit_transform(df['Income group'])\n",
    "df['Political regime'] = le.fit_transform(df['Political regime'])\n",
    "df.head()\n",
    "df.info()"
   ]
  },
  {
   "cell_type": "code",
   "execution_count": 6,
   "id": "b7990e00",
   "metadata": {
    "execution": {
     "iopub.execute_input": "2023-06-08T09:44:55.883117Z",
     "iopub.status.busy": "2023-06-08T09:44:55.882677Z",
     "iopub.status.idle": "2023-06-08T09:44:56.272465Z",
     "shell.execute_reply": "2023-06-08T09:44:56.271393Z"
    },
    "papermill": {
     "duration": 0.398479,
     "end_time": "2023-06-08T09:44:56.274911",
     "exception": false,
     "start_time": "2023-06-08T09:44:55.876432",
     "status": "completed"
    },
    "tags": []
   },
   "outputs": [],
   "source": [
    "from sklearn.tree import DecisionTreeRegressor\n",
    "from sklearn.model_selection import train_test_split\n",
    "from sklearn.metrics import mean_absolute_error \n",
    "from sklearn.metrics import accuracy_score"
   ]
  },
  {
   "cell_type": "code",
   "execution_count": 7,
   "id": "d25cdae1",
   "metadata": {
    "execution": {
     "iopub.execute_input": "2023-06-08T09:44:56.287377Z",
     "iopub.status.busy": "2023-06-08T09:44:56.286991Z",
     "iopub.status.idle": "2023-06-08T09:44:56.294126Z",
     "shell.execute_reply": "2023-06-08T09:44:56.292794Z"
    },
    "papermill": {
     "duration": 0.016346,
     "end_time": "2023-06-08T09:44:56.296701",
     "exception": false,
     "start_time": "2023-06-08T09:44:56.280355",
     "status": "completed"
    },
    "tags": []
   },
   "outputs": [
    {
     "data": {
      "text/plain": [
       "Index(['Country', 'Talent', 'Infrastructure', 'Operating Environment',\n",
       "       'Research', 'Development', 'Government Strategy', 'Commercial',\n",
       "       'Total score', 'Region', 'Cluster', 'Income group', 'Political regime'],\n",
       "      dtype='object')"
      ]
     },
     "execution_count": 7,
     "metadata": {},
     "output_type": "execute_result"
    }
   ],
   "source": [
    "df.columns"
   ]
  },
  {
   "cell_type": "code",
   "execution_count": 8,
   "id": "09eeef65",
   "metadata": {
    "execution": {
     "iopub.execute_input": "2023-06-08T09:44:56.309072Z",
     "iopub.status.busy": "2023-06-08T09:44:56.308679Z",
     "iopub.status.idle": "2023-06-08T09:44:56.314163Z",
     "shell.execute_reply": "2023-06-08T09:44:56.312534Z"
    },
    "papermill": {
     "duration": 0.01432,
     "end_time": "2023-06-08T09:44:56.316556",
     "exception": false,
     "start_time": "2023-06-08T09:44:56.302236",
     "status": "completed"
    },
    "tags": []
   },
   "outputs": [],
   "source": [
    "feat = ['Talent', 'Infrastructure', 'Operating Environment',\n",
    "       'Research', 'Development', 'Government Strategy', 'Commercial',\n",
    "        'Region', 'Income group']"
   ]
  },
  {
   "cell_type": "code",
   "execution_count": 9,
   "id": "6dd66384",
   "metadata": {
    "execution": {
     "iopub.execute_input": "2023-06-08T09:44:56.328798Z",
     "iopub.status.busy": "2023-06-08T09:44:56.328448Z",
     "iopub.status.idle": "2023-06-08T09:44:56.339116Z",
     "shell.execute_reply": "2023-06-08T09:44:56.337757Z"
    },
    "papermill": {
     "duration": 0.018835,
     "end_time": "2023-06-08T09:44:56.340888",
     "exception": false,
     "start_time": "2023-06-08T09:44:56.322053",
     "status": "completed"
    },
    "tags": []
   },
   "outputs": [],
   "source": [
    "X = df[feat]\n",
    "y = df['Total score']\n",
    "X_train,X_test,y_train,y_test = train_test_split(X,y,test_size=0.25)"
   ]
  },
  {
   "cell_type": "code",
   "execution_count": 10,
   "id": "b4ebbe74",
   "metadata": {
    "execution": {
     "iopub.execute_input": "2023-06-08T09:44:56.353162Z",
     "iopub.status.busy": "2023-06-08T09:44:56.352744Z",
     "iopub.status.idle": "2023-06-08T09:44:56.357103Z",
     "shell.execute_reply": "2023-06-08T09:44:56.356150Z"
    },
    "papermill": {
     "duration": 0.012752,
     "end_time": "2023-06-08T09:44:56.358917",
     "exception": false,
     "start_time": "2023-06-08T09:44:56.346165",
     "status": "completed"
    },
    "tags": []
   },
   "outputs": [],
   "source": [
    "m = DecisionTreeRegressor(random_state=1)"
   ]
  },
  {
   "cell_type": "code",
   "execution_count": 11,
   "id": "bc27f367",
   "metadata": {
    "execution": {
     "iopub.execute_input": "2023-06-08T09:44:56.371256Z",
     "iopub.status.busy": "2023-06-08T09:44:56.370861Z",
     "iopub.status.idle": "2023-06-08T09:44:56.387563Z",
     "shell.execute_reply": "2023-06-08T09:44:56.386596Z"
    },
    "papermill": {
     "duration": 0.025502,
     "end_time": "2023-06-08T09:44:56.389893",
     "exception": false,
     "start_time": "2023-06-08T09:44:56.364391",
     "status": "completed"
    },
    "tags": []
   },
   "outputs": [
    {
     "data": {
      "text/html": [
       "<style>#sk-container-id-1 {color: black;background-color: white;}#sk-container-id-1 pre{padding: 0;}#sk-container-id-1 div.sk-toggleable {background-color: white;}#sk-container-id-1 label.sk-toggleable__label {cursor: pointer;display: block;width: 100%;margin-bottom: 0;padding: 0.3em;box-sizing: border-box;text-align: center;}#sk-container-id-1 label.sk-toggleable__label-arrow:before {content: \"▸\";float: left;margin-right: 0.25em;color: #696969;}#sk-container-id-1 label.sk-toggleable__label-arrow:hover:before {color: black;}#sk-container-id-1 div.sk-estimator:hover label.sk-toggleable__label-arrow:before {color: black;}#sk-container-id-1 div.sk-toggleable__content {max-height: 0;max-width: 0;overflow: hidden;text-align: left;background-color: #f0f8ff;}#sk-container-id-1 div.sk-toggleable__content pre {margin: 0.2em;color: black;border-radius: 0.25em;background-color: #f0f8ff;}#sk-container-id-1 input.sk-toggleable__control:checked~div.sk-toggleable__content {max-height: 200px;max-width: 100%;overflow: auto;}#sk-container-id-1 input.sk-toggleable__control:checked~label.sk-toggleable__label-arrow:before {content: \"▾\";}#sk-container-id-1 div.sk-estimator input.sk-toggleable__control:checked~label.sk-toggleable__label {background-color: #d4ebff;}#sk-container-id-1 div.sk-label input.sk-toggleable__control:checked~label.sk-toggleable__label {background-color: #d4ebff;}#sk-container-id-1 input.sk-hidden--visually {border: 0;clip: rect(1px 1px 1px 1px);clip: rect(1px, 1px, 1px, 1px);height: 1px;margin: -1px;overflow: hidden;padding: 0;position: absolute;width: 1px;}#sk-container-id-1 div.sk-estimator {font-family: monospace;background-color: #f0f8ff;border: 1px dotted black;border-radius: 0.25em;box-sizing: border-box;margin-bottom: 0.5em;}#sk-container-id-1 div.sk-estimator:hover {background-color: #d4ebff;}#sk-container-id-1 div.sk-parallel-item::after {content: \"\";width: 100%;border-bottom: 1px solid gray;flex-grow: 1;}#sk-container-id-1 div.sk-label:hover label.sk-toggleable__label {background-color: #d4ebff;}#sk-container-id-1 div.sk-serial::before {content: \"\";position: absolute;border-left: 1px solid gray;box-sizing: border-box;top: 0;bottom: 0;left: 50%;z-index: 0;}#sk-container-id-1 div.sk-serial {display: flex;flex-direction: column;align-items: center;background-color: white;padding-right: 0.2em;padding-left: 0.2em;position: relative;}#sk-container-id-1 div.sk-item {position: relative;z-index: 1;}#sk-container-id-1 div.sk-parallel {display: flex;align-items: stretch;justify-content: center;background-color: white;position: relative;}#sk-container-id-1 div.sk-item::before, #sk-container-id-1 div.sk-parallel-item::before {content: \"\";position: absolute;border-left: 1px solid gray;box-sizing: border-box;top: 0;bottom: 0;left: 50%;z-index: -1;}#sk-container-id-1 div.sk-parallel-item {display: flex;flex-direction: column;z-index: 1;position: relative;background-color: white;}#sk-container-id-1 div.sk-parallel-item:first-child::after {align-self: flex-end;width: 50%;}#sk-container-id-1 div.sk-parallel-item:last-child::after {align-self: flex-start;width: 50%;}#sk-container-id-1 div.sk-parallel-item:only-child::after {width: 0;}#sk-container-id-1 div.sk-dashed-wrapped {border: 1px dashed gray;margin: 0 0.4em 0.5em 0.4em;box-sizing: border-box;padding-bottom: 0.4em;background-color: white;}#sk-container-id-1 div.sk-label label {font-family: monospace;font-weight: bold;display: inline-block;line-height: 1.2em;}#sk-container-id-1 div.sk-label-container {text-align: center;}#sk-container-id-1 div.sk-container {/* jupyter's `normalize.less` sets `[hidden] { display: none; }` but bootstrap.min.css set `[hidden] { display: none !important; }` so we also need the `!important` here to be able to override the default hidden behavior on the sphinx rendered scikit-learn.org. See: https://github.com/scikit-learn/scikit-learn/issues/21755 */display: inline-block !important;position: relative;}#sk-container-id-1 div.sk-text-repr-fallback {display: none;}</style><div id=\"sk-container-id-1\" class=\"sk-top-container\"><div class=\"sk-text-repr-fallback\"><pre>DecisionTreeRegressor(random_state=1)</pre><b>In a Jupyter environment, please rerun this cell to show the HTML representation or trust the notebook. <br />On GitHub, the HTML representation is unable to render, please try loading this page with nbviewer.org.</b></div><div class=\"sk-container\" hidden><div class=\"sk-item\"><div class=\"sk-estimator sk-toggleable\"><input class=\"sk-toggleable__control sk-hidden--visually\" id=\"sk-estimator-id-1\" type=\"checkbox\" checked><label for=\"sk-estimator-id-1\" class=\"sk-toggleable__label sk-toggleable__label-arrow\">DecisionTreeRegressor</label><div class=\"sk-toggleable__content\"><pre>DecisionTreeRegressor(random_state=1)</pre></div></div></div></div></div>"
      ],
      "text/plain": [
       "DecisionTreeRegressor(random_state=1)"
      ]
     },
     "execution_count": 11,
     "metadata": {},
     "output_type": "execute_result"
    }
   ],
   "source": [
    "m.fit(X_train,y_train)\n"
   ]
  },
  {
   "cell_type": "code",
   "execution_count": 12,
   "id": "1609853a",
   "metadata": {
    "execution": {
     "iopub.execute_input": "2023-06-08T09:44:56.403311Z",
     "iopub.status.busy": "2023-06-08T09:44:56.402776Z",
     "iopub.status.idle": "2023-06-08T09:44:56.408478Z",
     "shell.execute_reply": "2023-06-08T09:44:56.407523Z"
    },
    "papermill": {
     "duration": 0.014619,
     "end_time": "2023-06-08T09:44:56.410376",
     "exception": false,
     "start_time": "2023-06-08T09:44:56.395757",
     "status": "completed"
    },
    "tags": []
   },
   "outputs": [],
   "source": [
    "p = m.predict(X_test)"
   ]
  },
  {
   "cell_type": "code",
   "execution_count": 13,
   "id": "95a5e777",
   "metadata": {
    "execution": {
     "iopub.execute_input": "2023-06-08T09:44:56.423743Z",
     "iopub.status.busy": "2023-06-08T09:44:56.423273Z",
     "iopub.status.idle": "2023-06-08T09:44:56.428497Z",
     "shell.execute_reply": "2023-06-08T09:44:56.427158Z"
    },
    "papermill": {
     "duration": 0.014307,
     "end_time": "2023-06-08T09:44:56.430577",
     "exception": false,
     "start_time": "2023-06-08T09:44:56.416270",
     "status": "completed"
    },
    "tags": []
   },
   "outputs": [
    {
     "name": "stdout",
     "output_type": "stream",
     "text": [
      "9.625625\n"
     ]
    }
   ],
   "source": [
    "print(mean_absolute_error(y_test,p))\n"
   ]
  },
  {
   "cell_type": "code",
   "execution_count": 14,
   "id": "931d94f2",
   "metadata": {
    "execution": {
     "iopub.execute_input": "2023-06-08T09:44:56.443745Z",
     "iopub.status.busy": "2023-06-08T09:44:56.443218Z",
     "iopub.status.idle": "2023-06-08T09:44:56.446820Z",
     "shell.execute_reply": "2023-06-08T09:44:56.446112Z"
    },
    "papermill": {
     "duration": 0.012781,
     "end_time": "2023-06-08T09:44:56.449104",
     "exception": false,
     "start_time": "2023-06-08T09:44:56.436323",
     "status": "completed"
    },
    "tags": []
   },
   "outputs": [],
   "source": [
    "from sklearn.linear_model import LinearRegression\n",
    "m1 = LinearRegression()"
   ]
  },
  {
   "cell_type": "code",
   "execution_count": 15,
   "id": "ee065ffd",
   "metadata": {
    "execution": {
     "iopub.execute_input": "2023-06-08T09:44:56.462892Z",
     "iopub.status.busy": "2023-06-08T09:44:56.462058Z",
     "iopub.status.idle": "2023-06-08T09:44:56.490176Z",
     "shell.execute_reply": "2023-06-08T09:44:56.489271Z"
    },
    "papermill": {
     "duration": 0.037608,
     "end_time": "2023-06-08T09:44:56.492521",
     "exception": false,
     "start_time": "2023-06-08T09:44:56.454913",
     "status": "completed"
    },
    "tags": []
   },
   "outputs": [
    {
     "data": {
      "text/html": [
       "<style>#sk-container-id-2 {color: black;background-color: white;}#sk-container-id-2 pre{padding: 0;}#sk-container-id-2 div.sk-toggleable {background-color: white;}#sk-container-id-2 label.sk-toggleable__label {cursor: pointer;display: block;width: 100%;margin-bottom: 0;padding: 0.3em;box-sizing: border-box;text-align: center;}#sk-container-id-2 label.sk-toggleable__label-arrow:before {content: \"▸\";float: left;margin-right: 0.25em;color: #696969;}#sk-container-id-2 label.sk-toggleable__label-arrow:hover:before {color: black;}#sk-container-id-2 div.sk-estimator:hover label.sk-toggleable__label-arrow:before {color: black;}#sk-container-id-2 div.sk-toggleable__content {max-height: 0;max-width: 0;overflow: hidden;text-align: left;background-color: #f0f8ff;}#sk-container-id-2 div.sk-toggleable__content pre {margin: 0.2em;color: black;border-radius: 0.25em;background-color: #f0f8ff;}#sk-container-id-2 input.sk-toggleable__control:checked~div.sk-toggleable__content {max-height: 200px;max-width: 100%;overflow: auto;}#sk-container-id-2 input.sk-toggleable__control:checked~label.sk-toggleable__label-arrow:before {content: \"▾\";}#sk-container-id-2 div.sk-estimator input.sk-toggleable__control:checked~label.sk-toggleable__label {background-color: #d4ebff;}#sk-container-id-2 div.sk-label input.sk-toggleable__control:checked~label.sk-toggleable__label {background-color: #d4ebff;}#sk-container-id-2 input.sk-hidden--visually {border: 0;clip: rect(1px 1px 1px 1px);clip: rect(1px, 1px, 1px, 1px);height: 1px;margin: -1px;overflow: hidden;padding: 0;position: absolute;width: 1px;}#sk-container-id-2 div.sk-estimator {font-family: monospace;background-color: #f0f8ff;border: 1px dotted black;border-radius: 0.25em;box-sizing: border-box;margin-bottom: 0.5em;}#sk-container-id-2 div.sk-estimator:hover {background-color: #d4ebff;}#sk-container-id-2 div.sk-parallel-item::after {content: \"\";width: 100%;border-bottom: 1px solid gray;flex-grow: 1;}#sk-container-id-2 div.sk-label:hover label.sk-toggleable__label {background-color: #d4ebff;}#sk-container-id-2 div.sk-serial::before {content: \"\";position: absolute;border-left: 1px solid gray;box-sizing: border-box;top: 0;bottom: 0;left: 50%;z-index: 0;}#sk-container-id-2 div.sk-serial {display: flex;flex-direction: column;align-items: center;background-color: white;padding-right: 0.2em;padding-left: 0.2em;position: relative;}#sk-container-id-2 div.sk-item {position: relative;z-index: 1;}#sk-container-id-2 div.sk-parallel {display: flex;align-items: stretch;justify-content: center;background-color: white;position: relative;}#sk-container-id-2 div.sk-item::before, #sk-container-id-2 div.sk-parallel-item::before {content: \"\";position: absolute;border-left: 1px solid gray;box-sizing: border-box;top: 0;bottom: 0;left: 50%;z-index: -1;}#sk-container-id-2 div.sk-parallel-item {display: flex;flex-direction: column;z-index: 1;position: relative;background-color: white;}#sk-container-id-2 div.sk-parallel-item:first-child::after {align-self: flex-end;width: 50%;}#sk-container-id-2 div.sk-parallel-item:last-child::after {align-self: flex-start;width: 50%;}#sk-container-id-2 div.sk-parallel-item:only-child::after {width: 0;}#sk-container-id-2 div.sk-dashed-wrapped {border: 1px dashed gray;margin: 0 0.4em 0.5em 0.4em;box-sizing: border-box;padding-bottom: 0.4em;background-color: white;}#sk-container-id-2 div.sk-label label {font-family: monospace;font-weight: bold;display: inline-block;line-height: 1.2em;}#sk-container-id-2 div.sk-label-container {text-align: center;}#sk-container-id-2 div.sk-container {/* jupyter's `normalize.less` sets `[hidden] { display: none; }` but bootstrap.min.css set `[hidden] { display: none !important; }` so we also need the `!important` here to be able to override the default hidden behavior on the sphinx rendered scikit-learn.org. See: https://github.com/scikit-learn/scikit-learn/issues/21755 */display: inline-block !important;position: relative;}#sk-container-id-2 div.sk-text-repr-fallback {display: none;}</style><div id=\"sk-container-id-2\" class=\"sk-top-container\"><div class=\"sk-text-repr-fallback\"><pre>LinearRegression()</pre><b>In a Jupyter environment, please rerun this cell to show the HTML representation or trust the notebook. <br />On GitHub, the HTML representation is unable to render, please try loading this page with nbviewer.org.</b></div><div class=\"sk-container\" hidden><div class=\"sk-item\"><div class=\"sk-estimator sk-toggleable\"><input class=\"sk-toggleable__control sk-hidden--visually\" id=\"sk-estimator-id-2\" type=\"checkbox\" checked><label for=\"sk-estimator-id-2\" class=\"sk-toggleable__label sk-toggleable__label-arrow\">LinearRegression</label><div class=\"sk-toggleable__content\"><pre>LinearRegression()</pre></div></div></div></div></div>"
      ],
      "text/plain": [
       "LinearRegression()"
      ]
     },
     "execution_count": 15,
     "metadata": {},
     "output_type": "execute_result"
    }
   ],
   "source": [
    "m1.fit(X_train,y_train)"
   ]
  },
  {
   "cell_type": "code",
   "execution_count": 16,
   "id": "702cc036",
   "metadata": {
    "execution": {
     "iopub.execute_input": "2023-06-08T09:44:56.505791Z",
     "iopub.status.busy": "2023-06-08T09:44:56.505220Z",
     "iopub.status.idle": "2023-06-08T09:44:56.511943Z",
     "shell.execute_reply": "2023-06-08T09:44:56.510434Z"
    },
    "papermill": {
     "duration": 0.016226,
     "end_time": "2023-06-08T09:44:56.514570",
     "exception": false,
     "start_time": "2023-06-08T09:44:56.498344",
     "status": "completed"
    },
    "tags": []
   },
   "outputs": [],
   "source": [
    "p1 = m1.predict(X_test)"
   ]
  },
  {
   "cell_type": "code",
   "execution_count": 17,
   "id": "f9df4c37",
   "metadata": {
    "execution": {
     "iopub.execute_input": "2023-06-08T09:44:56.528200Z",
     "iopub.status.busy": "2023-06-08T09:44:56.527827Z",
     "iopub.status.idle": "2023-06-08T09:44:56.533058Z",
     "shell.execute_reply": "2023-06-08T09:44:56.531839Z"
    },
    "papermill": {
     "duration": 0.01413,
     "end_time": "2023-06-08T09:44:56.534694",
     "exception": false,
     "start_time": "2023-06-08T09:44:56.520564",
     "status": "completed"
    },
    "tags": []
   },
   "outputs": [
    {
     "name": "stdout",
     "output_type": "stream",
     "text": [
      "0.0039804170231183544\n"
     ]
    }
   ],
   "source": [
    "print(mean_absolute_error(y_test,p1))"
   ]
  },
  {
   "cell_type": "code",
   "execution_count": 18,
   "id": "32275cf6",
   "metadata": {
    "execution": {
     "iopub.execute_input": "2023-06-08T09:44:56.548808Z",
     "iopub.status.busy": "2023-06-08T09:44:56.547750Z",
     "iopub.status.idle": "2023-06-08T09:44:56.553675Z",
     "shell.execute_reply": "2023-06-08T09:44:56.552823Z"
    },
    "papermill": {
     "duration": 0.01476,
     "end_time": "2023-06-08T09:44:56.555523",
     "exception": false,
     "start_time": "2023-06-08T09:44:56.540763",
     "status": "completed"
    },
    "tags": []
   },
   "outputs": [
    {
     "name": "stdout",
     "output_type": "stream",
     "text": [
      "0.999999886337261\n"
     ]
    }
   ],
   "source": [
    "from sklearn.metrics import r2_score\n",
    "print(r2_score(y_test,p1))"
   ]
  },
  {
   "cell_type": "code",
   "execution_count": null,
   "id": "de1d73d9",
   "metadata": {
    "papermill": {
     "duration": 0.005635,
     "end_time": "2023-06-08T09:44:56.567269",
     "exception": false,
     "start_time": "2023-06-08T09:44:56.561634",
     "status": "completed"
    },
    "tags": []
   },
   "outputs": [],
   "source": []
  }
 ],
 "metadata": {
  "kernelspec": {
   "display_name": "Python 3",
   "language": "python",
   "name": "python3"
  },
  "language_info": {
   "codemirror_mode": {
    "name": "ipython",
    "version": 3
   },
   "file_extension": ".py",
   "mimetype": "text/x-python",
   "name": "python",
   "nbconvert_exporter": "python",
   "pygments_lexer": "ipython3",
   "version": "3.10.10"
  },
  "papermill": {
   "default_parameters": {},
   "duration": 14.43651,
   "end_time": "2023-06-08T09:44:57.495095",
   "environment_variables": {},
   "exception": null,
   "input_path": "__notebook__.ipynb",
   "output_path": "__notebook__.ipynb",
   "parameters": {},
   "start_time": "2023-06-08T09:44:43.058585",
   "version": "2.4.0"
  }
 },
 "nbformat": 4,
 "nbformat_minor": 5
}
