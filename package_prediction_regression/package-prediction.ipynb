{
 "cells": [
  {
   "cell_type": "markdown",
   "id": "839a294d",
   "metadata": {
    "papermill": {
     "duration": 0.009684,
     "end_time": "2023-04-13T08:30:36.910179",
     "exception": false,
     "start_time": "2023-04-13T08:30:36.900495",
     "status": "completed"
    },
    "tags": []
   },
   "source": [
    "# Simple Linear Regression\n",
    "\n",
    "In this notebook, a simple linear regression model is built to predict the package using cgpa.\n",
    "\n",
    "1. Reading and Understanding the Data\n",
    "2. Training the model\n",
    "3. Residual Analysis\n",
    "4. Predicting and Evaluating the model on the test set."
   ]
  },
  {
   "cell_type": "markdown",
   "id": "cb99c3d7",
   "metadata": {
    "papermill": {
     "duration": 0.008883,
     "end_time": "2023-04-13T08:30:36.927565",
     "exception": false,
     "start_time": "2023-04-13T08:30:36.918682",
     "status": "completed"
    },
    "tags": []
   },
   "source": [
    "## Step 1: Reading and Understanding the Data"
   ]
  },
  {
   "cell_type": "code",
   "execution_count": 1,
   "id": "fb9b243b",
   "metadata": {
    "execution": {
     "iopub.execute_input": "2023-04-13T08:30:36.947519Z",
     "iopub.status.busy": "2023-04-13T08:30:36.946682Z",
     "iopub.status.idle": "2023-04-13T08:30:39.028221Z",
     "shell.execute_reply": "2023-04-13T08:30:39.026395Z"
    },
    "papermill": {
     "duration": 2.095143,
     "end_time": "2023-04-13T08:30:39.031336",
     "exception": false,
     "start_time": "2023-04-13T08:30:36.936193",
     "status": "completed"
    },
    "tags": []
   },
   "outputs": [],
   "source": [
    "# import warnings\n",
    "import warnings\n",
    "warnings.filterwarnings('ignore')\n",
    "\n",
    "# import important libraries\n",
    "import numpy as np\n",
    "import pandas as pd\n",
    "import matplotlib.pyplot as plt\n",
    "import seaborn as sns\n",
    "\n",
    "import sklearn\n",
    "from sklearn.model_selection import train_test_split\n",
    "from sklearn.linear_model import LinearRegression\n",
    "from sklearn.metrics import r2_score"
   ]
  },
  {
   "cell_type": "code",
   "execution_count": 2,
   "id": "d8b7d8ea",
   "metadata": {
    "execution": {
     "iopub.execute_input": "2023-04-13T08:30:39.048734Z",
     "iopub.status.busy": "2023-04-13T08:30:39.048256Z",
     "iopub.status.idle": "2023-04-13T08:30:39.099805Z",
     "shell.execute_reply": "2023-04-13T08:30:39.098536Z"
    },
    "papermill": {
     "duration": 0.064603,
     "end_time": "2023-04-13T08:30:39.103341",
     "exception": false,
     "start_time": "2023-04-13T08:30:39.038738",
     "status": "completed"
    },
    "tags": []
   },
   "outputs": [
    {
     "data": {
      "text/html": [
       "<div>\n",
       "<style scoped>\n",
       "    .dataframe tbody tr th:only-of-type {\n",
       "        vertical-align: middle;\n",
       "    }\n",
       "\n",
       "    .dataframe tbody tr th {\n",
       "        vertical-align: top;\n",
       "    }\n",
       "\n",
       "    .dataframe thead th {\n",
       "        text-align: right;\n",
       "    }\n",
       "</style>\n",
       "<table border=\"1\" class=\"dataframe\">\n",
       "  <thead>\n",
       "    <tr style=\"text-align: right;\">\n",
       "      <th></th>\n",
       "      <th>cgpa</th>\n",
       "      <th>package</th>\n",
       "    </tr>\n",
       "  </thead>\n",
       "  <tbody>\n",
       "    <tr>\n",
       "      <th>0</th>\n",
       "      <td>6.89</td>\n",
       "      <td>3.26</td>\n",
       "    </tr>\n",
       "    <tr>\n",
       "      <th>1</th>\n",
       "      <td>5.12</td>\n",
       "      <td>1.98</td>\n",
       "    </tr>\n",
       "    <tr>\n",
       "      <th>2</th>\n",
       "      <td>7.82</td>\n",
       "      <td>3.25</td>\n",
       "    </tr>\n",
       "    <tr>\n",
       "      <th>3</th>\n",
       "      <td>7.42</td>\n",
       "      <td>3.67</td>\n",
       "    </tr>\n",
       "    <tr>\n",
       "      <th>4</th>\n",
       "      <td>6.94</td>\n",
       "      <td>3.57</td>\n",
       "    </tr>\n",
       "  </tbody>\n",
       "</table>\n",
       "</div>"
      ],
      "text/plain": [
       "   cgpa  package\n",
       "0  6.89     3.26\n",
       "1  5.12     1.98\n",
       "2  7.82     3.25\n",
       "3  7.42     3.67\n",
       "4  6.94     3.57"
      ]
     },
     "execution_count": 2,
     "metadata": {},
     "output_type": "execute_result"
    }
   ],
   "source": [
    "# import the data\n",
    "data = pd.read_csv('/kaggle/input/cgpa-vs-package-in-lpa/placement.csv')\n",
    "data.head()"
   ]
  },
  {
   "cell_type": "code",
   "execution_count": 3,
   "id": "aa3f0b09",
   "metadata": {
    "execution": {
     "iopub.execute_input": "2023-04-13T08:30:39.122687Z",
     "iopub.status.busy": "2023-04-13T08:30:39.121654Z",
     "iopub.status.idle": "2023-04-13T08:30:39.131007Z",
     "shell.execute_reply": "2023-04-13T08:30:39.129598Z"
    },
    "papermill": {
     "duration": 0.022178,
     "end_time": "2023-04-13T08:30:39.133860",
     "exception": false,
     "start_time": "2023-04-13T08:30:39.111682",
     "status": "completed"
    },
    "tags": []
   },
   "outputs": [
    {
     "data": {
      "text/plain": [
       "(200, 2)"
      ]
     },
     "execution_count": 3,
     "metadata": {},
     "output_type": "execute_result"
    }
   ],
   "source": [
    "# let's look at the shape of the data\n",
    "data.shape"
   ]
  },
  {
   "cell_type": "markdown",
   "id": "7175ffa2",
   "metadata": {
    "papermill": {
     "duration": 0.008082,
     "end_time": "2023-04-13T08:30:39.149701",
     "exception": false,
     "start_time": "2023-04-13T08:30:39.141619",
     "status": "completed"
    },
    "tags": []
   },
   "source": [
    "There are 200 rows and 2 columns in the data."
   ]
  },
  {
   "cell_type": "code",
   "execution_count": 4,
   "id": "1fdcc954",
   "metadata": {
    "execution": {
     "iopub.execute_input": "2023-04-13T08:30:39.168582Z",
     "iopub.status.busy": "2023-04-13T08:30:39.167660Z",
     "iopub.status.idle": "2023-04-13T08:30:39.196550Z",
     "shell.execute_reply": "2023-04-13T08:30:39.194192Z"
    },
    "papermill": {
     "duration": 0.041975,
     "end_time": "2023-04-13T08:30:39.199705",
     "exception": false,
     "start_time": "2023-04-13T08:30:39.157730",
     "status": "completed"
    },
    "tags": []
   },
   "outputs": [
    {
     "name": "stdout",
     "output_type": "stream",
     "text": [
      "<class 'pandas.core.frame.DataFrame'>\n",
      "RangeIndex: 200 entries, 0 to 199\n",
      "Data columns (total 2 columns):\n",
      " #   Column   Non-Null Count  Dtype  \n",
      "---  ------   --------------  -----  \n",
      " 0   cgpa     200 non-null    float64\n",
      " 1   package  200 non-null    float64\n",
      "dtypes: float64(2)\n",
      "memory usage: 3.2 KB\n"
     ]
    }
   ],
   "source": [
    "# info of the data\n",
    "data.info()"
   ]
  },
  {
   "cell_type": "code",
   "execution_count": 5,
   "id": "e640dd6e",
   "metadata": {
    "execution": {
     "iopub.execute_input": "2023-04-13T08:30:39.221348Z",
     "iopub.status.busy": "2023-04-13T08:30:39.220900Z",
     "iopub.status.idle": "2023-04-13T08:30:39.243124Z",
     "shell.execute_reply": "2023-04-13T08:30:39.242070Z"
    },
    "papermill": {
     "duration": 0.035912,
     "end_time": "2023-04-13T08:30:39.245741",
     "exception": false,
     "start_time": "2023-04-13T08:30:39.209829",
     "status": "completed"
    },
    "tags": []
   },
   "outputs": [
    {
     "data": {
      "text/html": [
       "<div>\n",
       "<style scoped>\n",
       "    .dataframe tbody tr th:only-of-type {\n",
       "        vertical-align: middle;\n",
       "    }\n",
       "\n",
       "    .dataframe tbody tr th {\n",
       "        vertical-align: top;\n",
       "    }\n",
       "\n",
       "    .dataframe thead th {\n",
       "        text-align: right;\n",
       "    }\n",
       "</style>\n",
       "<table border=\"1\" class=\"dataframe\">\n",
       "  <thead>\n",
       "    <tr style=\"text-align: right;\">\n",
       "      <th></th>\n",
       "      <th>cgpa</th>\n",
       "      <th>package</th>\n",
       "    </tr>\n",
       "  </thead>\n",
       "  <tbody>\n",
       "    <tr>\n",
       "      <th>count</th>\n",
       "      <td>200.000000</td>\n",
       "      <td>200.000000</td>\n",
       "    </tr>\n",
       "    <tr>\n",
       "      <th>mean</th>\n",
       "      <td>6.990500</td>\n",
       "      <td>2.996050</td>\n",
       "    </tr>\n",
       "    <tr>\n",
       "      <th>std</th>\n",
       "      <td>1.069409</td>\n",
       "      <td>0.691644</td>\n",
       "    </tr>\n",
       "    <tr>\n",
       "      <th>min</th>\n",
       "      <td>4.260000</td>\n",
       "      <td>1.370000</td>\n",
       "    </tr>\n",
       "    <tr>\n",
       "      <th>25%</th>\n",
       "      <td>6.190000</td>\n",
       "      <td>2.487500</td>\n",
       "    </tr>\n",
       "    <tr>\n",
       "      <th>50%</th>\n",
       "      <td>6.965000</td>\n",
       "      <td>2.995000</td>\n",
       "    </tr>\n",
       "    <tr>\n",
       "      <th>75%</th>\n",
       "      <td>7.737500</td>\n",
       "      <td>3.492500</td>\n",
       "    </tr>\n",
       "    <tr>\n",
       "      <th>max</th>\n",
       "      <td>9.580000</td>\n",
       "      <td>4.620000</td>\n",
       "    </tr>\n",
       "  </tbody>\n",
       "</table>\n",
       "</div>"
      ],
      "text/plain": [
       "             cgpa     package\n",
       "count  200.000000  200.000000\n",
       "mean     6.990500    2.996050\n",
       "std      1.069409    0.691644\n",
       "min      4.260000    1.370000\n",
       "25%      6.190000    2.487500\n",
       "50%      6.965000    2.995000\n",
       "75%      7.737500    3.492500\n",
       "max      9.580000    4.620000"
      ]
     },
     "execution_count": 5,
     "metadata": {},
     "output_type": "execute_result"
    }
   ],
   "source": [
    "# statistical summary of the data\n",
    "data.describe()"
   ]
  },
  {
   "cell_type": "code",
   "execution_count": 6,
   "id": "f73679f7",
   "metadata": {
    "execution": {
     "iopub.execute_input": "2023-04-13T08:30:39.265079Z",
     "iopub.status.busy": "2023-04-13T08:30:39.263932Z",
     "iopub.status.idle": "2023-04-13T08:30:39.274428Z",
     "shell.execute_reply": "2023-04-13T08:30:39.273116Z"
    },
    "papermill": {
     "duration": 0.022769,
     "end_time": "2023-04-13T08:30:39.277199",
     "exception": false,
     "start_time": "2023-04-13T08:30:39.254430",
     "status": "completed"
    },
    "tags": []
   },
   "outputs": [
    {
     "data": {
      "text/plain": [
       "cgpa       0\n",
       "package    0\n",
       "dtype: int64"
      ]
     },
     "execution_count": 6,
     "metadata": {},
     "output_type": "execute_result"
    }
   ],
   "source": [
    "# missing values in the data\n",
    "data.isnull().sum()"
   ]
  },
  {
   "cell_type": "markdown",
   "id": "ac2d6cfb",
   "metadata": {
    "papermill": {
     "duration": 0.007564,
     "end_time": "2023-04-13T08:30:39.293024",
     "exception": false,
     "start_time": "2023-04-13T08:30:39.285460",
     "status": "completed"
    },
    "tags": []
   },
   "source": [
    "There are no missing values in the data."
   ]
  },
  {
   "cell_type": "code",
   "execution_count": 7,
   "id": "24036edd",
   "metadata": {
    "execution": {
     "iopub.execute_input": "2023-04-13T08:30:39.311587Z",
     "iopub.status.busy": "2023-04-13T08:30:39.310631Z",
     "iopub.status.idle": "2023-04-13T08:30:39.708425Z",
     "shell.execute_reply": "2023-04-13T08:30:39.706687Z"
    },
    "papermill": {
     "duration": 0.411062,
     "end_time": "2023-04-13T08:30:39.712019",
     "exception": false,
     "start_time": "2023-04-13T08:30:39.300957",
     "status": "completed"
    },
    "tags": []
   },
   "outputs": [
    {
     "data": {
      "image/png": "[encoded data removed]",
      "text/plain": [
       "<Figure size 640x480 with 1 Axes>"
      ]
     },
     "metadata": {},
     "output_type": "display_data"
    }
   ],
   "source": [
    "# Visualize the data\n",
    "sns.regplot(x = data['cgpa'], y = data['package'])\n",
    "plt.show()"
   ]
  },
  {
   "cell_type": "markdown",
   "id": "31325ace",
   "metadata": {
    "papermill": {
     "duration": 0.009195,
     "end_time": "2023-04-13T08:30:39.730899",
     "exception": false,
     "start_time": "2023-04-13T08:30:39.721704",
     "status": "completed"
    },
    "tags": []
   },
   "source": [
    "From the above graph, it is clear that cgpa and package are linearly correlated."
   ]
  },
  {
   "cell_type": "markdown",
   "id": "ea6f590c",
   "metadata": {
    "papermill": {
     "duration": 0.009066,
     "end_time": "2023-04-13T08:30:39.749415",
     "exception": false,
     "start_time": "2023-04-13T08:30:39.740349",
     "status": "completed"
    },
    "tags": []
   },
   "source": [
    "## Step 2: Performing Simple Linear Regression"
   ]
  },
  {
   "cell_type": "markdown",
   "id": "d8102a4e",
   "metadata": {
    "papermill": {
     "duration": 0.008544,
     "end_time": "2023-04-13T08:30:39.767755",
     "exception": false,
     "start_time": "2023-04-13T08:30:39.759211",
     "status": "completed"
    },
    "tags": []
   },
   "source": [
    "## Steps of Model Building\n",
    "\n",
    "- Create X and y\n",
    "- Create train and test sets\n",
    "- Train the model on training set (i.e. learn the coefficients)\n",
    "- Evaluate the model on training set and test set"
   ]
  },
  {
   "cell_type": "code",
   "execution_count": 8,
   "id": "808f3511",
   "metadata": {
    "execution": {
     "iopub.execute_input": "2023-04-13T08:30:39.787151Z",
     "iopub.status.busy": "2023-04-13T08:30:39.786733Z",
     "iopub.status.idle": "2023-04-13T08:30:39.792468Z",
     "shell.execute_reply": "2023-04-13T08:30:39.791062Z"
    },
    "papermill": {
     "duration": 0.018748,
     "end_time": "2023-04-13T08:30:39.795217",
     "exception": false,
     "start_time": "2023-04-13T08:30:39.776469",
     "status": "completed"
    },
    "tags": []
   },
   "outputs": [],
   "source": [
    "# create X and y\n",
    "# 'cgpa' is an independent variable and 'package' is a dependent variable\n",
    "X = data['cgpa']\n",
    "y = data['package']"
   ]
  },
  {
   "cell_type": "code",
   "execution_count": 9,
   "id": "73aa4b79",
   "metadata": {
    "execution": {
     "iopub.execute_input": "2023-04-13T08:30:39.815339Z",
     "iopub.status.busy": "2023-04-13T08:30:39.814868Z",
     "iopub.status.idle": "2023-04-13T08:30:39.826656Z",
     "shell.execute_reply": "2023-04-13T08:30:39.824856Z"
    },
    "papermill": {
     "duration": 0.025189,
     "end_time": "2023-04-13T08:30:39.829438",
     "exception": false,
     "start_time": "2023-04-13T08:30:39.804249",
     "status": "completed"
    },
    "tags": []
   },
   "outputs": [
    {
     "name": "stdout",
     "output_type": "stream",
     "text": [
      "The shape of X_train is (140,)\n",
      "The shape of X_test is (60,)\n",
      "The shape of y_train is (140,)\n",
      "The shape of y_test is (60,)\n"
     ]
    }
   ],
   "source": [
    "# train test split\n",
    "X_train, X_test, y_train, y_test = train_test_split(X, y, train_size = 0.7, random_state = 100)\n",
    "\n",
    "print('The shape of X_train is', X_train.shape)\n",
    "print('The shape of X_test is', X_test.shape)\n",
    "print('The shape of y_train is', y_train.shape)\n",
    "print('The shape of y_test is', y_test.shape)"
   ]
  },
  {
   "cell_type": "code",
   "execution_count": 10,
   "id": "45f3f758",
   "metadata": {
    "execution": {
     "iopub.execute_input": "2023-04-13T08:30:39.850147Z",
     "iopub.status.busy": "2023-04-13T08:30:39.849711Z",
     "iopub.status.idle": "2023-04-13T08:30:39.857385Z",
     "shell.execute_reply": "2023-04-13T08:30:39.855622Z"
    },
    "papermill": {
     "duration": 0.022443,
     "end_time": "2023-04-13T08:30:39.861185",
     "exception": false,
     "start_time": "2023-04-13T08:30:39.838742",
     "status": "completed"
    },
    "tags": []
   },
   "outputs": [
    {
     "name": "stdout",
     "output_type": "stream",
     "text": [
      "The shape of X_train_lm is (140, 1)\n",
      "The shape of X_test_lm is (60, 1)\n"
     ]
    }
   ],
   "source": [
    "# X_train and X_test are a series and we want to convert them to the 2D array for model building\n",
    "# reshape X_train and X_test to (n,1)\n",
    "X_train_lm = X_train.values.reshape(-1, 1)\n",
    "print('The shape of X_train_lm is', X_train_lm.shape)\n",
    "X_test_lm = X_test.values.reshape(-1, 1)\n",
    "print('The shape of X_test_lm is', X_test_lm.shape)"
   ]
  },
  {
   "cell_type": "markdown",
   "id": "68dfefcc",
   "metadata": {
    "papermill": {
     "duration": 0.008998,
     "end_time": "2023-04-13T08:30:39.880547",
     "exception": false,
     "start_time": "2023-04-13T08:30:39.871549",
     "status": "completed"
    },
    "tags": []
   },
   "source": [
    "### steps in sklearn model building\n",
    "\n",
    "1. Create an object of linear regression\n",
    "2. fit the model\n",
    "3. see the parameters\n",
    "4. make predictions\n",
    "5. Evaluate the model"
   ]
  },
  {
   "cell_type": "code",
   "execution_count": 11,
   "id": "3a7ee7bc",
   "metadata": {
    "execution": {
     "iopub.execute_input": "2023-04-13T08:30:39.902761Z",
     "iopub.status.busy": "2023-04-13T08:30:39.902163Z",
     "iopub.status.idle": "2023-04-13T08:30:39.908798Z",
     "shell.execute_reply": "2023-04-13T08:30:39.906952Z"
    },
    "papermill": {
     "duration": 0.022881,
     "end_time": "2023-04-13T08:30:39.913373",
     "exception": false,
     "start_time": "2023-04-13T08:30:39.890492",
     "status": "completed"
    },
    "tags": []
   },
   "outputs": [],
   "source": [
    "# create an object of linear regression\n",
    "lm = LinearRegression()"
   ]
  },
  {
   "cell_type": "code",
   "execution_count": 12,
   "id": "aa6501d3",
   "metadata": {
    "execution": {
     "iopub.execute_input": "2023-04-13T08:30:39.937649Z",
     "iopub.status.busy": "2023-04-13T08:30:39.936668Z",
     "iopub.status.idle": "2023-04-13T08:30:39.958376Z",
     "shell.execute_reply": "2023-04-13T08:30:39.957131Z"
    },
    "papermill": {
     "duration": 0.036442,
     "end_time": "2023-04-13T08:30:39.961462",
     "exception": false,
     "start_time": "2023-04-13T08:30:39.925020",
     "status": "completed"
    },
    "tags": []
   },
   "outputs": [
    {
     "data": {
      "text/plain": [
       "LinearRegression()"
      ]
     },
     "execution_count": 12,
     "metadata": {},
     "output_type": "execute_result"
    }
   ],
   "source": [
    "# fit the model\n",
    "lm.fit(X_train_lm, y_train)"
   ]
  },
  {
   "cell_type": "code",
   "execution_count": 13,
   "id": "f195c615",
   "metadata": {
    "execution": {
     "iopub.execute_input": "2023-04-13T08:30:39.984113Z",
     "iopub.status.busy": "2023-04-13T08:30:39.983141Z",
     "iopub.status.idle": "2023-04-13T08:30:39.993865Z",
     "shell.execute_reply": "2023-04-13T08:30:39.991634Z"
    },
    "papermill": {
     "duration": 0.026801,
     "end_time": "2023-04-13T08:30:39.997915",
     "exception": false,
     "start_time": "2023-04-13T08:30:39.971114",
     "status": "completed"
    },
    "tags": []
   },
   "outputs": [
    {
     "name": "stdout",
     "output_type": "stream",
     "text": [
      "The coefficient is 0.58\n",
      "The intercept is -1.07\n"
     ]
    }
   ],
   "source": [
    "# see the parameters\n",
    "print('The coefficient is', round(lm.coef_[0], 2))\n",
    "print('The intercept is', round(lm.intercept_, 2))"
   ]
  },
  {
   "cell_type": "code",
   "execution_count": 14,
   "id": "38786deb",
   "metadata": {
    "execution": {
     "iopub.execute_input": "2023-04-13T08:30:40.023737Z",
     "iopub.status.busy": "2023-04-13T08:30:40.023108Z",
     "iopub.status.idle": "2023-04-13T08:30:40.031581Z",
     "shell.execute_reply": "2023-04-13T08:30:40.029342Z"
    },
    "papermill": {
     "duration": 0.025724,
     "end_time": "2023-04-13T08:30:40.035707",
     "exception": false,
     "start_time": "2023-04-13T08:30:40.009983",
     "status": "completed"
    },
    "tags": []
   },
   "outputs": [],
   "source": [
    "# make predictions on the training set\n",
    "y_train_pred = lm.predict(X_train_lm)"
   ]
  },
  {
   "cell_type": "code",
   "execution_count": 15,
   "id": "daa7f84c",
   "metadata": {
    "execution": {
     "iopub.execute_input": "2023-04-13T08:30:40.062771Z",
     "iopub.status.busy": "2023-04-13T08:30:40.062119Z",
     "iopub.status.idle": "2023-04-13T08:30:40.340490Z",
     "shell.execute_reply": "2023-04-13T08:30:40.338893Z"
    },
    "papermill": {
     "duration": 0.297546,
     "end_time": "2023-04-13T08:30:40.345044",
     "exception": false,
     "start_time": "2023-04-13T08:30:40.047498",
     "status": "completed"
    },
    "tags": []
   },
   "outputs": [
    {
     "data": {
      "image/png": "[encoded data removed]",
      "text/plain": [
       "<Figure size 640x480 with 1 Axes>"
      ]
     },
     "metadata": {},
     "output_type": "display_data"
    }
   ],
   "source": [
    "# plot the model\n",
    "plt.scatter(X_train, y_train)\n",
    "plt.plot(X_train, y_train_pred, color = 'r')\n",
    "plt.show()"
   ]
  },
  {
   "cell_type": "markdown",
   "id": "c6c8c1c1",
   "metadata": {
    "papermill": {
     "duration": 0.011631,
     "end_time": "2023-04-13T08:30:40.368091",
     "exception": false,
     "start_time": "2023-04-13T08:30:40.356460",
     "status": "completed"
    },
    "tags": []
   },
   "source": [
    "## Step 3: Residual Analysis"
   ]
  },
  {
   "cell_type": "code",
   "execution_count": 16,
   "id": "bff420f6",
   "metadata": {
    "execution": {
     "iopub.execute_input": "2023-04-13T08:30:40.398217Z",
     "iopub.status.busy": "2023-04-13T08:30:40.397609Z",
     "iopub.status.idle": "2023-04-13T08:30:40.403992Z",
     "shell.execute_reply": "2023-04-13T08:30:40.402763Z"
    },
    "papermill": {
     "duration": 0.025428,
     "end_time": "2023-04-13T08:30:40.407073",
     "exception": false,
     "start_time": "2023-04-13T08:30:40.381645",
     "status": "completed"
    },
    "tags": []
   },
   "outputs": [],
   "source": [
    "# residual\n",
    "res = y_train - y_train_pred"
   ]
  },
  {
   "cell_type": "code",
   "execution_count": 17,
   "id": "6343f68f",
   "metadata": {
    "execution": {
     "iopub.execute_input": "2023-04-13T08:30:40.432789Z",
     "iopub.status.busy": "2023-04-13T08:30:40.432165Z",
     "iopub.status.idle": "2023-04-13T08:30:40.742491Z",
     "shell.execute_reply": "2023-04-13T08:30:40.740670Z"
    },
    "papermill": {
     "duration": 0.329208,
     "end_time": "2023-04-13T08:30:40.747328",
     "exception": false,
     "start_time": "2023-04-13T08:30:40.418120",
     "status": "completed"
    },
    "tags": []
   },
   "outputs": [
    {
     "data": {
      "image/png": "[encoded data removed]",
      "text/plain": [
       "<Figure size 640x480 with 1 Axes>"
      ]
     },
     "metadata": {},
     "output_type": "display_data"
    }
   ],
   "source": [
    "# plot the residuals\n",
    "sns.distplot(res)\n",
    "plt.title('Residual Plot')\n",
    "plt.show()"
   ]
  },
  {
   "cell_type": "markdown",
   "id": "c5600210",
   "metadata": {
    "papermill": {
     "duration": 0.014055,
     "end_time": "2023-04-13T08:30:40.773702",
     "exception": false,
     "start_time": "2023-04-13T08:30:40.759647",
     "status": "completed"
    },
    "tags": []
   },
   "source": [
    "The center of the normal distribution is around zero. The shape is also looks like a normal distribution."
   ]
  },
  {
   "cell_type": "code",
   "execution_count": 18,
   "id": "ba18986c",
   "metadata": {
    "execution": {
     "iopub.execute_input": "2023-04-13T08:30:40.801055Z",
     "iopub.status.busy": "2023-04-13T08:30:40.800555Z",
     "iopub.status.idle": "2023-04-13T08:30:41.050741Z",
     "shell.execute_reply": "2023-04-13T08:30:41.048716Z"
    },
    "papermill": {
     "duration": 0.268652,
     "end_time": "2023-04-13T08:30:41.055462",
     "exception": false,
     "start_time": "2023-04-13T08:30:40.786810",
     "status": "completed"
    },
    "tags": []
   },
   "outputs": [
    {
     "data": {
      "image/png": "[encoded data removed]",
      "text/plain": [
       "<Figure size 640x480 with 1 Axes>"
      ]
     },
     "metadata": {},
     "output_type": "display_data"
    }
   ],
   "source": [
    "# look for patterns in residuals (we should not able to identify any patterns)\n",
    "plt.scatter(X_train, res)\n",
    "plt.show()"
   ]
  },
  {
   "cell_type": "markdown",
   "id": "9de842bf",
   "metadata": {
    "papermill": {
     "duration": 0.014553,
     "end_time": "2023-04-13T08:30:41.083004",
     "exception": false,
     "start_time": "2023-04-13T08:30:41.068451",
     "status": "completed"
    },
    "tags": []
   },
   "source": [
    "The residuals don't follow any patterns. So, the asssumptions of Simple Linear Regression are validated."
   ]
  },
  {
   "cell_type": "markdown",
   "id": "7916bba7",
   "metadata": {
    "papermill": {
     "duration": 0.011372,
     "end_time": "2023-04-13T08:30:41.106928",
     "exception": false,
     "start_time": "2023-04-13T08:30:41.095556",
     "status": "completed"
    },
    "tags": []
   },
   "source": [
    "## Step 4: Predictions and Evaluation on Test Set"
   ]
  },
  {
   "cell_type": "code",
   "execution_count": 19,
   "id": "6d5b42ed",
   "metadata": {
    "execution": {
     "iopub.execute_input": "2023-04-13T08:30:41.132941Z",
     "iopub.status.busy": "2023-04-13T08:30:41.132376Z",
     "iopub.status.idle": "2023-04-13T08:30:41.139405Z",
     "shell.execute_reply": "2023-04-13T08:30:41.137727Z"
    },
    "papermill": {
     "duration": 0.023085,
     "end_time": "2023-04-13T08:30:41.142254",
     "exception": false,
     "start_time": "2023-04-13T08:30:41.119169",
     "status": "completed"
    },
    "tags": []
   },
   "outputs": [],
   "source": [
    "# make predictions on the test set\n",
    "y_test_pred = lm.predict(X_test_lm)"
   ]
  },
  {
   "cell_type": "code",
   "execution_count": 20,
   "id": "10591c4f",
   "metadata": {
    "execution": {
     "iopub.execute_input": "2023-04-13T08:30:41.168772Z",
     "iopub.status.busy": "2023-04-13T08:30:41.168197Z",
     "iopub.status.idle": "2023-04-13T08:30:41.179630Z",
     "shell.execute_reply": "2023-04-13T08:30:41.177228Z"
    },
    "papermill": {
     "duration": 0.029581,
     "end_time": "2023-04-13T08:30:41.183535",
     "exception": false,
     "start_time": "2023-04-13T08:30:41.153954",
     "status": "completed"
    },
    "tags": []
   },
   "outputs": [
    {
     "name": "stdout",
     "output_type": "stream",
     "text": [
      "The R-squared for the training set is 0.77\n",
      "The R-squared for the test set is 0.78\n"
     ]
    }
   ],
   "source": [
    "# evaluate the model\n",
    "print('The R-squared for the training set is', round(r2_score(y_true = y_train, y_pred = y_train_pred), 2))\n",
    "print('The R-squared for the test set is', round(r2_score(y_true = y_test, y_pred = y_test_pred), 2))"
   ]
  },
  {
   "cell_type": "code",
   "execution_count": 21,
   "id": "97f2e51d",
   "metadata": {
    "execution": {
     "iopub.execute_input": "2023-04-13T08:30:41.211005Z",
     "iopub.status.busy": "2023-04-13T08:30:41.210072Z",
     "iopub.status.idle": "2023-04-13T08:30:41.484141Z",
     "shell.execute_reply": "2023-04-13T08:30:41.482062Z"
    },
    "papermill": {
     "duration": 0.291973,
     "end_time": "2023-04-13T08:30:41.487622",
     "exception": false,
     "start_time": "2023-04-13T08:30:41.195649",
     "status": "completed"
    },
    "tags": []
   },
   "outputs": [
    {
     "data": {
      "image/png": "[encoded data removed]",
      "text/plain": [
       "<Figure size 640x480 with 1 Axes>"
      ]
     },
     "metadata": {},
     "output_type": "display_data"
    }
   ],
   "source": [
    "# plot the model with the test set\n",
    "plt.scatter(X_train, y_train)\n",
    "plt.scatter(X_test, y_test)\n",
    "plt.plot(X_test, y_test_pred, color = 'g')\n",
    "plt.show()"
   ]
  }
 ],
 "metadata": {
  "kernelspec": {
   "display_name": "Python 3",
   "language": "python",
   "name": "python3"
  },
  "language_info": {
   "codemirror_mode": {
    "name": "ipython",
    "version": 3
   },
   "file_extension": ".py",
   "mimetype": "text/x-python",
   "name": "python",
   "nbconvert_exporter": "python",
   "pygments_lexer": "ipython3",
   "version": "3.7.12"
  },
  "papermill": {
   "default_parameters": {},
   "duration": 19.623439,
   "end_time": "2023-04-13T08:30:42.529429",
   "environment_variables": {},
   "exception": null,
   "input_path": "__notebook__.ipynb",
   "output_path": "__notebook__.ipynb",
   "parameters": {},
   "start_time": "2023-04-13T08:30:22.905990",
   "version": "2.4.0"
  }
 },
 "nbformat": 4,
 "nbformat_minor": 5
}
