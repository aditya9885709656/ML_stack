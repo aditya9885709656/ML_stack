{
 "cells": [
  {
   "cell_type": "code",
   "execution_count": 1,
   "id": "73a6713b",
   "metadata": {
    "_cell_guid": "b1076dfc-b9ad-4769-8c92-a6c4dae69d19",
    "_uuid": "8f2839f25d086af736a60e9eeb907d3b93b6e0e5",
    "execution": {
     "iopub.execute_input": "2023-04-04T18:11:35.337395Z",
     "iopub.status.busy": "2023-04-04T18:11:35.336689Z",
     "iopub.status.idle": "2023-04-04T18:11:36.699489Z",
     "shell.execute_reply": "2023-04-04T18:11:36.697480Z"
    },
    "papermill": {
     "duration": 1.376209,
     "end_time": "2023-04-04T18:11:36.702947",
     "exception": false,
     "start_time": "2023-04-04T18:11:35.326738",
     "status": "completed"
    },
    "tags": []
   },
   "outputs": [
    {
     "name": "stdout",
     "output_type": "stream",
     "text": [
      "/kaggle/input/porter-delivery-time-estimation/dataset.csv\n"
     ]
    }
   ],
   "source": [
    "# This Python 3 environment comes with many helpful analytics libraries installed\n",
    "# It is defined by the kaggle/python Docker image: https://github.com/kaggle/docker-python\n",
    "# For example, here's several helpful packages to load\n",
    "\n",
    "import numpy as np # linear algebra\n",
    "import pandas as pd # data processing, CSV file I/O (e.g. pd.read_csv)\n",
    "import seaborn as sns # for plotting the Data\n",
    "import matplotlib.pyplot as plt # For giving the details\n",
    "# Input data files are available in the read-only \"../input/\" directory\n",
    "# For example, running this (by clicking run or pressing Shift+Enter) will list all files under the input directory\n",
    "\n",
    "import os\n",
    "for dirname, _, filenames in os.walk('/kaggle/input'):\n",
    "    for filename in filenames:\n",
    "        print(os.path.join(dirname, filename))\n",
    "\n",
    "# You can write up to 20GB to the current directory (/kaggle/working/) that gets preserved as output when you create a version using \"Save & Run All\" \n",
    "# You can also write temporary files to /kaggle/temp/, but they won't be saved outside of the current session"
   ]
  },
  {
   "cell_type": "code",
   "execution_count": 2,
   "id": "ebc55489",
   "metadata": {
    "execution": {
     "iopub.execute_input": "2023-04-04T18:11:36.719888Z",
     "iopub.status.busy": "2023-04-04T18:11:36.718562Z",
     "iopub.status.idle": "2023-04-04T18:11:37.960201Z",
     "shell.execute_reply": "2023-04-04T18:11:37.958851Z"
    },
    "papermill": {
     "duration": 1.253562,
     "end_time": "2023-04-04T18:11:37.963667",
     "exception": false,
     "start_time": "2023-04-04T18:11:36.710105",
     "status": "completed"
    },
    "tags": []
   },
   "outputs": [
    {
     "data": {
      "text/html": [
       "<div>\n",
       "<style scoped>\n",
       "    .dataframe tbody tr th:only-of-type {\n",
       "        vertical-align: middle;\n",
       "    }\n",
       "\n",
       "    .dataframe tbody tr th {\n",
       "        vertical-align: top;\n",
       "    }\n",
       "\n",
       "    .dataframe thead th {\n",
       "        text-align: right;\n",
       "    }\n",
       "</style>\n",
       "<table border=\"1\" class=\"dataframe\">\n",
       "  <thead>\n",
       "    <tr style=\"text-align: right;\">\n",
       "      <th></th>\n",
       "      <th>market_id</th>\n",
       "      <th>created_at</th>\n",
       "      <th>actual_delivery_time</th>\n",
       "      <th>store_id</th>\n",
       "      <th>store_primary_category</th>\n",
       "      <th>order_protocol</th>\n",
       "      <th>total_items</th>\n",
       "      <th>subtotal</th>\n",
       "      <th>num_distinct_items</th>\n",
       "      <th>min_item_price</th>\n",
       "      <th>max_item_price</th>\n",
       "      <th>total_onshift_partners</th>\n",
       "      <th>total_busy_partners</th>\n",
       "      <th>total_outstanding_orders</th>\n",
       "    </tr>\n",
       "  </thead>\n",
       "  <tbody>\n",
       "    <tr>\n",
       "      <th>0</th>\n",
       "      <td>1.0</td>\n",
       "      <td>2015-02-06 22:24:17</td>\n",
       "      <td>2015-02-06 23:27:16</td>\n",
       "      <td>df263d996281d984952c07998dc54358</td>\n",
       "      <td>american</td>\n",
       "      <td>1.0</td>\n",
       "      <td>4</td>\n",
       "      <td>3441</td>\n",
       "      <td>4</td>\n",
       "      <td>557</td>\n",
       "      <td>1239</td>\n",
       "      <td>33.0</td>\n",
       "      <td>14.0</td>\n",
       "      <td>21.0</td>\n",
       "    </tr>\n",
       "    <tr>\n",
       "      <th>1</th>\n",
       "      <td>2.0</td>\n",
       "      <td>2015-02-10 21:49:25</td>\n",
       "      <td>2015-02-10 22:56:29</td>\n",
       "      <td>f0ade77b43923b38237db569b016ba25</td>\n",
       "      <td>mexican</td>\n",
       "      <td>2.0</td>\n",
       "      <td>1</td>\n",
       "      <td>1900</td>\n",
       "      <td>1</td>\n",
       "      <td>1400</td>\n",
       "      <td>1400</td>\n",
       "      <td>1.0</td>\n",
       "      <td>2.0</td>\n",
       "      <td>2.0</td>\n",
       "    </tr>\n",
       "    <tr>\n",
       "      <th>2</th>\n",
       "      <td>3.0</td>\n",
       "      <td>2015-01-22 20:39:28</td>\n",
       "      <td>2015-01-22 21:09:09</td>\n",
       "      <td>f0ade77b43923b38237db569b016ba25</td>\n",
       "      <td>NaN</td>\n",
       "      <td>1.0</td>\n",
       "      <td>1</td>\n",
       "      <td>1900</td>\n",
       "      <td>1</td>\n",
       "      <td>1900</td>\n",
       "      <td>1900</td>\n",
       "      <td>1.0</td>\n",
       "      <td>0.0</td>\n",
       "      <td>0.0</td>\n",
       "    </tr>\n",
       "    <tr>\n",
       "      <th>3</th>\n",
       "      <td>3.0</td>\n",
       "      <td>2015-02-03 21:21:45</td>\n",
       "      <td>2015-02-03 22:13:00</td>\n",
       "      <td>f0ade77b43923b38237db569b016ba25</td>\n",
       "      <td>NaN</td>\n",
       "      <td>1.0</td>\n",
       "      <td>6</td>\n",
       "      <td>6900</td>\n",
       "      <td>5</td>\n",
       "      <td>600</td>\n",
       "      <td>1800</td>\n",
       "      <td>1.0</td>\n",
       "      <td>1.0</td>\n",
       "      <td>2.0</td>\n",
       "    </tr>\n",
       "    <tr>\n",
       "      <th>4</th>\n",
       "      <td>3.0</td>\n",
       "      <td>2015-02-15 02:40:36</td>\n",
       "      <td>2015-02-15 03:20:26</td>\n",
       "      <td>f0ade77b43923b38237db569b016ba25</td>\n",
       "      <td>NaN</td>\n",
       "      <td>1.0</td>\n",
       "      <td>3</td>\n",
       "      <td>3900</td>\n",
       "      <td>3</td>\n",
       "      <td>1100</td>\n",
       "      <td>1600</td>\n",
       "      <td>6.0</td>\n",
       "      <td>6.0</td>\n",
       "      <td>9.0</td>\n",
       "    </tr>\n",
       "  </tbody>\n",
       "</table>\n",
       "</div>"
      ],
      "text/plain": [
       "   market_id           created_at actual_delivery_time  \\\n",
       "0        1.0  2015-02-06 22:24:17  2015-02-06 23:27:16   \n",
       "1        2.0  2015-02-10 21:49:25  2015-02-10 22:56:29   \n",
       "2        3.0  2015-01-22 20:39:28  2015-01-22 21:09:09   \n",
       "3        3.0  2015-02-03 21:21:45  2015-02-03 22:13:00   \n",
       "4        3.0  2015-02-15 02:40:36  2015-02-15 03:20:26   \n",
       "\n",
       "                           store_id store_primary_category  order_protocol  \\\n",
       "0  df263d996281d984952c07998dc54358               american             1.0   \n",
       "1  f0ade77b43923b38237db569b016ba25                mexican             2.0   \n",
       "2  f0ade77b43923b38237db569b016ba25                    NaN             1.0   \n",
       "3  f0ade77b43923b38237db569b016ba25                    NaN             1.0   \n",
       "4  f0ade77b43923b38237db569b016ba25                    NaN             1.0   \n",
       "\n",
       "   total_items  subtotal  num_distinct_items  min_item_price  max_item_price  \\\n",
       "0            4      3441                   4             557            1239   \n",
       "1            1      1900                   1            1400            1400   \n",
       "2            1      1900                   1            1900            1900   \n",
       "3            6      6900                   5             600            1800   \n",
       "4            3      3900                   3            1100            1600   \n",
       "\n",
       "   total_onshift_partners  total_busy_partners  total_outstanding_orders  \n",
       "0                    33.0                 14.0                      21.0  \n",
       "1                     1.0                  2.0                       2.0  \n",
       "2                     1.0                  0.0                       0.0  \n",
       "3                     1.0                  1.0                       2.0  \n",
       "4                     6.0                  6.0                       9.0  "
      ]
     },
     "execution_count": 2,
     "metadata": {},
     "output_type": "execute_result"
    }
   ],
   "source": [
    "df = pd.read_csv(os.path.join(dirname, filename))\n",
    "df.head()"
   ]
  },
  {
   "cell_type": "code",
   "execution_count": 3,
   "id": "8d0e7c3b",
   "metadata": {
    "execution": {
     "iopub.execute_input": "2023-04-04T18:11:37.979834Z",
     "iopub.status.busy": "2023-04-04T18:11:37.979382Z",
     "iopub.status.idle": "2023-04-04T18:11:38.033415Z",
     "shell.execute_reply": "2023-04-04T18:11:38.032048Z"
    },
    "papermill": {
     "duration": 0.065708,
     "end_time": "2023-04-04T18:11:38.036415",
     "exception": false,
     "start_time": "2023-04-04T18:11:37.970707",
     "status": "completed"
    },
    "tags": []
   },
   "outputs": [
    {
     "data": {
      "text/plain": [
       "market_id                     987\n",
       "created_at                      0\n",
       "actual_delivery_time            7\n",
       "store_id                        0\n",
       "store_primary_category       4760\n",
       "order_protocol                995\n",
       "total_items                     0\n",
       "subtotal                        0\n",
       "num_distinct_items              0\n",
       "min_item_price                  0\n",
       "max_item_price                  0\n",
       "total_onshift_partners      16262\n",
       "total_busy_partners         16262\n",
       "total_outstanding_orders    16262\n",
       "dtype: int64"
      ]
     },
     "execution_count": 3,
     "metadata": {},
     "output_type": "execute_result"
    }
   ],
   "source": [
    "df.isnull().sum()"
   ]
  },
  {
   "cell_type": "code",
   "execution_count": 4,
   "id": "49e1ece5",
   "metadata": {
    "execution": {
     "iopub.execute_input": "2023-04-04T18:11:38.053779Z",
     "iopub.status.busy": "2023-04-04T18:11:38.053279Z",
     "iopub.status.idle": "2023-04-04T18:11:38.074533Z",
     "shell.execute_reply": "2023-04-04T18:11:38.073109Z"
    },
    "papermill": {
     "duration": 0.033717,
     "end_time": "2023-04-04T18:11:38.077757",
     "exception": false,
     "start_time": "2023-04-04T18:11:38.044040",
     "status": "completed"
    },
    "tags": []
   },
   "outputs": [
    {
     "data": {
      "text/plain": [
       "(16262, 14)"
      ]
     },
     "execution_count": 4,
     "metadata": {},
     "output_type": "execute_result"
    }
   ],
   "source": [
    "# checking whether the null values for last columns are in the same rows\n",
    "df[df.total_onshift_partners.isnull() & df.total_busy_partners.isnull() & df.total_outstanding_orders.isnull()].shape"
   ]
  },
  {
   "cell_type": "markdown",
   "id": "a290264d",
   "metadata": {
    "papermill": {
     "duration": 0.006999,
     "end_time": "2023-04-04T18:11:38.092488",
     "exception": false,
     "start_time": "2023-04-04T18:11:38.085489",
     "status": "completed"
    },
    "tags": []
   },
   "source": [
    "- Null values are less than the 10 percent of the size of whole dataset so its better to drop then replacing"
   ]
  },
  {
   "cell_type": "code",
   "execution_count": 5,
   "id": "c914f84d",
   "metadata": {
    "execution": {
     "iopub.execute_input": "2023-04-04T18:11:38.110157Z",
     "iopub.status.busy": "2023-04-04T18:11:38.109712Z",
     "iopub.status.idle": "2023-04-04T18:11:38.188668Z",
     "shell.execute_reply": "2023-04-04T18:11:38.187305Z"
    },
    "papermill": {
     "duration": 0.09217,
     "end_time": "2023-04-04T18:11:38.192137",
     "exception": false,
     "start_time": "2023-04-04T18:11:38.099967",
     "status": "completed"
    },
    "tags": []
   },
   "outputs": [],
   "source": [
    "df.dropna(inplace=True)"
   ]
  },
  {
   "cell_type": "code",
   "execution_count": 6,
   "id": "796fd29a",
   "metadata": {
    "execution": {
     "iopub.execute_input": "2023-04-04T18:11:38.208923Z",
     "iopub.status.busy": "2023-04-04T18:11:38.208456Z",
     "iopub.status.idle": "2023-04-04T18:11:38.268851Z",
     "shell.execute_reply": "2023-04-04T18:11:38.267184Z"
    },
    "papermill": {
     "duration": 0.072129,
     "end_time": "2023-04-04T18:11:38.271803",
     "exception": false,
     "start_time": "2023-04-04T18:11:38.199674",
     "status": "completed"
    },
    "tags": []
   },
   "outputs": [
    {
     "name": "stdout",
     "output_type": "stream",
     "text": [
      "<class 'pandas.core.frame.DataFrame'>\n",
      "Int64Index: 176248 entries, 0 to 197427\n",
      "Data columns (total 14 columns):\n",
      " #   Column                    Non-Null Count   Dtype  \n",
      "---  ------                    --------------   -----  \n",
      " 0   market_id                 176248 non-null  float64\n",
      " 1   created_at                176248 non-null  object \n",
      " 2   actual_delivery_time      176248 non-null  object \n",
      " 3   store_id                  176248 non-null  object \n",
      " 4   store_primary_category    176248 non-null  object \n",
      " 5   order_protocol            176248 non-null  float64\n",
      " 6   total_items               176248 non-null  int64  \n",
      " 7   subtotal                  176248 non-null  int64  \n",
      " 8   num_distinct_items        176248 non-null  int64  \n",
      " 9   min_item_price            176248 non-null  int64  \n",
      " 10  max_item_price            176248 non-null  int64  \n",
      " 11  total_onshift_partners    176248 non-null  float64\n",
      " 12  total_busy_partners       176248 non-null  float64\n",
      " 13  total_outstanding_orders  176248 non-null  float64\n",
      "dtypes: float64(5), int64(5), object(4)\n",
      "memory usage: 20.2+ MB\n"
     ]
    }
   ],
   "source": [
    "# changing the Data type of columns\n",
    "df.info()"
   ]
  },
  {
   "cell_type": "markdown",
   "id": "57e66485",
   "metadata": {
    "papermill": {
     "duration": 0.007004,
     "end_time": "2023-04-04T18:11:38.286176",
     "exception": false,
     "start_time": "2023-04-04T18:11:38.279172",
     "status": "completed"
    },
    "tags": []
   },
   "source": [
    "- There is a need to convert Time into datetime format for further processing"
   ]
  },
  {
   "cell_type": "code",
   "execution_count": 7,
   "id": "9b79431d",
   "metadata": {
    "execution": {
     "iopub.execute_input": "2023-04-04T18:11:38.303341Z",
     "iopub.status.busy": "2023-04-04T18:11:38.302457Z",
     "iopub.status.idle": "2023-04-04T18:11:38.439070Z",
     "shell.execute_reply": "2023-04-04T18:11:38.437933Z"
    },
    "papermill": {
     "duration": 0.148628,
     "end_time": "2023-04-04T18:11:38.442098",
     "exception": false,
     "start_time": "2023-04-04T18:11:38.293470",
     "status": "completed"
    },
    "tags": []
   },
   "outputs": [
    {
     "data": {
      "text/html": [
       "<div>\n",
       "<style scoped>\n",
       "    .dataframe tbody tr th:only-of-type {\n",
       "        vertical-align: middle;\n",
       "    }\n",
       "\n",
       "    .dataframe tbody tr th {\n",
       "        vertical-align: top;\n",
       "    }\n",
       "\n",
       "    .dataframe thead th {\n",
       "        text-align: right;\n",
       "    }\n",
       "</style>\n",
       "<table border=\"1\" class=\"dataframe\">\n",
       "  <thead>\n",
       "    <tr style=\"text-align: right;\">\n",
       "      <th></th>\n",
       "      <th>actual_delivery_time</th>\n",
       "      <th>created_at</th>\n",
       "      <th>Available_delivery_Time_seconds</th>\n",
       "    </tr>\n",
       "  </thead>\n",
       "  <tbody>\n",
       "    <tr>\n",
       "      <th>0</th>\n",
       "      <td>2015-02-06 23:27:16</td>\n",
       "      <td>2015-02-06 22:24:17</td>\n",
       "      <td>3779</td>\n",
       "    </tr>\n",
       "    <tr>\n",
       "      <th>1</th>\n",
       "      <td>2015-02-10 22:56:29</td>\n",
       "      <td>2015-02-10 21:49:25</td>\n",
       "      <td>4024</td>\n",
       "    </tr>\n",
       "    <tr>\n",
       "      <th>8</th>\n",
       "      <td>2015-02-16 00:38:01</td>\n",
       "      <td>2015-02-16 00:11:35</td>\n",
       "      <td>1586</td>\n",
       "    </tr>\n",
       "    <tr>\n",
       "      <th>14</th>\n",
       "      <td>2015-02-12 04:14:39</td>\n",
       "      <td>2015-02-12 03:36:46</td>\n",
       "      <td>2273</td>\n",
       "    </tr>\n",
       "    <tr>\n",
       "      <th>15</th>\n",
       "      <td>2015-01-27 03:02:24</td>\n",
       "      <td>2015-01-27 02:12:36</td>\n",
       "      <td>2988</td>\n",
       "    </tr>\n",
       "  </tbody>\n",
       "</table>\n",
       "</div>"
      ],
      "text/plain": [
       "   actual_delivery_time          created_at  Available_delivery_Time_seconds\n",
       "0   2015-02-06 23:27:16 2015-02-06 22:24:17                             3779\n",
       "1   2015-02-10 22:56:29 2015-02-10 21:49:25                             4024\n",
       "8   2015-02-16 00:38:01 2015-02-16 00:11:35                             1586\n",
       "14  2015-02-12 04:14:39 2015-02-12 03:36:46                             2273\n",
       "15  2015-01-27 03:02:24 2015-01-27 02:12:36                             2988"
      ]
     },
     "execution_count": 7,
     "metadata": {},
     "output_type": "execute_result"
    }
   ],
   "source": [
    "df.created_at = pd.to_datetime(df.created_at)\n",
    "df.actual_delivery_time = pd.to_datetime(df.actual_delivery_time)\n",
    "df['Available_delivery_Time_seconds'] = (df.actual_delivery_time - df.created_at).dt.total_seconds().astype('int64')\n",
    "df[['actual_delivery_time','created_at','Available_delivery_Time_seconds']].head()"
   ]
  },
  {
   "cell_type": "markdown",
   "id": "04dcaecd",
   "metadata": {
    "papermill": {
     "duration": 0.007236,
     "end_time": "2023-04-04T18:11:38.457281",
     "exception": false,
     "start_time": "2023-04-04T18:11:38.450045",
     "status": "completed"
    },
    "tags": []
   },
   "source": [
    "- Its time to check how the availble delivery time related to other features"
   ]
  },
  {
   "cell_type": "code",
   "execution_count": 8,
   "id": "d6648d10",
   "metadata": {
    "execution": {
     "iopub.execute_input": "2023-04-04T18:11:38.475541Z",
     "iopub.status.busy": "2023-04-04T18:11:38.474262Z",
     "iopub.status.idle": "2023-04-04T18:11:39.679170Z",
     "shell.execute_reply": "2023-04-04T18:11:39.677595Z"
    },
    "papermill": {
     "duration": 1.218739,
     "end_time": "2023-04-04T18:11:39.683630",
     "exception": false,
     "start_time": "2023-04-04T18:11:38.464891",
     "status": "completed"
    },
    "tags": []
   },
   "outputs": [
    {
     "data": {
      "text/plain": [
       "<AxesSubplot:>"
      ]
     },
     "execution_count": 8,
     "metadata": {},
     "output_type": "execute_result"
    },
    {
     "data": {
      "image/png": "[encoded data removed]",
      "text/plain": [
       "<Figure size 1000x500 with 2 Axes>"
      ]
     },
     "metadata": {},
     "output_type": "display_data"
    }
   ],
   "source": [
    "plt.figure(figsize=(10,5))\n",
    "sns.heatmap(df.corr(),annot=True)"
   ]
  },
  {
   "cell_type": "code",
   "execution_count": 9,
   "id": "c4a10f68",
   "metadata": {
    "execution": {
     "iopub.execute_input": "2023-04-04T18:11:39.706849Z",
     "iopub.status.busy": "2023-04-04T18:11:39.705848Z",
     "iopub.status.idle": "2023-04-04T18:11:39.739404Z",
     "shell.execute_reply": "2023-04-04T18:11:39.738145Z"
    },
    "papermill": {
     "duration": 0.0484,
     "end_time": "2023-04-04T18:11:39.742487",
     "exception": false,
     "start_time": "2023-04-04T18:11:39.694087",
     "status": "completed"
    },
    "tags": []
   },
   "outputs": [
    {
     "data": {
      "text/html": [
       "<div>\n",
       "<style scoped>\n",
       "    .dataframe tbody tr th:only-of-type {\n",
       "        vertical-align: middle;\n",
       "    }\n",
       "\n",
       "    .dataframe tbody tr th {\n",
       "        vertical-align: top;\n",
       "    }\n",
       "\n",
       "    .dataframe thead th {\n",
       "        text-align: right;\n",
       "    }\n",
       "</style>\n",
       "<table border=\"1\" class=\"dataframe\">\n",
       "  <thead>\n",
       "    <tr style=\"text-align: right;\">\n",
       "      <th></th>\n",
       "      <th>market_id</th>\n",
       "      <th>created_at</th>\n",
       "      <th>actual_delivery_time</th>\n",
       "      <th>store_primary_category</th>\n",
       "      <th>order_protocol</th>\n",
       "      <th>total_items</th>\n",
       "      <th>subtotal</th>\n",
       "      <th>num_distinct_items</th>\n",
       "      <th>min_item_price</th>\n",
       "      <th>max_item_price</th>\n",
       "      <th>total_onshift_partners</th>\n",
       "      <th>total_busy_partners</th>\n",
       "      <th>total_outstanding_orders</th>\n",
       "      <th>Available_delivery_Time_seconds</th>\n",
       "    </tr>\n",
       "  </thead>\n",
       "  <tbody>\n",
       "    <tr>\n",
       "      <th>0</th>\n",
       "      <td>1.0</td>\n",
       "      <td>2015-02-06 22:24:17</td>\n",
       "      <td>2015-02-06 23:27:16</td>\n",
       "      <td>american</td>\n",
       "      <td>1.0</td>\n",
       "      <td>4</td>\n",
       "      <td>3441</td>\n",
       "      <td>4</td>\n",
       "      <td>557</td>\n",
       "      <td>1239</td>\n",
       "      <td>33.0</td>\n",
       "      <td>14.0</td>\n",
       "      <td>21.0</td>\n",
       "      <td>3779</td>\n",
       "    </tr>\n",
       "    <tr>\n",
       "      <th>1</th>\n",
       "      <td>2.0</td>\n",
       "      <td>2015-02-10 21:49:25</td>\n",
       "      <td>2015-02-10 22:56:29</td>\n",
       "      <td>mexican</td>\n",
       "      <td>2.0</td>\n",
       "      <td>1</td>\n",
       "      <td>1900</td>\n",
       "      <td>1</td>\n",
       "      <td>1400</td>\n",
       "      <td>1400</td>\n",
       "      <td>1.0</td>\n",
       "      <td>2.0</td>\n",
       "      <td>2.0</td>\n",
       "      <td>4024</td>\n",
       "    </tr>\n",
       "    <tr>\n",
       "      <th>8</th>\n",
       "      <td>2.0</td>\n",
       "      <td>2015-02-16 00:11:35</td>\n",
       "      <td>2015-02-16 00:38:01</td>\n",
       "      <td>indian</td>\n",
       "      <td>3.0</td>\n",
       "      <td>4</td>\n",
       "      <td>4771</td>\n",
       "      <td>3</td>\n",
       "      <td>820</td>\n",
       "      <td>1604</td>\n",
       "      <td>8.0</td>\n",
       "      <td>6.0</td>\n",
       "      <td>18.0</td>\n",
       "      <td>1586</td>\n",
       "    </tr>\n",
       "    <tr>\n",
       "      <th>14</th>\n",
       "      <td>1.0</td>\n",
       "      <td>2015-02-12 03:36:46</td>\n",
       "      <td>2015-02-12 04:14:39</td>\n",
       "      <td>italian</td>\n",
       "      <td>1.0</td>\n",
       "      <td>1</td>\n",
       "      <td>1525</td>\n",
       "      <td>1</td>\n",
       "      <td>1525</td>\n",
       "      <td>1525</td>\n",
       "      <td>5.0</td>\n",
       "      <td>6.0</td>\n",
       "      <td>8.0</td>\n",
       "      <td>2273</td>\n",
       "    </tr>\n",
       "    <tr>\n",
       "      <th>15</th>\n",
       "      <td>1.0</td>\n",
       "      <td>2015-01-27 02:12:36</td>\n",
       "      <td>2015-01-27 03:02:24</td>\n",
       "      <td>italian</td>\n",
       "      <td>1.0</td>\n",
       "      <td>2</td>\n",
       "      <td>3620</td>\n",
       "      <td>2</td>\n",
       "      <td>1425</td>\n",
       "      <td>2195</td>\n",
       "      <td>5.0</td>\n",
       "      <td>5.0</td>\n",
       "      <td>7.0</td>\n",
       "      <td>2988</td>\n",
       "    </tr>\n",
       "  </tbody>\n",
       "</table>\n",
       "</div>"
      ],
      "text/plain": [
       "    market_id          created_at actual_delivery_time store_primary_category  \\\n",
       "0         1.0 2015-02-06 22:24:17  2015-02-06 23:27:16               american   \n",
       "1         2.0 2015-02-10 21:49:25  2015-02-10 22:56:29                mexican   \n",
       "8         2.0 2015-02-16 00:11:35  2015-02-16 00:38:01                 indian   \n",
       "14        1.0 2015-02-12 03:36:46  2015-02-12 04:14:39                italian   \n",
       "15        1.0 2015-01-27 02:12:36  2015-01-27 03:02:24                italian   \n",
       "\n",
       "    order_protocol  total_items  subtotal  num_distinct_items  min_item_price  \\\n",
       "0              1.0            4      3441                   4             557   \n",
       "1              2.0            1      1900                   1            1400   \n",
       "8              3.0            4      4771                   3             820   \n",
       "14             1.0            1      1525                   1            1525   \n",
       "15             1.0            2      3620                   2            1425   \n",
       "\n",
       "    max_item_price  total_onshift_partners  total_busy_partners  \\\n",
       "0             1239                    33.0                 14.0   \n",
       "1             1400                     1.0                  2.0   \n",
       "8             1604                     8.0                  6.0   \n",
       "14            1525                     5.0                  6.0   \n",
       "15            2195                     5.0                  5.0   \n",
       "\n",
       "    total_outstanding_orders  Available_delivery_Time_seconds  \n",
       "0                       21.0                             3779  \n",
       "1                        2.0                             4024  \n",
       "8                       18.0                             1586  \n",
       "14                       8.0                             2273  \n",
       "15                       7.0                             2988  "
      ]
     },
     "execution_count": 9,
     "metadata": {},
     "output_type": "execute_result"
    }
   ],
   "source": [
    "# There is no need to use the store ID\n",
    "df.drop('store_id',axis=1,inplace=True)\n",
    "df.head()"
   ]
  },
  {
   "cell_type": "code",
   "execution_count": 10,
   "id": "69ca4bd8",
   "metadata": {
    "execution": {
     "iopub.execute_input": "2023-04-04T18:11:39.766443Z",
     "iopub.status.busy": "2023-04-04T18:11:39.765093Z",
     "iopub.status.idle": "2023-04-04T18:11:39.851470Z",
     "shell.execute_reply": "2023-04-04T18:11:39.849758Z"
    },
    "papermill": {
     "duration": 0.101595,
     "end_time": "2023-04-04T18:11:39.854686",
     "exception": false,
     "start_time": "2023-04-04T18:11:39.753091",
     "status": "completed"
    },
    "tags": []
   },
   "outputs": [
    {
     "name": "stdout",
     "output_type": "stream",
     "text": [
      "market_id                               6\n",
      "created_at                         163082\n",
      "actual_delivery_time               160686\n",
      "store_primary_category                 73\n",
      "order_protocol                          7\n",
      "total_items                            54\n",
      "subtotal                             8189\n",
      "num_distinct_items                     20\n",
      "min_item_price                       2251\n",
      "max_item_price                       2586\n",
      "total_onshift_partners                172\n",
      "total_busy_partners                   158\n",
      "total_outstanding_orders              281\n",
      "Available_delivery_Time_seconds      6984\n",
      "dtype: int64\n",
      "<class 'pandas.core.frame.DataFrame'>\n",
      "Int64Index: 176248 entries, 0 to 197427\n",
      "Data columns (total 14 columns):\n",
      " #   Column                           Non-Null Count   Dtype         \n",
      "---  ------                           --------------   -----         \n",
      " 0   market_id                        176248 non-null  float64       \n",
      " 1   created_at                       176248 non-null  datetime64[ns]\n",
      " 2   actual_delivery_time             176248 non-null  datetime64[ns]\n",
      " 3   store_primary_category           176248 non-null  object        \n",
      " 4   order_protocol                   176248 non-null  float64       \n",
      " 5   total_items                      176248 non-null  int64         \n",
      " 6   subtotal                         176248 non-null  int64         \n",
      " 7   num_distinct_items               176248 non-null  int64         \n",
      " 8   min_item_price                   176248 non-null  int64         \n",
      " 9   max_item_price                   176248 non-null  int64         \n",
      " 10  total_onshift_partners           176248 non-null  float64       \n",
      " 11  total_busy_partners              176248 non-null  float64       \n",
      " 12  total_outstanding_orders         176248 non-null  float64       \n",
      " 13  Available_delivery_Time_seconds  176248 non-null  int64         \n",
      "dtypes: datetime64[ns](2), float64(5), int64(6), object(1)\n",
      "memory usage: 20.2+ MB\n",
      "None\n"
     ]
    }
   ],
   "source": [
    "# let's just check the cardinality of columns to seperate numerical with categorical\n",
    "\n",
    "print(df.nunique())\n",
    "print(df.info())"
   ]
  },
  {
   "cell_type": "markdown",
   "id": "218221c8",
   "metadata": {
    "papermill": {
     "duration": 0.010041,
     "end_time": "2023-04-04T18:11:39.875367",
     "exception": false,
     "start_time": "2023-04-04T18:11:39.865326",
     "status": "completed"
    },
    "tags": []
   },
   "source": [
    "- There is a need to treat market_id as well as store primary category as categorical\n"
   ]
  },
  {
   "cell_type": "code",
   "execution_count": 11,
   "id": "440116fb",
   "metadata": {
    "execution": {
     "iopub.execute_input": "2023-04-04T18:11:39.898787Z",
     "iopub.status.busy": "2023-04-04T18:11:39.898306Z",
     "iopub.status.idle": "2023-04-04T18:11:39.942836Z",
     "shell.execute_reply": "2023-04-04T18:11:39.941376Z"
    },
    "papermill": {
     "duration": 0.060323,
     "end_time": "2023-04-04T18:11:39.946207",
     "exception": false,
     "start_time": "2023-04-04T18:11:39.885884",
     "status": "completed"
    },
    "tags": []
   },
   "outputs": [],
   "source": [
    "df.store_primary_category = df.store_primary_category.astype('object')\n",
    "df.market_id = df.market_id.astype('object')\n",
    "df.order_protocol = df.order_protocol.astype('object')"
   ]
  },
  {
   "cell_type": "code",
   "execution_count": 12,
   "id": "12fd8c07",
   "metadata": {
    "execution": {
     "iopub.execute_input": "2023-04-04T18:11:39.970744Z",
     "iopub.status.busy": "2023-04-04T18:11:39.970266Z",
     "iopub.status.idle": "2023-04-04T18:11:40.013273Z",
     "shell.execute_reply": "2023-04-04T18:11:40.011744Z"
    },
    "papermill": {
     "duration": 0.058765,
     "end_time": "2023-04-04T18:11:40.016493",
     "exception": false,
     "start_time": "2023-04-04T18:11:39.957728",
     "status": "completed"
    },
    "tags": []
   },
   "outputs": [
    {
     "name": "stdout",
     "output_type": "stream",
     "text": [
      "<class 'pandas.core.frame.DataFrame'>\n",
      "Int64Index: 176248 entries, 0 to 197427\n",
      "Data columns (total 14 columns):\n",
      " #   Column                           Non-Null Count   Dtype         \n",
      "---  ------                           --------------   -----         \n",
      " 0   market_id                        176248 non-null  object        \n",
      " 1   created_at                       176248 non-null  datetime64[ns]\n",
      " 2   actual_delivery_time             176248 non-null  datetime64[ns]\n",
      " 3   store_primary_category           176248 non-null  object        \n",
      " 4   order_protocol                   176248 non-null  object        \n",
      " 5   total_items                      176248 non-null  int64         \n",
      " 6   subtotal                         176248 non-null  int64         \n",
      " 7   num_distinct_items               176248 non-null  int64         \n",
      " 8   min_item_price                   176248 non-null  int64         \n",
      " 9   max_item_price                   176248 non-null  int64         \n",
      " 10  total_onshift_partners           176248 non-null  float64       \n",
      " 11  total_busy_partners              176248 non-null  float64       \n",
      " 12  total_outstanding_orders         176248 non-null  float64       \n",
      " 13  Available_delivery_Time_seconds  176248 non-null  int64         \n",
      "dtypes: datetime64[ns](2), float64(3), int64(6), object(3)\n",
      "memory usage: 20.2+ MB\n"
     ]
    }
   ],
   "source": [
    "df.info()"
   ]
  },
  {
   "cell_type": "code",
   "execution_count": 13,
   "id": "ccf1d2b5",
   "metadata": {
    "execution": {
     "iopub.execute_input": "2023-04-04T18:11:40.039747Z",
     "iopub.status.busy": "2023-04-04T18:11:40.039285Z",
     "iopub.status.idle": "2023-04-04T18:11:40.088441Z",
     "shell.execute_reply": "2023-04-04T18:11:40.087177Z"
    },
    "papermill": {
     "duration": 0.06422,
     "end_time": "2023-04-04T18:11:40.091276",
     "exception": false,
     "start_time": "2023-04-04T18:11:40.027056",
     "status": "completed"
    },
    "tags": []
   },
   "outputs": [
    {
     "data": {
      "text/html": [
       "<div>\n",
       "<style scoped>\n",
       "    .dataframe tbody tr th:only-of-type {\n",
       "        vertical-align: middle;\n",
       "    }\n",
       "\n",
       "    .dataframe tbody tr th {\n",
       "        vertical-align: top;\n",
       "    }\n",
       "\n",
       "    .dataframe thead th {\n",
       "        text-align: right;\n",
       "    }\n",
       "</style>\n",
       "<table border=\"1\" class=\"dataframe\">\n",
       "  <thead>\n",
       "    <tr style=\"text-align: right;\">\n",
       "      <th></th>\n",
       "      <th>total_items</th>\n",
       "      <th>subtotal</th>\n",
       "      <th>num_distinct_items</th>\n",
       "      <th>min_item_price</th>\n",
       "      <th>max_item_price</th>\n",
       "      <th>total_onshift_partners</th>\n",
       "      <th>total_busy_partners</th>\n",
       "      <th>total_outstanding_orders</th>\n",
       "      <th>Available_delivery_Time_seconds</th>\n",
       "    </tr>\n",
       "  </thead>\n",
       "  <tbody>\n",
       "    <tr>\n",
       "      <th>0</th>\n",
       "      <td>4</td>\n",
       "      <td>3441</td>\n",
       "      <td>4</td>\n",
       "      <td>557</td>\n",
       "      <td>1239</td>\n",
       "      <td>33.0</td>\n",
       "      <td>14.0</td>\n",
       "      <td>21.0</td>\n",
       "      <td>3779</td>\n",
       "    </tr>\n",
       "    <tr>\n",
       "      <th>1</th>\n",
       "      <td>1</td>\n",
       "      <td>1900</td>\n",
       "      <td>1</td>\n",
       "      <td>1400</td>\n",
       "      <td>1400</td>\n",
       "      <td>1.0</td>\n",
       "      <td>2.0</td>\n",
       "      <td>2.0</td>\n",
       "      <td>4024</td>\n",
       "    </tr>\n",
       "    <tr>\n",
       "      <th>8</th>\n",
       "      <td>4</td>\n",
       "      <td>4771</td>\n",
       "      <td>3</td>\n",
       "      <td>820</td>\n",
       "      <td>1604</td>\n",
       "      <td>8.0</td>\n",
       "      <td>6.0</td>\n",
       "      <td>18.0</td>\n",
       "      <td>1586</td>\n",
       "    </tr>\n",
       "    <tr>\n",
       "      <th>14</th>\n",
       "      <td>1</td>\n",
       "      <td>1525</td>\n",
       "      <td>1</td>\n",
       "      <td>1525</td>\n",
       "      <td>1525</td>\n",
       "      <td>5.0</td>\n",
       "      <td>6.0</td>\n",
       "      <td>8.0</td>\n",
       "      <td>2273</td>\n",
       "    </tr>\n",
       "    <tr>\n",
       "      <th>15</th>\n",
       "      <td>2</td>\n",
       "      <td>3620</td>\n",
       "      <td>2</td>\n",
       "      <td>1425</td>\n",
       "      <td>2195</td>\n",
       "      <td>5.0</td>\n",
       "      <td>5.0</td>\n",
       "      <td>7.0</td>\n",
       "      <td>2988</td>\n",
       "    </tr>\n",
       "  </tbody>\n",
       "</table>\n",
       "</div>"
      ],
      "text/plain": [
       "    total_items  subtotal  num_distinct_items  min_item_price  max_item_price  \\\n",
       "0             4      3441                   4             557            1239   \n",
       "1             1      1900                   1            1400            1400   \n",
       "8             4      4771                   3             820            1604   \n",
       "14            1      1525                   1            1525            1525   \n",
       "15            2      3620                   2            1425            2195   \n",
       "\n",
       "    total_onshift_partners  total_busy_partners  total_outstanding_orders  \\\n",
       "0                     33.0                 14.0                      21.0   \n",
       "1                      1.0                  2.0                       2.0   \n",
       "8                      8.0                  6.0                      18.0   \n",
       "14                     5.0                  6.0                       8.0   \n",
       "15                     5.0                  5.0                       7.0   \n",
       "\n",
       "    Available_delivery_Time_seconds  \n",
       "0                              3779  \n",
       "1                              4024  \n",
       "8                              1586  \n",
       "14                             2273  \n",
       "15                             2988  "
      ]
     },
     "execution_count": 13,
     "metadata": {},
     "output_type": "execute_result"
    }
   ],
   "source": [
    "df1 = df.select_dtypes(include=['int64','float64'])\n",
    "df1.head()"
   ]
  },
  {
   "cell_type": "code",
   "execution_count": 14,
   "id": "5ebecf89",
   "metadata": {
    "execution": {
     "iopub.execute_input": "2023-04-04T18:11:40.114724Z",
     "iopub.status.busy": "2023-04-04T18:11:40.114224Z",
     "iopub.status.idle": "2023-04-04T18:11:40.146099Z",
     "shell.execute_reply": "2023-04-04T18:11:40.144727Z"
    },
    "papermill": {
     "duration": 0.047486,
     "end_time": "2023-04-04T18:11:40.149558",
     "exception": false,
     "start_time": "2023-04-04T18:11:40.102072",
     "status": "completed"
    },
    "tags": []
   },
   "outputs": [
    {
     "data": {
      "text/html": [
       "<div>\n",
       "<style scoped>\n",
       "    .dataframe tbody tr th:only-of-type {\n",
       "        vertical-align: middle;\n",
       "    }\n",
       "\n",
       "    .dataframe tbody tr th {\n",
       "        vertical-align: top;\n",
       "    }\n",
       "\n",
       "    .dataframe thead th {\n",
       "        text-align: right;\n",
       "    }\n",
       "</style>\n",
       "<table border=\"1\" class=\"dataframe\">\n",
       "  <thead>\n",
       "    <tr style=\"text-align: right;\">\n",
       "      <th></th>\n",
       "      <th>total_items</th>\n",
       "      <th>subtotal</th>\n",
       "      <th>num_distinct_items</th>\n",
       "      <th>min_item_price</th>\n",
       "      <th>max_item_price</th>\n",
       "      <th>total_onshift_partners</th>\n",
       "      <th>total_busy_partners</th>\n",
       "      <th>total_outstanding_orders</th>\n",
       "    </tr>\n",
       "  </thead>\n",
       "  <tbody>\n",
       "    <tr>\n",
       "      <th>0</th>\n",
       "      <td>4</td>\n",
       "      <td>3441</td>\n",
       "      <td>4</td>\n",
       "      <td>557</td>\n",
       "      <td>1239</td>\n",
       "      <td>33.0</td>\n",
       "      <td>14.0</td>\n",
       "      <td>21.0</td>\n",
       "    </tr>\n",
       "    <tr>\n",
       "      <th>1</th>\n",
       "      <td>1</td>\n",
       "      <td>1900</td>\n",
       "      <td>1</td>\n",
       "      <td>1400</td>\n",
       "      <td>1400</td>\n",
       "      <td>1.0</td>\n",
       "      <td>2.0</td>\n",
       "      <td>2.0</td>\n",
       "    </tr>\n",
       "    <tr>\n",
       "      <th>8</th>\n",
       "      <td>4</td>\n",
       "      <td>4771</td>\n",
       "      <td>3</td>\n",
       "      <td>820</td>\n",
       "      <td>1604</td>\n",
       "      <td>8.0</td>\n",
       "      <td>6.0</td>\n",
       "      <td>18.0</td>\n",
       "    </tr>\n",
       "    <tr>\n",
       "      <th>14</th>\n",
       "      <td>1</td>\n",
       "      <td>1525</td>\n",
       "      <td>1</td>\n",
       "      <td>1525</td>\n",
       "      <td>1525</td>\n",
       "      <td>5.0</td>\n",
       "      <td>6.0</td>\n",
       "      <td>8.0</td>\n",
       "    </tr>\n",
       "    <tr>\n",
       "      <th>15</th>\n",
       "      <td>2</td>\n",
       "      <td>3620</td>\n",
       "      <td>2</td>\n",
       "      <td>1425</td>\n",
       "      <td>2195</td>\n",
       "      <td>5.0</td>\n",
       "      <td>5.0</td>\n",
       "      <td>7.0</td>\n",
       "    </tr>\n",
       "  </tbody>\n",
       "</table>\n",
       "</div>"
      ],
      "text/plain": [
       "    total_items  subtotal  num_distinct_items  min_item_price  max_item_price  \\\n",
       "0             4      3441                   4             557            1239   \n",
       "1             1      1900                   1            1400            1400   \n",
       "8             4      4771                   3             820            1604   \n",
       "14            1      1525                   1            1525            1525   \n",
       "15            2      3620                   2            1425            2195   \n",
       "\n",
       "    total_onshift_partners  total_busy_partners  total_outstanding_orders  \n",
       "0                     33.0                 14.0                      21.0  \n",
       "1                      1.0                  2.0                       2.0  \n",
       "8                      8.0                  6.0                      18.0  \n",
       "14                     5.0                  6.0                       8.0  \n",
       "15                     5.0                  5.0                       7.0  "
      ]
     },
     "execution_count": 14,
     "metadata": {},
     "output_type": "execute_result"
    }
   ],
   "source": [
    "X = df1.drop('Available_delivery_Time_seconds',axis=1)\n",
    "X.head()"
   ]
  },
  {
   "cell_type": "code",
   "execution_count": 15,
   "id": "dab96d29",
   "metadata": {
    "execution": {
     "iopub.execute_input": "2023-04-04T18:11:40.174089Z",
     "iopub.status.busy": "2023-04-04T18:11:40.173621Z",
     "iopub.status.idle": "2023-04-04T18:11:40.441030Z",
     "shell.execute_reply": "2023-04-04T18:11:40.439476Z"
    },
    "papermill": {
     "duration": 0.283302,
     "end_time": "2023-04-04T18:11:40.444147",
     "exception": false,
     "start_time": "2023-04-04T18:11:40.160845",
     "status": "completed"
    },
    "tags": []
   },
   "outputs": [
    {
     "data": {
      "text/html": [
       "<div>\n",
       "<style scoped>\n",
       "    .dataframe tbody tr th:only-of-type {\n",
       "        vertical-align: middle;\n",
       "    }\n",
       "\n",
       "    .dataframe tbody tr th {\n",
       "        vertical-align: top;\n",
       "    }\n",
       "\n",
       "    .dataframe thead th {\n",
       "        text-align: right;\n",
       "    }\n",
       "</style>\n",
       "<table border=\"1\" class=\"dataframe\">\n",
       "  <thead>\n",
       "    <tr style=\"text-align: right;\">\n",
       "      <th></th>\n",
       "      <th>total_items</th>\n",
       "      <th>subtotal</th>\n",
       "      <th>num_distinct_items</th>\n",
       "      <th>min_item_price</th>\n",
       "      <th>max_item_price</th>\n",
       "      <th>total_onshift_partners</th>\n",
       "      <th>total_busy_partners</th>\n",
       "      <th>total_outstanding_orders</th>\n",
       "      <th>Available_delivery_Time_seconds</th>\n",
       "    </tr>\n",
       "  </thead>\n",
       "  <tbody>\n",
       "    <tr>\n",
       "      <th>0</th>\n",
       "      <td>0.297472</td>\n",
       "      <td>0.407072</td>\n",
       "      <td>0.815360</td>\n",
       "      <td>-0.246077</td>\n",
       "      <td>0.141076</td>\n",
       "      <td>-0.344788</td>\n",
       "      <td>-0.865989</td>\n",
       "      <td>-0.705902</td>\n",
       "      <td>3779</td>\n",
       "    </tr>\n",
       "    <tr>\n",
       "      <th>1</th>\n",
       "      <td>-0.824488</td>\n",
       "      <td>-0.435503</td>\n",
       "      <td>-1.030166</td>\n",
       "      <td>1.375358</td>\n",
       "      <td>0.428175</td>\n",
       "      <td>-1.271537</td>\n",
       "      <td>-1.239188</td>\n",
       "      <td>-1.066377</td>\n",
       "      <td>4024</td>\n",
       "    </tr>\n",
       "    <tr>\n",
       "      <th>2</th>\n",
       "      <td>0.297472</td>\n",
       "      <td>1.134278</td>\n",
       "      <td>0.200185</td>\n",
       "      <td>0.259780</td>\n",
       "      <td>0.791952</td>\n",
       "      <td>-1.068811</td>\n",
       "      <td>-1.114788</td>\n",
       "      <td>-0.762819</td>\n",
       "      <td>1586</td>\n",
       "    </tr>\n",
       "    <tr>\n",
       "      <th>3</th>\n",
       "      <td>-0.824488</td>\n",
       "      <td>-0.640542</td>\n",
       "      <td>-1.030166</td>\n",
       "      <td>1.615784</td>\n",
       "      <td>0.651077</td>\n",
       "      <td>-1.155693</td>\n",
       "      <td>-1.114788</td>\n",
       "      <td>-0.952543</td>\n",
       "      <td>2273</td>\n",
       "    </tr>\n",
       "    <tr>\n",
       "      <th>4</th>\n",
       "      <td>-0.450502</td>\n",
       "      <td>0.504944</td>\n",
       "      <td>-0.414991</td>\n",
       "      <td>1.423443</td>\n",
       "      <td>1.845835</td>\n",
       "      <td>-1.155693</td>\n",
       "      <td>-1.145888</td>\n",
       "      <td>-0.971515</td>\n",
       "      <td>2988</td>\n",
       "    </tr>\n",
       "    <tr>\n",
       "      <th>5</th>\n",
       "      <td>-0.076515</td>\n",
       "      <td>0.972434</td>\n",
       "      <td>0.200185</td>\n",
       "      <td>0.461738</td>\n",
       "      <td>1.186044</td>\n",
       "      <td>-1.184654</td>\n",
       "      <td>-1.270287</td>\n",
       "      <td>-1.085349</td>\n",
       "      <td>5267</td>\n",
       "    </tr>\n",
       "    <tr>\n",
       "      <th>6</th>\n",
       "      <td>-0.076515</td>\n",
       "      <td>0.917757</td>\n",
       "      <td>0.200185</td>\n",
       "      <td>1.231102</td>\n",
       "      <td>0.829399</td>\n",
       "      <td>-1.126732</td>\n",
       "      <td>-1.176988</td>\n",
       "      <td>-1.047404</td>\n",
       "      <td>4976</td>\n",
       "    </tr>\n",
       "    <tr>\n",
       "      <th>7</th>\n",
       "      <td>-0.450502</td>\n",
       "      <td>0.247961</td>\n",
       "      <td>-0.414991</td>\n",
       "      <td>1.423443</td>\n",
       "      <td>1.007722</td>\n",
       "      <td>-1.184654</td>\n",
       "      <td>-1.021489</td>\n",
       "      <td>-0.876653</td>\n",
       "      <td>4296</td>\n",
       "    </tr>\n",
       "    <tr>\n",
       "      <th>8</th>\n",
       "      <td>-0.450502</td>\n",
       "      <td>-0.954936</td>\n",
       "      <td>-0.414991</td>\n",
       "      <td>-1.028905</td>\n",
       "      <td>-0.820080</td>\n",
       "      <td>-0.605436</td>\n",
       "      <td>-0.554991</td>\n",
       "      <td>-0.611040</td>\n",
       "      <td>3019</td>\n",
       "    </tr>\n",
       "    <tr>\n",
       "      <th>9</th>\n",
       "      <td>0.671459</td>\n",
       "      <td>-0.771767</td>\n",
       "      <td>0.200185</td>\n",
       "      <td>-1.028905</td>\n",
       "      <td>-1.355047</td>\n",
       "      <td>-0.952967</td>\n",
       "      <td>-0.897089</td>\n",
       "      <td>-0.895625</td>\n",
       "      <td>1733</td>\n",
       "    </tr>\n",
       "  </tbody>\n",
       "</table>\n",
       "</div>"
      ],
      "text/plain": [
       "   total_items  subtotal  num_distinct_items  min_item_price  max_item_price  \\\n",
       "0     0.297472  0.407072            0.815360       -0.246077        0.141076   \n",
       "1    -0.824488 -0.435503           -1.030166        1.375358        0.428175   \n",
       "2     0.297472  1.134278            0.200185        0.259780        0.791952   \n",
       "3    -0.824488 -0.640542           -1.030166        1.615784        0.651077   \n",
       "4    -0.450502  0.504944           -0.414991        1.423443        1.845835   \n",
       "5    -0.076515  0.972434            0.200185        0.461738        1.186044   \n",
       "6    -0.076515  0.917757            0.200185        1.231102        0.829399   \n",
       "7    -0.450502  0.247961           -0.414991        1.423443        1.007722   \n",
       "8    -0.450502 -0.954936           -0.414991       -1.028905       -0.820080   \n",
       "9     0.671459 -0.771767            0.200185       -1.028905       -1.355047   \n",
       "\n",
       "   total_onshift_partners  total_busy_partners  total_outstanding_orders  \\\n",
       "0               -0.344788            -0.865989                 -0.705902   \n",
       "1               -1.271537            -1.239188                 -1.066377   \n",
       "2               -1.068811            -1.114788                 -0.762819   \n",
       "3               -1.155693            -1.114788                 -0.952543   \n",
       "4               -1.155693            -1.145888                 -0.971515   \n",
       "5               -1.184654            -1.270287                 -1.085349   \n",
       "6               -1.126732            -1.176988                 -1.047404   \n",
       "7               -1.184654            -1.021489                 -0.876653   \n",
       "8               -0.605436            -0.554991                 -0.611040   \n",
       "9               -0.952967            -0.897089                 -0.895625   \n",
       "\n",
       "   Available_delivery_Time_seconds  \n",
       "0                             3779  \n",
       "1                             4024  \n",
       "2                             1586  \n",
       "3                             2273  \n",
       "4                             2988  \n",
       "5                             5267  \n",
       "6                             4976  \n",
       "7                             4296  \n",
       "8                             3019  \n",
       "9                             1733  "
      ]
     },
     "execution_count": 15,
     "metadata": {},
     "output_type": "execute_result"
    }
   ],
   "source": [
    "from sklearn.preprocessing import StandardScaler\n",
    "st_scalar = StandardScaler()\n",
    "df1_scaled = st_scalar.fit_transform(X)\n",
    "df1_scaled = pd.DataFrame(df1_scaled,columns=X.columns)\n",
    "df1_scaled['Available_delivery_Time_seconds'] = df1['Available_delivery_Time_seconds'].values\n",
    "df1_scaled.head(10)"
   ]
  },
  {
   "cell_type": "code",
   "execution_count": 16,
   "id": "7bdf719f",
   "metadata": {
    "execution": {
     "iopub.execute_input": "2023-04-04T18:11:40.472883Z",
     "iopub.status.busy": "2023-04-04T18:11:40.472337Z",
     "iopub.status.idle": "2023-04-04T18:11:41.382839Z",
     "shell.execute_reply": "2023-04-04T18:11:41.381180Z"
    },
    "papermill": {
     "duration": 0.92999,
     "end_time": "2023-04-04T18:11:41.386959",
     "exception": false,
     "start_time": "2023-04-04T18:11:40.456969",
     "status": "completed"
    },
    "tags": []
   },
   "outputs": [
    {
     "data": {
      "text/plain": [
       "<AxesSubplot:>"
      ]
     },
     "execution_count": 16,
     "metadata": {},
     "output_type": "execute_result"
    },
    {
     "data": {
      "image/png": "[encoded data removed]",
      "text/plain": [
       "<Figure size 640x480 with 2 Axes>"
      ]
     },
     "metadata": {},
     "output_type": "display_data"
    }
   ],
   "source": [
    "sns.heatmap(df1_scaled.corr(),annot=True)"
   ]
  },
  {
   "cell_type": "code",
   "execution_count": 17,
   "id": "5a0049a3",
   "metadata": {
    "execution": {
     "iopub.execute_input": "2023-04-04T18:11:41.416977Z",
     "iopub.status.busy": "2023-04-04T18:11:41.416087Z",
     "iopub.status.idle": "2023-04-04T18:11:41.422043Z",
     "shell.execute_reply": "2023-04-04T18:11:41.420562Z"
    },
    "papermill": {
     "duration": 0.024296,
     "end_time": "2023-04-04T18:11:41.424877",
     "exception": false,
     "start_time": "2023-04-04T18:11:41.400581",
     "status": "completed"
    },
    "tags": []
   },
   "outputs": [],
   "source": [
    "# df1_scaled.pop(\"Available_delivery_Time_seconds\")"
   ]
  },
  {
   "cell_type": "code",
   "execution_count": 18,
   "id": "ee2a8fe8",
   "metadata": {
    "execution": {
     "iopub.execute_input": "2023-04-04T18:11:41.453021Z",
     "iopub.status.busy": "2023-04-04T18:11:41.452550Z",
     "iopub.status.idle": "2023-04-04T18:11:41.461327Z",
     "shell.execute_reply": "2023-04-04T18:11:41.459859Z"
    },
    "papermill": {
     "duration": 0.026252,
     "end_time": "2023-04-04T18:11:41.464149",
     "exception": false,
     "start_time": "2023-04-04T18:11:41.437897",
     "status": "completed"
    },
    "tags": []
   },
   "outputs": [
    {
     "data": {
      "text/plain": [
       "Index(['total_items', 'subtotal', 'num_distinct_items', 'min_item_price',\n",
       "       'max_item_price', 'total_onshift_partners', 'total_busy_partners',\n",
       "       'total_outstanding_orders', 'Available_delivery_Time_seconds'],\n",
       "      dtype='object')"
      ]
     },
     "execution_count": 18,
     "metadata": {},
     "output_type": "execute_result"
    }
   ],
   "source": [
    "df1_scaled.columns"
   ]
  },
  {
   "cell_type": "code",
   "execution_count": 19,
   "id": "3fb93113",
   "metadata": {
    "execution": {
     "iopub.execute_input": "2023-04-04T18:11:41.493699Z",
     "iopub.status.busy": "2023-04-04T18:11:41.492534Z",
     "iopub.status.idle": "2023-04-04T18:11:41.511662Z",
     "shell.execute_reply": "2023-04-04T18:11:41.510295Z"
    },
    "papermill": {
     "duration": 0.037277,
     "end_time": "2023-04-04T18:11:41.514592",
     "exception": false,
     "start_time": "2023-04-04T18:11:41.477315",
     "status": "completed"
    },
    "tags": []
   },
   "outputs": [
    {
     "data": {
      "text/html": [
       "<div>\n",
       "<style scoped>\n",
       "    .dataframe tbody tr th:only-of-type {\n",
       "        vertical-align: middle;\n",
       "    }\n",
       "\n",
       "    .dataframe tbody tr th {\n",
       "        vertical-align: top;\n",
       "    }\n",
       "\n",
       "    .dataframe thead th {\n",
       "        text-align: right;\n",
       "    }\n",
       "</style>\n",
       "<table border=\"1\" class=\"dataframe\">\n",
       "  <thead>\n",
       "    <tr style=\"text-align: right;\">\n",
       "      <th></th>\n",
       "      <th>total_items</th>\n",
       "      <th>subtotal</th>\n",
       "      <th>num_distinct_items</th>\n",
       "      <th>min_item_price</th>\n",
       "      <th>max_item_price</th>\n",
       "      <th>total_onshift_partners</th>\n",
       "      <th>total_busy_partners</th>\n",
       "      <th>total_outstanding_orders</th>\n",
       "      <th>Available_delivery_Time_seconds</th>\n",
       "    </tr>\n",
       "  </thead>\n",
       "  <tbody>\n",
       "    <tr>\n",
       "      <th>0</th>\n",
       "      <td>0.297472</td>\n",
       "      <td>0.407072</td>\n",
       "      <td>0.815360</td>\n",
       "      <td>-0.246077</td>\n",
       "      <td>0.141076</td>\n",
       "      <td>-0.344788</td>\n",
       "      <td>-0.865989</td>\n",
       "      <td>-0.705902</td>\n",
       "      <td>3779</td>\n",
       "    </tr>\n",
       "    <tr>\n",
       "      <th>1</th>\n",
       "      <td>-0.824488</td>\n",
       "      <td>-0.435503</td>\n",
       "      <td>-1.030166</td>\n",
       "      <td>1.375358</td>\n",
       "      <td>0.428175</td>\n",
       "      <td>-1.271537</td>\n",
       "      <td>-1.239188</td>\n",
       "      <td>-1.066377</td>\n",
       "      <td>4024</td>\n",
       "    </tr>\n",
       "    <tr>\n",
       "      <th>2</th>\n",
       "      <td>0.297472</td>\n",
       "      <td>1.134278</td>\n",
       "      <td>0.200185</td>\n",
       "      <td>0.259780</td>\n",
       "      <td>0.791952</td>\n",
       "      <td>-1.068811</td>\n",
       "      <td>-1.114788</td>\n",
       "      <td>-0.762819</td>\n",
       "      <td>1586</td>\n",
       "    </tr>\n",
       "    <tr>\n",
       "      <th>3</th>\n",
       "      <td>-0.824488</td>\n",
       "      <td>-0.640542</td>\n",
       "      <td>-1.030166</td>\n",
       "      <td>1.615784</td>\n",
       "      <td>0.651077</td>\n",
       "      <td>-1.155693</td>\n",
       "      <td>-1.114788</td>\n",
       "      <td>-0.952543</td>\n",
       "      <td>2273</td>\n",
       "    </tr>\n",
       "    <tr>\n",
       "      <th>4</th>\n",
       "      <td>-0.450502</td>\n",
       "      <td>0.504944</td>\n",
       "      <td>-0.414991</td>\n",
       "      <td>1.423443</td>\n",
       "      <td>1.845835</td>\n",
       "      <td>-1.155693</td>\n",
       "      <td>-1.145888</td>\n",
       "      <td>-0.971515</td>\n",
       "      <td>2988</td>\n",
       "    </tr>\n",
       "  </tbody>\n",
       "</table>\n",
       "</div>"
      ],
      "text/plain": [
       "   total_items  subtotal  num_distinct_items  min_item_price  max_item_price  \\\n",
       "0     0.297472  0.407072            0.815360       -0.246077        0.141076   \n",
       "1    -0.824488 -0.435503           -1.030166        1.375358        0.428175   \n",
       "2     0.297472  1.134278            0.200185        0.259780        0.791952   \n",
       "3    -0.824488 -0.640542           -1.030166        1.615784        0.651077   \n",
       "4    -0.450502  0.504944           -0.414991        1.423443        1.845835   \n",
       "\n",
       "   total_onshift_partners  total_busy_partners  total_outstanding_orders  \\\n",
       "0               -0.344788            -0.865989                 -0.705902   \n",
       "1               -1.271537            -1.239188                 -1.066377   \n",
       "2               -1.068811            -1.114788                 -0.762819   \n",
       "3               -1.155693            -1.114788                 -0.952543   \n",
       "4               -1.155693            -1.145888                 -0.971515   \n",
       "\n",
       "   Available_delivery_Time_seconds  \n",
       "0                             3779  \n",
       "1                             4024  \n",
       "2                             1586  \n",
       "3                             2273  \n",
       "4                             2988  "
      ]
     },
     "execution_count": 19,
     "metadata": {},
     "output_type": "execute_result"
    }
   ],
   "source": [
    "df1_scaled.head()"
   ]
  },
  {
   "cell_type": "code",
   "execution_count": 20,
   "id": "bc7a1848",
   "metadata": {
    "execution": {
     "iopub.execute_input": "2023-04-04T18:11:41.545091Z",
     "iopub.status.busy": "2023-04-04T18:11:41.543888Z",
     "iopub.status.idle": "2023-04-04T18:11:41.570956Z",
     "shell.execute_reply": "2023-04-04T18:11:41.569539Z"
    },
    "papermill": {
     "duration": 0.04558,
     "end_time": "2023-04-04T18:11:41.573994",
     "exception": false,
     "start_time": "2023-04-04T18:11:41.528414",
     "status": "completed"
    },
    "tags": []
   },
   "outputs": [
    {
     "data": {
      "text/html": [
       "<div>\n",
       "<style scoped>\n",
       "    .dataframe tbody tr th:only-of-type {\n",
       "        vertical-align: middle;\n",
       "    }\n",
       "\n",
       "    .dataframe tbody tr th {\n",
       "        vertical-align: top;\n",
       "    }\n",
       "\n",
       "    .dataframe thead th {\n",
       "        text-align: right;\n",
       "    }\n",
       "</style>\n",
       "<table border=\"1\" class=\"dataframe\">\n",
       "  <thead>\n",
       "    <tr style=\"text-align: right;\">\n",
       "      <th></th>\n",
       "      <th>total_items</th>\n",
       "      <th>subtotal</th>\n",
       "      <th>num_distinct_items</th>\n",
       "      <th>min_item_price</th>\n",
       "      <th>max_item_price</th>\n",
       "      <th>total_onshift_partners</th>\n",
       "      <th>total_busy_partners</th>\n",
       "      <th>total_outstanding_orders</th>\n",
       "    </tr>\n",
       "  </thead>\n",
       "  <tbody>\n",
       "    <tr>\n",
       "      <th>0</th>\n",
       "      <td>0.297472</td>\n",
       "      <td>0.407072</td>\n",
       "      <td>0.815360</td>\n",
       "      <td>-0.246077</td>\n",
       "      <td>0.141076</td>\n",
       "      <td>-0.344788</td>\n",
       "      <td>-0.865989</td>\n",
       "      <td>-0.705902</td>\n",
       "    </tr>\n",
       "    <tr>\n",
       "      <th>1</th>\n",
       "      <td>-0.824488</td>\n",
       "      <td>-0.435503</td>\n",
       "      <td>-1.030166</td>\n",
       "      <td>1.375358</td>\n",
       "      <td>0.428175</td>\n",
       "      <td>-1.271537</td>\n",
       "      <td>-1.239188</td>\n",
       "      <td>-1.066377</td>\n",
       "    </tr>\n",
       "    <tr>\n",
       "      <th>2</th>\n",
       "      <td>0.297472</td>\n",
       "      <td>1.134278</td>\n",
       "      <td>0.200185</td>\n",
       "      <td>0.259780</td>\n",
       "      <td>0.791952</td>\n",
       "      <td>-1.068811</td>\n",
       "      <td>-1.114788</td>\n",
       "      <td>-0.762819</td>\n",
       "    </tr>\n",
       "    <tr>\n",
       "      <th>3</th>\n",
       "      <td>-0.824488</td>\n",
       "      <td>-0.640542</td>\n",
       "      <td>-1.030166</td>\n",
       "      <td>1.615784</td>\n",
       "      <td>0.651077</td>\n",
       "      <td>-1.155693</td>\n",
       "      <td>-1.114788</td>\n",
       "      <td>-0.952543</td>\n",
       "    </tr>\n",
       "    <tr>\n",
       "      <th>4</th>\n",
       "      <td>-0.450502</td>\n",
       "      <td>0.504944</td>\n",
       "      <td>-0.414991</td>\n",
       "      <td>1.423443</td>\n",
       "      <td>1.845835</td>\n",
       "      <td>-1.155693</td>\n",
       "      <td>-1.145888</td>\n",
       "      <td>-0.971515</td>\n",
       "    </tr>\n",
       "    <tr>\n",
       "      <th>...</th>\n",
       "      <td>...</td>\n",
       "      <td>...</td>\n",
       "      <td>...</td>\n",
       "      <td>...</td>\n",
       "      <td>...</td>\n",
       "      <td>...</td>\n",
       "      <td>...</td>\n",
       "      <td>...</td>\n",
       "    </tr>\n",
       "    <tr>\n",
       "      <th>176243</th>\n",
       "      <td>-0.076515</td>\n",
       "      <td>-0.714903</td>\n",
       "      <td>0.200185</td>\n",
       "      <td>-0.653840</td>\n",
       "      <td>-0.911025</td>\n",
       "      <td>-0.808162</td>\n",
       "      <td>-0.772690</td>\n",
       "      <td>-0.667957</td>\n",
       "    </tr>\n",
       "    <tr>\n",
       "      <th>176244</th>\n",
       "      <td>1.045445</td>\n",
       "      <td>0.171413</td>\n",
       "      <td>0.815360</td>\n",
       "      <td>-0.538435</td>\n",
       "      <td>-0.597178</td>\n",
       "      <td>-0.952967</td>\n",
       "      <td>-0.959289</td>\n",
       "      <td>-0.838708</td>\n",
       "    </tr>\n",
       "    <tr>\n",
       "      <th>176245</th>\n",
       "      <td>0.671459</td>\n",
       "      <td>-0.470496</td>\n",
       "      <td>0.200185</td>\n",
       "      <td>-0.740393</td>\n",
       "      <td>-1.356830</td>\n",
       "      <td>-0.171022</td>\n",
       "      <td>-0.026293</td>\n",
       "      <td>-0.345426</td>\n",
       "    </tr>\n",
       "    <tr>\n",
       "      <th>176246</th>\n",
       "      <td>-0.824488</td>\n",
       "      <td>-0.831912</td>\n",
       "      <td>-1.030166</td>\n",
       "      <td>-0.288392</td>\n",
       "      <td>-1.114312</td>\n",
       "      <td>-1.097771</td>\n",
       "      <td>-1.083688</td>\n",
       "      <td>-0.876653</td>\n",
       "    </tr>\n",
       "    <tr>\n",
       "      <th>176247</th>\n",
       "      <td>0.297472</td>\n",
       "      <td>-0.050029</td>\n",
       "      <td>0.815360</td>\n",
       "      <td>-0.499967</td>\n",
       "      <td>-0.730919</td>\n",
       "      <td>-0.721280</td>\n",
       "      <td>-0.679390</td>\n",
       "      <td>-0.667957</td>\n",
       "    </tr>\n",
       "  </tbody>\n",
       "</table>\n",
       "<p>176248 rows × 8 columns</p>\n",
       "</div>"
      ],
      "text/plain": [
       "        total_items  subtotal  num_distinct_items  min_item_price  \\\n",
       "0          0.297472  0.407072            0.815360       -0.246077   \n",
       "1         -0.824488 -0.435503           -1.030166        1.375358   \n",
       "2          0.297472  1.134278            0.200185        0.259780   \n",
       "3         -0.824488 -0.640542           -1.030166        1.615784   \n",
       "4         -0.450502  0.504944           -0.414991        1.423443   \n",
       "...             ...       ...                 ...             ...   \n",
       "176243    -0.076515 -0.714903            0.200185       -0.653840   \n",
       "176244     1.045445  0.171413            0.815360       -0.538435   \n",
       "176245     0.671459 -0.470496            0.200185       -0.740393   \n",
       "176246    -0.824488 -0.831912           -1.030166       -0.288392   \n",
       "176247     0.297472 -0.050029            0.815360       -0.499967   \n",
       "\n",
       "        max_item_price  total_onshift_partners  total_busy_partners  \\\n",
       "0             0.141076               -0.344788            -0.865989   \n",
       "1             0.428175               -1.271537            -1.239188   \n",
       "2             0.791952               -1.068811            -1.114788   \n",
       "3             0.651077               -1.155693            -1.114788   \n",
       "4             1.845835               -1.155693            -1.145888   \n",
       "...                ...                     ...                  ...   \n",
       "176243       -0.911025               -0.808162            -0.772690   \n",
       "176244       -0.597178               -0.952967            -0.959289   \n",
       "176245       -1.356830               -0.171022            -0.026293   \n",
       "176246       -1.114312               -1.097771            -1.083688   \n",
       "176247       -0.730919               -0.721280            -0.679390   \n",
       "\n",
       "        total_outstanding_orders  \n",
       "0                      -0.705902  \n",
       "1                      -1.066377  \n",
       "2                      -0.762819  \n",
       "3                      -0.952543  \n",
       "4                      -0.971515  \n",
       "...                          ...  \n",
       "176243                 -0.667957  \n",
       "176244                 -0.838708  \n",
       "176245                 -0.345426  \n",
       "176246                 -0.876653  \n",
       "176247                 -0.667957  \n",
       "\n",
       "[176248 rows x 8 columns]"
      ]
     },
     "execution_count": 20,
     "metadata": {},
     "output_type": "execute_result"
    }
   ],
   "source": [
    "df1_scaled.drop(columns = 'Available_delivery_Time_seconds')"
   ]
  },
  {
   "cell_type": "code",
   "execution_count": 21,
   "id": "a99e8c10",
   "metadata": {
    "execution": {
     "iopub.execute_input": "2023-04-04T18:11:41.605047Z",
     "iopub.status.busy": "2023-04-04T18:11:41.603755Z",
     "iopub.status.idle": "2023-04-04T18:11:42.257632Z",
     "shell.execute_reply": "2023-04-04T18:11:42.256237Z"
    },
    "papermill": {
     "duration": 0.674783,
     "end_time": "2023-04-04T18:11:42.262838",
     "exception": false,
     "start_time": "2023-04-04T18:11:41.588055",
     "status": "completed"
    },
    "tags": []
   },
   "outputs": [
    {
     "name": "stdout",
     "output_type": "stream",
     "text": [
      "[0.05100615 0.14267019 0.12691425 0.15739447 0.035449  ]\n"
     ]
    }
   ],
   "source": [
    "from sklearn.linear_model import BayesianRidge\n",
    "from sklearn.model_selection import cross_val_score\n",
    "reg = BayesianRidge()\n",
    "X = df1_scaled.drop(columns='Available_delivery_Time_seconds')\n",
    "y = df1_scaled['Available_delivery_Time_seconds']\n",
    "print(cross_val_score(reg, X, y, cv=5))"
   ]
  },
  {
   "cell_type": "code",
   "execution_count": null,
   "id": "b02ad629",
   "metadata": {
    "papermill": {
     "duration": 0.033142,
     "end_time": "2023-04-04T18:11:42.378679",
     "exception": false,
     "start_time": "2023-04-04T18:11:42.345537",
     "status": "completed"
    },
    "tags": []
   },
   "outputs": [],
   "source": []
  }
 ],
 "metadata": {
  "kernelspec": {
   "display_name": "Python 3",
   "language": "python",
   "name": "python3"
  },
  "language_info": {
   "codemirror_mode": {
    "name": "ipython",
    "version": 3
   },
   "file_extension": ".py",
   "mimetype": "text/x-python",
   "name": "python",
   "nbconvert_exporter": "python",
   "pygments_lexer": "ipython3",
   "version": "3.7.12"
  },
  "papermill": {
   "default_parameters": {},
   "duration": 20.253999,
   "end_time": "2023-04-04T18:11:43.424461",
   "environment_variables": {},
   "exception": null,
   "input_path": "__notebook__.ipynb",
   "output_path": "__notebook__.ipynb",
   "parameters": {},
   "start_time": "2023-04-04T18:11:23.170462",
   "version": "2.4.0"
  }
 },
 "nbformat": 4,
 "nbformat_minor": 5
}
