{
 "cells": [
  {
   "cell_type": "markdown",
   "id": "3899be50",
   "metadata": {
    "papermill": {
     "duration": 0.013424,
     "end_time": "2023-05-22T03:31:01.499618",
     "exception": false,
     "start_time": "2023-05-22T03:31:01.486194",
     "status": "completed"
    },
    "tags": []
   },
   "source": [
    "# Library"
   ]
  },
  {
   "cell_type": "code",
   "execution_count": 1,
   "id": "9ce73faa",
   "metadata": {
    "_cell_guid": "b1076dfc-b9ad-4769-8c92-a6c4dae69d19",
    "_uuid": "8f2839f25d086af736a60e9eeb907d3b93b6e0e5",
    "execution": {
     "iopub.execute_input": "2023-05-22T03:31:01.529350Z",
     "iopub.status.busy": "2023-05-22T03:31:01.528549Z",
     "iopub.status.idle": "2023-05-22T03:31:03.462872Z",
     "shell.execute_reply": "2023-05-22T03:31:03.461971Z"
    },
    "papermill": {
     "duration": 1.952455,
     "end_time": "2023-05-22T03:31:03.465717",
     "exception": false,
     "start_time": "2023-05-22T03:31:01.513262",
     "status": "completed"
    },
    "tags": []
   },
   "outputs": [
    {
     "name": "stderr",
     "output_type": "stream",
     "text": [
      "/opt/conda/lib/python3.10/site-packages/scipy/__init__.py:146: UserWarning: A NumPy version >=1.16.5 and <1.23.0 is required for this version of SciPy (detected version 1.23.5\n",
      "  warnings.warn(f\"A NumPy version >={np_minversion} and <{np_maxversion}\"\n"
     ]
    }
   ],
   "source": [
    "import numpy as np # linear algebra\n",
    "import pandas as pd # data processing, CSV file I/O (e.g. pd.read_csv)\n",
    "\n",
    "from sklearn.model_selection import train_test_split\n",
    "\n",
    "from sklearn.ensemble import RandomForestClassifier\n",
    "\n",
    "from sklearn.preprocessing import MinMaxScaler, StandardScaler\n",
    "from sklearn.preprocessing import OneHotEncoder\n",
    "\n",
    "from imblearn.over_sampling import SMOTE\n",
    "\n",
    "from sklearn.model_selection import cross_val_predict\n",
    "from sklearn.metrics import classification_report\n",
    "from sklearn.preprocessing import OrdinalEncoder"
   ]
  },
  {
   "cell_type": "markdown",
   "id": "aa132a0c",
   "metadata": {
    "papermill": {
     "duration": 0.012978,
     "end_time": "2023-05-22T03:31:03.492562",
     "exception": false,
     "start_time": "2023-05-22T03:31:03.479584",
     "status": "completed"
    },
    "tags": []
   },
   "source": [
    "# EDA"
   ]
  },
  {
   "cell_type": "code",
   "execution_count": 2,
   "id": "45fbf24b",
   "metadata": {
    "execution": {
     "iopub.execute_input": "2023-05-22T03:31:03.521032Z",
     "iopub.status.busy": "2023-05-22T03:31:03.520196Z",
     "iopub.status.idle": "2023-05-22T03:31:03.545335Z",
     "shell.execute_reply": "2023-05-22T03:31:03.544135Z"
    },
    "papermill": {
     "duration": 0.042373,
     "end_time": "2023-05-22T03:31:03.548111",
     "exception": false,
     "start_time": "2023-05-22T03:31:03.505738",
     "status": "completed"
    },
    "tags": []
   },
   "outputs": [],
   "source": [
    "df = pd.read_csv(\"/kaggle/input/dermatology-dataset-classification/dermatology_database_1.csv\")"
   ]
  },
  {
   "cell_type": "code",
   "execution_count": 3,
   "id": "3cb7f8ce",
   "metadata": {
    "execution": {
     "iopub.execute_input": "2023-05-22T03:31:03.577093Z",
     "iopub.status.busy": "2023-05-22T03:31:03.576673Z",
     "iopub.status.idle": "2023-05-22T03:31:03.609686Z",
     "shell.execute_reply": "2023-05-22T03:31:03.608553Z"
    },
    "papermill": {
     "duration": 0.050509,
     "end_time": "2023-05-22T03:31:03.612503",
     "exception": false,
     "start_time": "2023-05-22T03:31:03.561994",
     "status": "completed"
    },
    "tags": []
   },
   "outputs": [
    {
     "name": "stdout",
     "output_type": "stream",
     "text": [
      "<class 'pandas.core.frame.DataFrame'>\n",
      "RangeIndex: 366 entries, 0 to 365\n",
      "Data columns (total 35 columns):\n",
      " #   Column                               Non-Null Count  Dtype \n",
      "---  ------                               --------------  ----- \n",
      " 0   erythema                             366 non-null    int64 \n",
      " 1   scaling                              366 non-null    int64 \n",
      " 2   definite_borders                     366 non-null    int64 \n",
      " 3   itching                              366 non-null    int64 \n",
      " 4   koebner_phenomenon                   366 non-null    int64 \n",
      " 5   polygonal_papules                    366 non-null    int64 \n",
      " 6   follicular_papules                   366 non-null    int64 \n",
      " 7   oral_mucosal_involvement             366 non-null    int64 \n",
      " 8   knee_and_elbow_involvement           366 non-null    int64 \n",
      " 9   scalp_involvement                    366 non-null    int64 \n",
      " 10  family_history                       366 non-null    int64 \n",
      " 11  melanin_incontinence                 366 non-null    int64 \n",
      " 12  eosinophils_infiltrate               366 non-null    int64 \n",
      " 13  PNL_infiltrate                       366 non-null    int64 \n",
      " 14  fibrosis_papillary_dermis            366 non-null    int64 \n",
      " 15  exocytosis                           366 non-null    int64 \n",
      " 16  acanthosis                           366 non-null    int64 \n",
      " 17  hyperkeratosis                       366 non-null    int64 \n",
      " 18  parakeratosis                        366 non-null    int64 \n",
      " 19  clubbing_rete_ridges                 366 non-null    int64 \n",
      " 20  elongation_rete_ridges               366 non-null    int64 \n",
      " 21  thinning_suprapapillary_epidermis    366 non-null    int64 \n",
      " 22  spongiform_pustule                   366 non-null    int64 \n",
      " 23  munro_microabcess                    366 non-null    int64 \n",
      " 24  focal_hypergranulosis                366 non-null    int64 \n",
      " 25  disappearance_granular_layer         366 non-null    int64 \n",
      " 26  vacuolisation_damage_basal_layer     366 non-null    int64 \n",
      " 27  spongiosis                           366 non-null    int64 \n",
      " 28  saw_tooth_appearance_retes           366 non-null    int64 \n",
      " 29  follicular_horn_plug                 366 non-null    int64 \n",
      " 30  perifollicular_parakeratosis         366 non-null    int64 \n",
      " 31  inflammatory_mononuclear_infiltrate  366 non-null    int64 \n",
      " 32  band_like_infiltrate                 366 non-null    int64 \n",
      " 33  age                                  366 non-null    object\n",
      " 34  class                                366 non-null    int64 \n",
      "dtypes: int64(34), object(1)\n",
      "memory usage: 100.2+ KB\n"
     ]
    }
   ],
   "source": [
    "df.info()"
   ]
  },
  {
   "cell_type": "code",
   "execution_count": 4,
   "id": "2db15e92",
   "metadata": {
    "execution": {
     "iopub.execute_input": "2023-05-22T03:31:03.641545Z",
     "iopub.status.busy": "2023-05-22T03:31:03.641107Z",
     "iopub.status.idle": "2023-05-22T03:31:03.749420Z",
     "shell.execute_reply": "2023-05-22T03:31:03.748574Z"
    },
    "papermill": {
     "duration": 0.126207,
     "end_time": "2023-05-22T03:31:03.752339",
     "exception": false,
     "start_time": "2023-05-22T03:31:03.626132",
     "status": "completed"
    },
    "tags": []
   },
   "outputs": [
    {
     "name": "stdout",
     "output_type": "stream",
     "text": [
      "                                     count      mean       std  min  25%  50%  \\\n",
      "erythema                             366.0  2.068306  0.664753  0.0  2.0  2.0   \n",
      "scaling                              366.0  1.795082  0.701527  0.0  1.0  2.0   \n",
      "definite_borders                     366.0  1.549180  0.907525  0.0  1.0  2.0   \n",
      "itching                              366.0  1.366120  1.138299  0.0  0.0  1.0   \n",
      "koebner_phenomenon                   366.0  0.633880  0.908016  0.0  0.0  0.0   \n",
      "polygonal_papules                    366.0  0.448087  0.957327  0.0  0.0  0.0   \n",
      "follicular_papules                   366.0  0.166667  0.570588  0.0  0.0  0.0   \n",
      "oral_mucosal_involvement             366.0  0.377049  0.834147  0.0  0.0  0.0   \n",
      "knee_and_elbow_involvement           366.0  0.614754  0.982979  0.0  0.0  0.0   \n",
      "scalp_involvement                    366.0  0.519126  0.905639  0.0  0.0  0.0   \n",
      "family_history                       366.0  0.125683  0.331946  0.0  0.0  0.0   \n",
      "melanin_incontinence                 366.0  0.404372  0.869818  0.0  0.0  0.0   \n",
      "eosinophils_infiltrate               366.0  0.139344  0.411790  0.0  0.0  0.0   \n",
      "PNL_infiltrate                       366.0  0.546448  0.815451  0.0  0.0  0.0   \n",
      "fibrosis_papillary_dermis            366.0  0.336066  0.853139  0.0  0.0  0.0   \n",
      "exocytosis                           366.0  1.368852  1.104418  0.0  0.0  2.0   \n",
      "acanthosis                           366.0  1.956284  0.712512  0.0  2.0  2.0   \n",
      "hyperkeratosis                       366.0  0.527322  0.757116  0.0  0.0  0.0   \n",
      "parakeratosis                        366.0  1.289617  0.917562  0.0  1.0  1.0   \n",
      "clubbing_rete_ridges                 366.0  0.663934  1.056829  0.0  0.0  0.0   \n",
      "elongation_rete_ridges               366.0  0.991803  1.162161  0.0  0.0  0.0   \n",
      "thinning_suprapapillary_epidermis    366.0  0.633880  1.034924  0.0  0.0  0.0   \n",
      "spongiform_pustule                   366.0  0.295082  0.670578  0.0  0.0  0.0   \n",
      "munro_microabcess                    366.0  0.363388  0.759721  0.0  0.0  0.0   \n",
      "focal_hypergranulosis                366.0  0.393443  0.849406  0.0  0.0  0.0   \n",
      "disappearance_granular_layer         366.0  0.464481  0.864899  0.0  0.0  0.0   \n",
      "vacuolisation_damage_basal_layer     366.0  0.456284  0.954873  0.0  0.0  0.0   \n",
      "spongiosis                           366.0  0.953552  1.130172  0.0  0.0  0.0   \n",
      "saw_tooth_appearance_retes           366.0  0.453552  0.954744  0.0  0.0  0.0   \n",
      "follicular_horn_plug                 366.0  0.103825  0.450433  0.0  0.0  0.0   \n",
      "perifollicular_parakeratosis         366.0  0.114754  0.488723  0.0  0.0  0.0   \n",
      "inflammatory_mononuclear_infiltrate  366.0  1.866120  0.726108  0.0  1.0  2.0   \n",
      "band_like_infiltrate                 366.0  0.554645  1.105908  0.0  0.0  0.0   \n",
      "class                                366.0  2.803279  1.597803  1.0  1.0  3.0   \n",
      "\n",
      "                                     75%  max  \n",
      "erythema                             2.0  3.0  \n",
      "scaling                              2.0  3.0  \n",
      "definite_borders                     2.0  3.0  \n",
      "itching                              2.0  3.0  \n",
      "koebner_phenomenon                   1.0  3.0  \n",
      "polygonal_papules                    0.0  3.0  \n",
      "follicular_papules                   0.0  3.0  \n",
      "oral_mucosal_involvement             0.0  3.0  \n",
      "knee_and_elbow_involvement           1.0  3.0  \n",
      "scalp_involvement                    1.0  3.0  \n",
      "family_history                       0.0  1.0  \n",
      "melanin_incontinence                 0.0  3.0  \n",
      "eosinophils_infiltrate               0.0  2.0  \n",
      "PNL_infiltrate                       1.0  3.0  \n",
      "fibrosis_papillary_dermis            0.0  3.0  \n",
      "exocytosis                           2.0  3.0  \n",
      "acanthosis                           2.0  3.0  \n",
      "hyperkeratosis                       1.0  3.0  \n",
      "parakeratosis                        2.0  3.0  \n",
      "clubbing_rete_ridges                 2.0  3.0  \n",
      "elongation_rete_ridges               2.0  3.0  \n",
      "thinning_suprapapillary_epidermis    1.0  3.0  \n",
      "spongiform_pustule                   0.0  3.0  \n",
      "munro_microabcess                    0.0  3.0  \n",
      "focal_hypergranulosis                0.0  3.0  \n",
      "disappearance_granular_layer         1.0  3.0  \n",
      "vacuolisation_damage_basal_layer     0.0  3.0  \n",
      "spongiosis                           2.0  3.0  \n",
      "saw_tooth_appearance_retes           0.0  3.0  \n",
      "follicular_horn_plug                 0.0  3.0  \n",
      "perifollicular_parakeratosis         0.0  3.0  \n",
      "inflammatory_mononuclear_infiltrate  2.0  3.0  \n",
      "band_like_infiltrate                 0.0  3.0  \n",
      "class                                4.0  6.0  \n"
     ]
    }
   ],
   "source": [
    "description = df.describe().transpose()\n",
    "\n",
    "# Display the complete description\n",
    "with pd.option_context('display.max_rows', None, 'display.max_columns', None):\n",
    "    print(description)"
   ]
  },
  {
   "cell_type": "code",
   "execution_count": 5,
   "id": "c077661e",
   "metadata": {
    "execution": {
     "iopub.execute_input": "2023-05-22T03:31:03.781260Z",
     "iopub.status.busy": "2023-05-22T03:31:03.780870Z",
     "iopub.status.idle": "2023-05-22T03:31:03.812872Z",
     "shell.execute_reply": "2023-05-22T03:31:03.811703Z"
    },
    "papermill": {
     "duration": 0.049332,
     "end_time": "2023-05-22T03:31:03.815407",
     "exception": false,
     "start_time": "2023-05-22T03:31:03.766075",
     "status": "completed"
    },
    "tags": []
   },
   "outputs": [
    {
     "data": {
      "text/html": [
       "<div>\n",
       "<style scoped>\n",
       "    .dataframe tbody tr th:only-of-type {\n",
       "        vertical-align: middle;\n",
       "    }\n",
       "\n",
       "    .dataframe tbody tr th {\n",
       "        vertical-align: top;\n",
       "    }\n",
       "\n",
       "    .dataframe thead th {\n",
       "        text-align: right;\n",
       "    }\n",
       "</style>\n",
       "<table border=\"1\" class=\"dataframe\">\n",
       "  <thead>\n",
       "    <tr style=\"text-align: right;\">\n",
       "      <th></th>\n",
       "      <th>erythema</th>\n",
       "      <th>scaling</th>\n",
       "      <th>definite_borders</th>\n",
       "      <th>itching</th>\n",
       "      <th>koebner_phenomenon</th>\n",
       "      <th>polygonal_papules</th>\n",
       "      <th>follicular_papules</th>\n",
       "      <th>oral_mucosal_involvement</th>\n",
       "      <th>knee_and_elbow_involvement</th>\n",
       "      <th>scalp_involvement</th>\n",
       "      <th>...</th>\n",
       "      <th>disappearance_granular_layer</th>\n",
       "      <th>vacuolisation_damage_basal_layer</th>\n",
       "      <th>spongiosis</th>\n",
       "      <th>saw_tooth_appearance_retes</th>\n",
       "      <th>follicular_horn_plug</th>\n",
       "      <th>perifollicular_parakeratosis</th>\n",
       "      <th>inflammatory_mononuclear_infiltrate</th>\n",
       "      <th>band_like_infiltrate</th>\n",
       "      <th>age</th>\n",
       "      <th>class</th>\n",
       "    </tr>\n",
       "  </thead>\n",
       "  <tbody>\n",
       "    <tr>\n",
       "      <th>0</th>\n",
       "      <td>2</td>\n",
       "      <td>2</td>\n",
       "      <td>0</td>\n",
       "      <td>3</td>\n",
       "      <td>0</td>\n",
       "      <td>0</td>\n",
       "      <td>0</td>\n",
       "      <td>0</td>\n",
       "      <td>1</td>\n",
       "      <td>0</td>\n",
       "      <td>...</td>\n",
       "      <td>0</td>\n",
       "      <td>0</td>\n",
       "      <td>3</td>\n",
       "      <td>0</td>\n",
       "      <td>0</td>\n",
       "      <td>0</td>\n",
       "      <td>1</td>\n",
       "      <td>0</td>\n",
       "      <td>55</td>\n",
       "      <td>2</td>\n",
       "    </tr>\n",
       "    <tr>\n",
       "      <th>1</th>\n",
       "      <td>3</td>\n",
       "      <td>3</td>\n",
       "      <td>3</td>\n",
       "      <td>2</td>\n",
       "      <td>1</td>\n",
       "      <td>0</td>\n",
       "      <td>0</td>\n",
       "      <td>0</td>\n",
       "      <td>1</td>\n",
       "      <td>1</td>\n",
       "      <td>...</td>\n",
       "      <td>0</td>\n",
       "      <td>0</td>\n",
       "      <td>0</td>\n",
       "      <td>0</td>\n",
       "      <td>0</td>\n",
       "      <td>0</td>\n",
       "      <td>1</td>\n",
       "      <td>0</td>\n",
       "      <td>8</td>\n",
       "      <td>1</td>\n",
       "    </tr>\n",
       "    <tr>\n",
       "      <th>2</th>\n",
       "      <td>2</td>\n",
       "      <td>1</td>\n",
       "      <td>2</td>\n",
       "      <td>3</td>\n",
       "      <td>1</td>\n",
       "      <td>3</td>\n",
       "      <td>0</td>\n",
       "      <td>3</td>\n",
       "      <td>0</td>\n",
       "      <td>0</td>\n",
       "      <td>...</td>\n",
       "      <td>0</td>\n",
       "      <td>2</td>\n",
       "      <td>3</td>\n",
       "      <td>2</td>\n",
       "      <td>0</td>\n",
       "      <td>0</td>\n",
       "      <td>2</td>\n",
       "      <td>3</td>\n",
       "      <td>26</td>\n",
       "      <td>3</td>\n",
       "    </tr>\n",
       "    <tr>\n",
       "      <th>3</th>\n",
       "      <td>2</td>\n",
       "      <td>2</td>\n",
       "      <td>2</td>\n",
       "      <td>0</td>\n",
       "      <td>0</td>\n",
       "      <td>0</td>\n",
       "      <td>0</td>\n",
       "      <td>0</td>\n",
       "      <td>3</td>\n",
       "      <td>2</td>\n",
       "      <td>...</td>\n",
       "      <td>3</td>\n",
       "      <td>0</td>\n",
       "      <td>0</td>\n",
       "      <td>0</td>\n",
       "      <td>0</td>\n",
       "      <td>0</td>\n",
       "      <td>3</td>\n",
       "      <td>0</td>\n",
       "      <td>40</td>\n",
       "      <td>1</td>\n",
       "    </tr>\n",
       "    <tr>\n",
       "      <th>4</th>\n",
       "      <td>2</td>\n",
       "      <td>3</td>\n",
       "      <td>2</td>\n",
       "      <td>2</td>\n",
       "      <td>2</td>\n",
       "      <td>2</td>\n",
       "      <td>0</td>\n",
       "      <td>2</td>\n",
       "      <td>0</td>\n",
       "      <td>0</td>\n",
       "      <td>...</td>\n",
       "      <td>2</td>\n",
       "      <td>3</td>\n",
       "      <td>2</td>\n",
       "      <td>3</td>\n",
       "      <td>0</td>\n",
       "      <td>0</td>\n",
       "      <td>2</td>\n",
       "      <td>3</td>\n",
       "      <td>45</td>\n",
       "      <td>3</td>\n",
       "    </tr>\n",
       "  </tbody>\n",
       "</table>\n",
       "<p>5 rows × 35 columns</p>\n",
       "</div>"
      ],
      "text/plain": [
       "   erythema  scaling  definite_borders  itching  koebner_phenomenon  \\\n",
       "0         2        2                 0        3                   0   \n",
       "1         3        3                 3        2                   1   \n",
       "2         2        1                 2        3                   1   \n",
       "3         2        2                 2        0                   0   \n",
       "4         2        3                 2        2                   2   \n",
       "\n",
       "   polygonal_papules  follicular_papules  oral_mucosal_involvement  \\\n",
       "0                  0                   0                         0   \n",
       "1                  0                   0                         0   \n",
       "2                  3                   0                         3   \n",
       "3                  0                   0                         0   \n",
       "4                  2                   0                         2   \n",
       "\n",
       "   knee_and_elbow_involvement  scalp_involvement  ...  \\\n",
       "0                           1                  0  ...   \n",
       "1                           1                  1  ...   \n",
       "2                           0                  0  ...   \n",
       "3                           3                  2  ...   \n",
       "4                           0                  0  ...   \n",
       "\n",
       "   disappearance_granular_layer  vacuolisation_damage_basal_layer  spongiosis  \\\n",
       "0                             0                                 0           3   \n",
       "1                             0                                 0           0   \n",
       "2                             0                                 2           3   \n",
       "3                             3                                 0           0   \n",
       "4                             2                                 3           2   \n",
       "\n",
       "   saw_tooth_appearance_retes  follicular_horn_plug  \\\n",
       "0                           0                     0   \n",
       "1                           0                     0   \n",
       "2                           2                     0   \n",
       "3                           0                     0   \n",
       "4                           3                     0   \n",
       "\n",
       "   perifollicular_parakeratosis  inflammatory_mononuclear_infiltrate  \\\n",
       "0                             0                                    1   \n",
       "1                             0                                    1   \n",
       "2                             0                                    2   \n",
       "3                             0                                    3   \n",
       "4                             0                                    2   \n",
       "\n",
       "   band_like_infiltrate  age  class  \n",
       "0                     0   55      2  \n",
       "1                     0    8      1  \n",
       "2                     3   26      3  \n",
       "3                     0   40      1  \n",
       "4                     3   45      3  \n",
       "\n",
       "[5 rows x 35 columns]"
      ]
     },
     "execution_count": 5,
     "metadata": {},
     "output_type": "execute_result"
    }
   ],
   "source": [
    "df.head()"
   ]
  },
  {
   "cell_type": "code",
   "execution_count": 6,
   "id": "0ce04cb0",
   "metadata": {
    "execution": {
     "iopub.execute_input": "2023-05-22T03:31:03.845778Z",
     "iopub.status.busy": "2023-05-22T03:31:03.844776Z",
     "iopub.status.idle": "2023-05-22T03:31:03.853720Z",
     "shell.execute_reply": "2023-05-22T03:31:03.852907Z"
    },
    "papermill": {
     "duration": 0.026497,
     "end_time": "2023-05-22T03:31:03.855990",
     "exception": false,
     "start_time": "2023-05-22T03:31:03.829493",
     "status": "completed"
    },
    "tags": []
   },
   "outputs": [
    {
     "data": {
      "text/plain": [
       "1    112\n",
       "3     72\n",
       "2     61\n",
       "5     52\n",
       "4     49\n",
       "6     20\n",
       "Name: class, dtype: int64"
      ]
     },
     "execution_count": 6,
     "metadata": {},
     "output_type": "execute_result"
    }
   ],
   "source": [
    "df['class'].value_counts()"
   ]
  },
  {
   "cell_type": "markdown",
   "id": "1f1d6595",
   "metadata": {
    "papermill": {
     "duration": 0.014177,
     "end_time": "2023-05-22T03:31:03.884506",
     "exception": false,
     "start_time": "2023-05-22T03:31:03.870329",
     "status": "completed"
    },
    "tags": []
   },
   "source": [
    "# Preprocess"
   ]
  },
  {
   "cell_type": "code",
   "execution_count": 7,
   "id": "db47635e",
   "metadata": {
    "execution": {
     "iopub.execute_input": "2023-05-22T03:31:03.914877Z",
     "iopub.status.busy": "2023-05-22T03:31:03.914497Z",
     "iopub.status.idle": "2023-05-22T03:31:03.925039Z",
     "shell.execute_reply": "2023-05-22T03:31:03.923935Z"
    },
    "papermill": {
     "duration": 0.028732,
     "end_time": "2023-05-22T03:31:03.927575",
     "exception": false,
     "start_time": "2023-05-22T03:31:03.898843",
     "status": "completed"
    },
    "tags": []
   },
   "outputs": [
    {
     "data": {
      "text/plain": [
       "erythema                               0\n",
       "scaling                                0\n",
       "definite_borders                       0\n",
       "itching                                0\n",
       "koebner_phenomenon                     0\n",
       "polygonal_papules                      0\n",
       "follicular_papules                     0\n",
       "oral_mucosal_involvement               0\n",
       "knee_and_elbow_involvement             0\n",
       "scalp_involvement                      0\n",
       "family_history                         0\n",
       "melanin_incontinence                   0\n",
       "eosinophils_infiltrate                 0\n",
       "PNL_infiltrate                         0\n",
       "fibrosis_papillary_dermis              0\n",
       "exocytosis                             0\n",
       "acanthosis                             0\n",
       "hyperkeratosis                         0\n",
       "parakeratosis                          0\n",
       "clubbing_rete_ridges                   0\n",
       "elongation_rete_ridges                 0\n",
       "thinning_suprapapillary_epidermis      0\n",
       "spongiform_pustule                     0\n",
       "munro_microabcess                      0\n",
       "focal_hypergranulosis                  0\n",
       "disappearance_granular_layer           0\n",
       "vacuolisation_damage_basal_layer       0\n",
       "spongiosis                             0\n",
       "saw_tooth_appearance_retes             0\n",
       "follicular_horn_plug                   0\n",
       "perifollicular_parakeratosis           0\n",
       "inflammatory_mononuclear_infiltrate    0\n",
       "band_like_infiltrate                   0\n",
       "age                                    8\n",
       "class                                  0\n",
       "dtype: int64"
      ]
     },
     "execution_count": 7,
     "metadata": {},
     "output_type": "execute_result"
    }
   ],
   "source": [
    "mask = df.isin(['?'])\n",
    "\n",
    "# Count \"?\" values per column\n",
    "column_counts = mask.sum()\n",
    "\n",
    "column_counts"
   ]
  },
  {
   "cell_type": "code",
   "execution_count": 8,
   "id": "82b77ef4",
   "metadata": {
    "execution": {
     "iopub.execute_input": "2023-05-22T03:31:03.958989Z",
     "iopub.status.busy": "2023-05-22T03:31:03.958261Z",
     "iopub.status.idle": "2023-05-22T03:31:03.964345Z",
     "shell.execute_reply": "2023-05-22T03:31:03.963191Z"
    },
    "papermill": {
     "duration": 0.025087,
     "end_time": "2023-05-22T03:31:03.967124",
     "exception": false,
     "start_time": "2023-05-22T03:31:03.942037",
     "status": "completed"
    },
    "tags": []
   },
   "outputs": [],
   "source": [
    "# Drop rows with \"?\" values\n",
    "df = df[~mask.any(axis=1)]"
   ]
  },
  {
   "cell_type": "markdown",
   "id": "5b074f0a",
   "metadata": {
    "papermill": {
     "duration": 0.014539,
     "end_time": "2023-05-22T03:31:03.996340",
     "exception": false,
     "start_time": "2023-05-22T03:31:03.981801",
     "status": "completed"
    },
    "tags": []
   },
   "source": [
    "# Feature Extraction"
   ]
  },
  {
   "cell_type": "code",
   "execution_count": 9,
   "id": "62bd3dba",
   "metadata": {
    "execution": {
     "iopub.execute_input": "2023-05-22T03:31:04.027745Z",
     "iopub.status.busy": "2023-05-22T03:31:04.027043Z",
     "iopub.status.idle": "2023-05-22T03:31:04.043408Z",
     "shell.execute_reply": "2023-05-22T03:31:04.042242Z"
    },
    "papermill": {
     "duration": 0.035007,
     "end_time": "2023-05-22T03:31:04.046281",
     "exception": false,
     "start_time": "2023-05-22T03:31:04.011274",
     "status": "completed"
    },
    "tags": []
   },
   "outputs": [],
   "source": [
    "# Age Binning\n",
    "df['age'] = pd.to_numeric(df['age'], errors='coerce')\n",
    "df['age_bin'] = pd.cut(df['age'], bins=[0, 12, 18, 65, 120],\n",
    "                         labels=['Child', 'Teenager', 'Adult', 'Elderly'])\n",
    "\n",
    "# Initialize the OrdinalEncoder\n",
    "encoder = OrdinalEncoder()\n",
    "\n",
    "# Fit and transform the 'agebin' data using the encoder\n",
    "df[['age_bin']] = encoder.fit_transform(df[['age_bin']])"
   ]
  },
  {
   "cell_type": "code",
   "execution_count": 10,
   "id": "d96d92d9",
   "metadata": {
    "execution": {
     "iopub.execute_input": "2023-05-22T03:31:04.077010Z",
     "iopub.status.busy": "2023-05-22T03:31:04.076619Z",
     "iopub.status.idle": "2023-05-22T03:31:04.087686Z",
     "shell.execute_reply": "2023-05-22T03:31:04.086682Z"
    },
    "papermill": {
     "duration": 0.029534,
     "end_time": "2023-05-22T03:31:04.090283",
     "exception": false,
     "start_time": "2023-05-22T03:31:04.060749",
     "status": "completed"
    },
    "tags": []
   },
   "outputs": [],
   "source": [
    "# Feature Scaling\n",
    "scaler = MinMaxScaler()\n",
    "numerical_cols = ['erythema', 'scaling', 'exocytosis', 'acanthosis', 'hyperkeratosis']\n",
    "df[numerical_cols] = scaler.fit_transform(df[numerical_cols])"
   ]
  },
  {
   "cell_type": "code",
   "execution_count": 11,
   "id": "d1864bc7",
   "metadata": {
    "execution": {
     "iopub.execute_input": "2023-05-22T03:31:04.120795Z",
     "iopub.status.busy": "2023-05-22T03:31:04.120408Z",
     "iopub.status.idle": "2023-05-22T03:31:04.127934Z",
     "shell.execute_reply": "2023-05-22T03:31:04.127061Z"
    },
    "papermill": {
     "duration": 0.025551,
     "end_time": "2023-05-22T03:31:04.130257",
     "exception": false,
     "start_time": "2023-05-22T03:31:04.104706",
     "status": "completed"
    },
    "tags": []
   },
   "outputs": [],
   "source": [
    "# Feature Aggregation\n",
    "aggregated_features = df[['erythema', 'scaling', 'exocytosis']].mean(axis=1)\n",
    "df['aggregated_features'] = aggregated_features"
   ]
  },
  {
   "cell_type": "code",
   "execution_count": 12,
   "id": "ecfd21cf",
   "metadata": {
    "execution": {
     "iopub.execute_input": "2023-05-22T03:31:04.161061Z",
     "iopub.status.busy": "2023-05-22T03:31:04.160306Z",
     "iopub.status.idle": "2023-05-22T03:31:04.167237Z",
     "shell.execute_reply": "2023-05-22T03:31:04.166471Z"
    },
    "papermill": {
     "duration": 0.024902,
     "end_time": "2023-05-22T03:31:04.169546",
     "exception": false,
     "start_time": "2023-05-22T03:31:04.144644",
     "status": "completed"
    },
    "tags": []
   },
   "outputs": [],
   "source": [
    "# Domain-Specific Transformations\n",
    "df['log_erythema'] = np.log1p(df['erythema'])\n",
    "df['scaling_squared'] = df['scaling'] ** 2"
   ]
  },
  {
   "cell_type": "code",
   "execution_count": 13,
   "id": "25742b68",
   "metadata": {
    "execution": {
     "iopub.execute_input": "2023-05-22T03:31:04.200449Z",
     "iopub.status.busy": "2023-05-22T03:31:04.199658Z",
     "iopub.status.idle": "2023-05-22T03:31:04.222940Z",
     "shell.execute_reply": "2023-05-22T03:31:04.221785Z"
    },
    "papermill": {
     "duration": 0.04178,
     "end_time": "2023-05-22T03:31:04.225673",
     "exception": false,
     "start_time": "2023-05-22T03:31:04.183893",
     "status": "completed"
    },
    "tags": []
   },
   "outputs": [
    {
     "data": {
      "text/html": [
       "<div>\n",
       "<style scoped>\n",
       "    .dataframe tbody tr th:only-of-type {\n",
       "        vertical-align: middle;\n",
       "    }\n",
       "\n",
       "    .dataframe tbody tr th {\n",
       "        vertical-align: top;\n",
       "    }\n",
       "\n",
       "    .dataframe thead th {\n",
       "        text-align: right;\n",
       "    }\n",
       "</style>\n",
       "<table border=\"1\" class=\"dataframe\">\n",
       "  <thead>\n",
       "    <tr style=\"text-align: right;\">\n",
       "      <th></th>\n",
       "      <th>erythema</th>\n",
       "      <th>scaling</th>\n",
       "      <th>definite_borders</th>\n",
       "      <th>itching</th>\n",
       "      <th>koebner_phenomenon</th>\n",
       "      <th>polygonal_papules</th>\n",
       "      <th>follicular_papules</th>\n",
       "      <th>oral_mucosal_involvement</th>\n",
       "      <th>knee_and_elbow_involvement</th>\n",
       "      <th>scalp_involvement</th>\n",
       "      <th>...</th>\n",
       "      <th>follicular_horn_plug</th>\n",
       "      <th>perifollicular_parakeratosis</th>\n",
       "      <th>inflammatory_mononuclear_infiltrate</th>\n",
       "      <th>band_like_infiltrate</th>\n",
       "      <th>age</th>\n",
       "      <th>class</th>\n",
       "      <th>age_bin</th>\n",
       "      <th>aggregated_features</th>\n",
       "      <th>log_erythema</th>\n",
       "      <th>scaling_squared</th>\n",
       "    </tr>\n",
       "  </thead>\n",
       "  <tbody>\n",
       "    <tr>\n",
       "      <th>0</th>\n",
       "      <td>0.666667</td>\n",
       "      <td>0.666667</td>\n",
       "      <td>0</td>\n",
       "      <td>3</td>\n",
       "      <td>0</td>\n",
       "      <td>0</td>\n",
       "      <td>0</td>\n",
       "      <td>0</td>\n",
       "      <td>1</td>\n",
       "      <td>0</td>\n",
       "      <td>...</td>\n",
       "      <td>0</td>\n",
       "      <td>0</td>\n",
       "      <td>1</td>\n",
       "      <td>0</td>\n",
       "      <td>55</td>\n",
       "      <td>2</td>\n",
       "      <td>0.0</td>\n",
       "      <td>0.777778</td>\n",
       "      <td>0.510826</td>\n",
       "      <td>0.444444</td>\n",
       "    </tr>\n",
       "    <tr>\n",
       "      <th>1</th>\n",
       "      <td>1.000000</td>\n",
       "      <td>1.000000</td>\n",
       "      <td>3</td>\n",
       "      <td>2</td>\n",
       "      <td>1</td>\n",
       "      <td>0</td>\n",
       "      <td>0</td>\n",
       "      <td>0</td>\n",
       "      <td>1</td>\n",
       "      <td>1</td>\n",
       "      <td>...</td>\n",
       "      <td>0</td>\n",
       "      <td>0</td>\n",
       "      <td>1</td>\n",
       "      <td>0</td>\n",
       "      <td>8</td>\n",
       "      <td>1</td>\n",
       "      <td>1.0</td>\n",
       "      <td>0.777778</td>\n",
       "      <td>0.693147</td>\n",
       "      <td>1.000000</td>\n",
       "    </tr>\n",
       "    <tr>\n",
       "      <th>2</th>\n",
       "      <td>0.666667</td>\n",
       "      <td>0.333333</td>\n",
       "      <td>2</td>\n",
       "      <td>3</td>\n",
       "      <td>1</td>\n",
       "      <td>3</td>\n",
       "      <td>0</td>\n",
       "      <td>3</td>\n",
       "      <td>0</td>\n",
       "      <td>0</td>\n",
       "      <td>...</td>\n",
       "      <td>0</td>\n",
       "      <td>0</td>\n",
       "      <td>2</td>\n",
       "      <td>3</td>\n",
       "      <td>26</td>\n",
       "      <td>3</td>\n",
       "      <td>0.0</td>\n",
       "      <td>0.444444</td>\n",
       "      <td>0.510826</td>\n",
       "      <td>0.111111</td>\n",
       "    </tr>\n",
       "    <tr>\n",
       "      <th>3</th>\n",
       "      <td>0.666667</td>\n",
       "      <td>0.666667</td>\n",
       "      <td>2</td>\n",
       "      <td>0</td>\n",
       "      <td>0</td>\n",
       "      <td>0</td>\n",
       "      <td>0</td>\n",
       "      <td>0</td>\n",
       "      <td>3</td>\n",
       "      <td>2</td>\n",
       "      <td>...</td>\n",
       "      <td>0</td>\n",
       "      <td>0</td>\n",
       "      <td>3</td>\n",
       "      <td>0</td>\n",
       "      <td>40</td>\n",
       "      <td>1</td>\n",
       "      <td>0.0</td>\n",
       "      <td>0.444444</td>\n",
       "      <td>0.510826</td>\n",
       "      <td>0.444444</td>\n",
       "    </tr>\n",
       "    <tr>\n",
       "      <th>4</th>\n",
       "      <td>0.666667</td>\n",
       "      <td>1.000000</td>\n",
       "      <td>2</td>\n",
       "      <td>2</td>\n",
       "      <td>2</td>\n",
       "      <td>2</td>\n",
       "      <td>0</td>\n",
       "      <td>2</td>\n",
       "      <td>0</td>\n",
       "      <td>0</td>\n",
       "      <td>...</td>\n",
       "      <td>0</td>\n",
       "      <td>0</td>\n",
       "      <td>2</td>\n",
       "      <td>3</td>\n",
       "      <td>45</td>\n",
       "      <td>3</td>\n",
       "      <td>0.0</td>\n",
       "      <td>0.666667</td>\n",
       "      <td>0.510826</td>\n",
       "      <td>1.000000</td>\n",
       "    </tr>\n",
       "  </tbody>\n",
       "</table>\n",
       "<p>5 rows × 39 columns</p>\n",
       "</div>"
      ],
      "text/plain": [
       "   erythema   scaling  definite_borders  itching  koebner_phenomenon  \\\n",
       "0  0.666667  0.666667                 0        3                   0   \n",
       "1  1.000000  1.000000                 3        2                   1   \n",
       "2  0.666667  0.333333                 2        3                   1   \n",
       "3  0.666667  0.666667                 2        0                   0   \n",
       "4  0.666667  1.000000                 2        2                   2   \n",
       "\n",
       "   polygonal_papules  follicular_papules  oral_mucosal_involvement  \\\n",
       "0                  0                   0                         0   \n",
       "1                  0                   0                         0   \n",
       "2                  3                   0                         3   \n",
       "3                  0                   0                         0   \n",
       "4                  2                   0                         2   \n",
       "\n",
       "   knee_and_elbow_involvement  scalp_involvement  ...  follicular_horn_plug  \\\n",
       "0                           1                  0  ...                     0   \n",
       "1                           1                  1  ...                     0   \n",
       "2                           0                  0  ...                     0   \n",
       "3                           3                  2  ...                     0   \n",
       "4                           0                  0  ...                     0   \n",
       "\n",
       "   perifollicular_parakeratosis  inflammatory_mononuclear_infiltrate  \\\n",
       "0                             0                                    1   \n",
       "1                             0                                    1   \n",
       "2                             0                                    2   \n",
       "3                             0                                    3   \n",
       "4                             0                                    2   \n",
       "\n",
       "   band_like_infiltrate  age  class  age_bin  aggregated_features  \\\n",
       "0                     0   55      2      0.0             0.777778   \n",
       "1                     0    8      1      1.0             0.777778   \n",
       "2                     3   26      3      0.0             0.444444   \n",
       "3                     0   40      1      0.0             0.444444   \n",
       "4                     3   45      3      0.0             0.666667   \n",
       "\n",
       "   log_erythema  scaling_squared  \n",
       "0      0.510826         0.444444  \n",
       "1      0.693147         1.000000  \n",
       "2      0.510826         0.111111  \n",
       "3      0.510826         0.444444  \n",
       "4      0.510826         1.000000  \n",
       "\n",
       "[5 rows x 39 columns]"
      ]
     },
     "execution_count": 13,
     "metadata": {},
     "output_type": "execute_result"
    }
   ],
   "source": [
    "# Display the modified dataset\n",
    "df.head()"
   ]
  },
  {
   "cell_type": "code",
   "execution_count": 14,
   "id": "b91b41d3",
   "metadata": {
    "execution": {
     "iopub.execute_input": "2023-05-22T03:31:04.257036Z",
     "iopub.status.busy": "2023-05-22T03:31:04.256620Z",
     "iopub.status.idle": "2023-05-22T03:31:04.267270Z",
     "shell.execute_reply": "2023-05-22T03:31:04.266022Z"
    },
    "papermill": {
     "duration": 0.029197,
     "end_time": "2023-05-22T03:31:04.269680",
     "exception": false,
     "start_time": "2023-05-22T03:31:04.240483",
     "status": "completed"
    },
    "tags": []
   },
   "outputs": [
    {
     "data": {
      "text/plain": [
       "erythema                               0\n",
       "scaling                                0\n",
       "definite_borders                       0\n",
       "itching                                0\n",
       "koebner_phenomenon                     0\n",
       "polygonal_papules                      0\n",
       "follicular_papules                     0\n",
       "oral_mucosal_involvement               0\n",
       "knee_and_elbow_involvement             0\n",
       "scalp_involvement                      0\n",
       "family_history                         0\n",
       "melanin_incontinence                   0\n",
       "eosinophils_infiltrate                 0\n",
       "PNL_infiltrate                         0\n",
       "fibrosis_papillary_dermis              0\n",
       "exocytosis                             0\n",
       "acanthosis                             0\n",
       "hyperkeratosis                         0\n",
       "parakeratosis                          0\n",
       "clubbing_rete_ridges                   0\n",
       "elongation_rete_ridges                 0\n",
       "thinning_suprapapillary_epidermis      0\n",
       "spongiform_pustule                     0\n",
       "munro_microabcess                      0\n",
       "focal_hypergranulosis                  0\n",
       "disappearance_granular_layer           0\n",
       "vacuolisation_damage_basal_layer       0\n",
       "spongiosis                             0\n",
       "saw_tooth_appearance_retes             0\n",
       "follicular_horn_plug                   0\n",
       "perifollicular_parakeratosis           0\n",
       "inflammatory_mononuclear_infiltrate    0\n",
       "band_like_infiltrate                   0\n",
       "age                                    0\n",
       "class                                  0\n",
       "age_bin                                1\n",
       "aggregated_features                    0\n",
       "log_erythema                           0\n",
       "scaling_squared                        0\n",
       "dtype: int64"
      ]
     },
     "execution_count": 14,
     "metadata": {},
     "output_type": "execute_result"
    }
   ],
   "source": [
    "mask = df.isnull()\n",
    "\n",
    "# Count null values per column\n",
    "column_counts = mask.sum()\n",
    "\n",
    "column_counts"
   ]
  },
  {
   "cell_type": "code",
   "execution_count": 15,
   "id": "86ee7c29",
   "metadata": {
    "execution": {
     "iopub.execute_input": "2023-05-22T03:31:04.301036Z",
     "iopub.status.busy": "2023-05-22T03:31:04.300666Z",
     "iopub.status.idle": "2023-05-22T03:31:04.319034Z",
     "shell.execute_reply": "2023-05-22T03:31:04.317568Z"
    },
    "papermill": {
     "duration": 0.037297,
     "end_time": "2023-05-22T03:31:04.321918",
     "exception": false,
     "start_time": "2023-05-22T03:31:04.284621",
     "status": "completed"
    },
    "tags": []
   },
   "outputs": [],
   "source": [
    "df = df.fillna(df.mean())"
   ]
  },
  {
   "cell_type": "markdown",
   "id": "4e539d86",
   "metadata": {
    "papermill": {
     "duration": 0.014584,
     "end_time": "2023-05-22T03:31:04.351578",
     "exception": false,
     "start_time": "2023-05-22T03:31:04.336994",
     "status": "completed"
    },
    "tags": []
   },
   "source": [
    "# Feature Selection"
   ]
  },
  {
   "cell_type": "code",
   "execution_count": 16,
   "id": "6369a09d",
   "metadata": {
    "execution": {
     "iopub.execute_input": "2023-05-22T03:31:04.382727Z",
     "iopub.status.busy": "2023-05-22T03:31:04.382339Z",
     "iopub.status.idle": "2023-05-22T03:31:04.389805Z",
     "shell.execute_reply": "2023-05-22T03:31:04.388683Z"
    },
    "papermill": {
     "duration": 0.025636,
     "end_time": "2023-05-22T03:31:04.392035",
     "exception": false,
     "start_time": "2023-05-22T03:31:04.366399",
     "status": "completed"
    },
    "tags": []
   },
   "outputs": [],
   "source": [
    "X = df.drop(columns=\"class\")\n",
    "y = df['class']"
   ]
  },
  {
   "cell_type": "code",
   "execution_count": 17,
   "id": "4d95f40e",
   "metadata": {
    "execution": {
     "iopub.execute_input": "2023-05-22T03:31:04.424269Z",
     "iopub.status.busy": "2023-05-22T03:31:04.423545Z",
     "iopub.status.idle": "2023-05-22T03:31:04.430529Z",
     "shell.execute_reply": "2023-05-22T03:31:04.429455Z"
    },
    "papermill": {
     "duration": 0.025747,
     "end_time": "2023-05-22T03:31:04.432705",
     "exception": false,
     "start_time": "2023-05-22T03:31:04.406958",
     "status": "completed"
    },
    "tags": []
   },
   "outputs": [],
   "source": [
    "# All discrete features should now have integer dtypes (double-check this before using MI!)\n",
    "discrete_features = X.dtypes == int"
   ]
  },
  {
   "cell_type": "code",
   "execution_count": 18,
   "id": "4cc02a5d",
   "metadata": {
    "execution": {
     "iopub.execute_input": "2023-05-22T03:31:04.465127Z",
     "iopub.status.busy": "2023-05-22T03:31:04.464435Z",
     "iopub.status.idle": "2023-05-22T03:31:04.629392Z",
     "shell.execute_reply": "2023-05-22T03:31:04.628241Z"
    },
    "papermill": {
     "duration": 0.184076,
     "end_time": "2023-05-22T03:31:04.631837",
     "exception": false,
     "start_time": "2023-05-22T03:31:04.447761",
     "status": "completed"
    },
    "tags": []
   },
   "outputs": [
    {
     "data": {
      "text/plain": [
       "elongation_rete_ridges                 0.599445\n",
       "clubbing_rete_ridges                   0.570930\n",
       "thinning_suprapapillary_epidermis      0.548732\n",
       "age                                    0.511310\n",
       "band_like_infiltrate                   0.488438\n",
       "saw_tooth_appearance_retes             0.477504\n",
       "vacuolisation_damage_basal_layer       0.476801\n",
       "melanin_incontinence                   0.464719\n",
       "spongiosis                             0.463565\n",
       "focal_hypergranulosis                  0.462631\n",
       "polygonal_papules                      0.451427\n",
       "exocytosis                             0.429138\n",
       "oral_mucosal_involvement               0.427418\n",
       "knee_and_elbow_involvement             0.413457\n",
       "fibrosis_papillary_dermis              0.383914\n",
       "scalp_involvement                      0.350419\n",
       "munro_microabcess                      0.316549\n",
       "PNL_infiltrate                         0.307606\n",
       "koebner_phenomenon                     0.276245\n",
       "aggregated_features                    0.267482\n",
       "disappearance_granular_layer           0.262664\n",
       "definite_borders                       0.246042\n",
       "parakeratosis                          0.221267\n",
       "perifollicular_parakeratosis           0.214003\n",
       "follicular_papules                     0.213297\n",
       "spongiform_pustule                     0.204927\n",
       "itching                                0.197378\n",
       "scaling_squared                        0.193746\n",
       "follicular_horn_plug                   0.184805\n",
       "scaling                                0.177687\n",
       "age_bin                                0.162410\n",
       "family_history                         0.117042\n",
       "log_erythema                           0.087769\n",
       "inflammatory_mononuclear_infiltrate    0.072727\n",
       "eosinophils_infiltrate                 0.068099\n",
       "hyperkeratosis                         0.043852\n",
       "erythema                               0.043022\n",
       "acanthosis                             0.040130\n",
       "Name: MI Scores, dtype: float64"
      ]
     },
     "execution_count": 18,
     "metadata": {},
     "output_type": "execute_result"
    }
   ],
   "source": [
    "from sklearn.feature_selection import mutual_info_classif\n",
    "\n",
    "def make_mi_scores(X, y, discrete_features):\n",
    "    mi_scores = mutual_info_classif(X, y, discrete_features=discrete_features)\n",
    "    mi_scores = pd.Series(mi_scores, name=\"MI Scores\", index=X.columns)\n",
    "    mi_scores = mi_scores.sort_values(ascending=False)\n",
    "    return mi_scores\n",
    "\n",
    "mi_scores = make_mi_scores(X, y, discrete_features)\n",
    "mi_scores"
   ]
  },
  {
   "cell_type": "code",
   "execution_count": 19,
   "id": "326b2dd7",
   "metadata": {
    "execution": {
     "iopub.execute_input": "2023-05-22T03:31:04.664016Z",
     "iopub.status.busy": "2023-05-22T03:31:04.663145Z",
     "iopub.status.idle": "2023-05-22T03:31:04.669234Z",
     "shell.execute_reply": "2023-05-22T03:31:04.668104Z"
    },
    "papermill": {
     "duration": 0.02476,
     "end_time": "2023-05-22T03:31:04.671637",
     "exception": false,
     "start_time": "2023-05-22T03:31:04.646877",
     "status": "completed"
    },
    "tags": []
   },
   "outputs": [],
   "source": [
    "top_5_features = mi_scores.head(5).index.tolist()\n",
    "top_10_features = mi_scores.head(10).index.tolist()\n",
    "top_25_features = mi_scores.head(25).index.tolist()"
   ]
  },
  {
   "cell_type": "code",
   "execution_count": 20,
   "id": "f115aacd",
   "metadata": {
    "execution": {
     "iopub.execute_input": "2023-05-22T03:31:04.704191Z",
     "iopub.status.busy": "2023-05-22T03:31:04.703031Z",
     "iopub.status.idle": "2023-05-22T03:31:04.711528Z",
     "shell.execute_reply": "2023-05-22T03:31:04.710736Z"
    },
    "papermill": {
     "duration": 0.026995,
     "end_time": "2023-05-22T03:31:04.713734",
     "exception": false,
     "start_time": "2023-05-22T03:31:04.686739",
     "status": "completed"
    },
    "tags": []
   },
   "outputs": [],
   "source": [
    "X_5_features = df[top_5_features]\n",
    "X_10_features = df[top_5_features]\n",
    "X_25_features = df[top_5_features]\n",
    "y = df['class']"
   ]
  },
  {
   "cell_type": "markdown",
   "id": "fee82322",
   "metadata": {
    "papermill": {
     "duration": 0.014857,
     "end_time": "2023-05-22T03:31:04.743944",
     "exception": false,
     "start_time": "2023-05-22T03:31:04.729087",
     "status": "completed"
    },
    "tags": []
   },
   "source": [
    "# Modelling with 5 features"
   ]
  },
  {
   "cell_type": "code",
   "execution_count": 21,
   "id": "ba09d474",
   "metadata": {
    "execution": {
     "iopub.execute_input": "2023-05-22T03:31:04.775948Z",
     "iopub.status.busy": "2023-05-22T03:31:04.775280Z",
     "iopub.status.idle": "2023-05-22T03:31:04.782237Z",
     "shell.execute_reply": "2023-05-22T03:31:04.781203Z"
    },
    "papermill": {
     "duration": 0.025805,
     "end_time": "2023-05-22T03:31:04.784808",
     "exception": false,
     "start_time": "2023-05-22T03:31:04.759003",
     "status": "completed"
    },
    "tags": []
   },
   "outputs": [],
   "source": [
    "X_train, X_test, y_train, y_test = train_test_split(X_5_features, y, test_size=0.3, random_state=42)"
   ]
  },
  {
   "cell_type": "code",
   "execution_count": 22,
   "id": "470a4655",
   "metadata": {
    "execution": {
     "iopub.execute_input": "2023-05-22T03:31:04.816750Z",
     "iopub.status.busy": "2023-05-22T03:31:04.816363Z",
     "iopub.status.idle": "2023-05-22T03:31:04.833903Z",
     "shell.execute_reply": "2023-05-22T03:31:04.833052Z"
    },
    "papermill": {
     "duration": 0.036394,
     "end_time": "2023-05-22T03:31:04.836297",
     "exception": false,
     "start_time": "2023-05-22T03:31:04.799903",
     "status": "completed"
    },
    "tags": []
   },
   "outputs": [],
   "source": [
    "smote = SMOTE(random_state=42)\n",
    "X_train_resampled, y_train_resampled = smote.fit_resample(X_train, y_train)"
   ]
  },
  {
   "cell_type": "code",
   "execution_count": 23,
   "id": "507c0870",
   "metadata": {
    "execution": {
     "iopub.execute_input": "2023-05-22T03:31:04.868652Z",
     "iopub.status.busy": "2023-05-22T03:31:04.867978Z",
     "iopub.status.idle": "2023-05-22T03:31:05.112355Z",
     "shell.execute_reply": "2023-05-22T03:31:05.111310Z"
    },
    "papermill": {
     "duration": 0.263213,
     "end_time": "2023-05-22T03:31:05.114737",
     "exception": false,
     "start_time": "2023-05-22T03:31:04.851524",
     "status": "completed"
    },
    "tags": []
   },
   "outputs": [
    {
     "data": {
      "text/html": [
       "<style>#sk-container-id-1 {color: black;background-color: white;}#sk-container-id-1 pre{padding: 0;}#sk-container-id-1 div.sk-toggleable {background-color: white;}#sk-container-id-1 label.sk-toggleable__label {cursor: pointer;display: block;width: 100%;margin-bottom: 0;padding: 0.3em;box-sizing: border-box;text-align: center;}#sk-container-id-1 label.sk-toggleable__label-arrow:before {content: \"▸\";float: left;margin-right: 0.25em;color: #696969;}#sk-container-id-1 label.sk-toggleable__label-arrow:hover:before {color: black;}#sk-container-id-1 div.sk-estimator:hover label.sk-toggleable__label-arrow:before {color: black;}#sk-container-id-1 div.sk-toggleable__content {max-height: 0;max-width: 0;overflow: hidden;text-align: left;background-color: #f0f8ff;}#sk-container-id-1 div.sk-toggleable__content pre {margin: 0.2em;color: black;border-radius: 0.25em;background-color: #f0f8ff;}#sk-container-id-1 input.sk-toggleable__control:checked~div.sk-toggleable__content {max-height: 200px;max-width: 100%;overflow: auto;}#sk-container-id-1 input.sk-toggleable__control:checked~label.sk-toggleable__label-arrow:before {content: \"▾\";}#sk-container-id-1 div.sk-estimator input.sk-toggleable__control:checked~label.sk-toggleable__label {background-color: #d4ebff;}#sk-container-id-1 div.sk-label input.sk-toggleable__control:checked~label.sk-toggleable__label {background-color: #d4ebff;}#sk-container-id-1 input.sk-hidden--visually {border: 0;clip: rect(1px 1px 1px 1px);clip: rect(1px, 1px, 1px, 1px);height: 1px;margin: -1px;overflow: hidden;padding: 0;position: absolute;width: 1px;}#sk-container-id-1 div.sk-estimator {font-family: monospace;background-color: #f0f8ff;border: 1px dotted black;border-radius: 0.25em;box-sizing: border-box;margin-bottom: 0.5em;}#sk-container-id-1 div.sk-estimator:hover {background-color: #d4ebff;}#sk-container-id-1 div.sk-parallel-item::after {content: \"\";width: 100%;border-bottom: 1px solid gray;flex-grow: 1;}#sk-container-id-1 div.sk-label:hover label.sk-toggleable__label {background-color: #d4ebff;}#sk-container-id-1 div.sk-serial::before {content: \"\";position: absolute;border-left: 1px solid gray;box-sizing: border-box;top: 0;bottom: 0;left: 50%;z-index: 0;}#sk-container-id-1 div.sk-serial {display: flex;flex-direction: column;align-items: center;background-color: white;padding-right: 0.2em;padding-left: 0.2em;position: relative;}#sk-container-id-1 div.sk-item {position: relative;z-index: 1;}#sk-container-id-1 div.sk-parallel {display: flex;align-items: stretch;justify-content: center;background-color: white;position: relative;}#sk-container-id-1 div.sk-item::before, #sk-container-id-1 div.sk-parallel-item::before {content: \"\";position: absolute;border-left: 1px solid gray;box-sizing: border-box;top: 0;bottom: 0;left: 50%;z-index: -1;}#sk-container-id-1 div.sk-parallel-item {display: flex;flex-direction: column;z-index: 1;position: relative;background-color: white;}#sk-container-id-1 div.sk-parallel-item:first-child::after {align-self: flex-end;width: 50%;}#sk-container-id-1 div.sk-parallel-item:last-child::after {align-self: flex-start;width: 50%;}#sk-container-id-1 div.sk-parallel-item:only-child::after {width: 0;}#sk-container-id-1 div.sk-dashed-wrapped {border: 1px dashed gray;margin: 0 0.4em 0.5em 0.4em;box-sizing: border-box;padding-bottom: 0.4em;background-color: white;}#sk-container-id-1 div.sk-label label {font-family: monospace;font-weight: bold;display: inline-block;line-height: 1.2em;}#sk-container-id-1 div.sk-label-container {text-align: center;}#sk-container-id-1 div.sk-container {/* jupyter's `normalize.less` sets `[hidden] { display: none; }` but bootstrap.min.css set `[hidden] { display: none !important; }` so we also need the `!important` here to be able to override the default hidden behavior on the sphinx rendered scikit-learn.org. See: https://github.com/scikit-learn/scikit-learn/issues/21755 */display: inline-block !important;position: relative;}#sk-container-id-1 div.sk-text-repr-fallback {display: none;}</style><div id=\"sk-container-id-1\" class=\"sk-top-container\"><div class=\"sk-text-repr-fallback\"><pre>RandomForestClassifier()</pre><b>In a Jupyter environment, please rerun this cell to show the HTML representation or trust the notebook. <br />On GitHub, the HTML representation is unable to render, please try loading this page with nbviewer.org.</b></div><div class=\"sk-container\" hidden><div class=\"sk-item\"><div class=\"sk-estimator sk-toggleable\"><input class=\"sk-toggleable__control sk-hidden--visually\" id=\"sk-estimator-id-1\" type=\"checkbox\" checked><label for=\"sk-estimator-id-1\" class=\"sk-toggleable__label sk-toggleable__label-arrow\">RandomForestClassifier</label><div class=\"sk-toggleable__content\"><pre>RandomForestClassifier()</pre></div></div></div></div></div>"
      ],
      "text/plain": [
       "RandomForestClassifier()"
      ]
     },
     "execution_count": 23,
     "metadata": {},
     "output_type": "execute_result"
    }
   ],
   "source": [
    "model = RandomForestClassifier()\n",
    "model.fit(X_train, y_train)"
   ]
  },
  {
   "cell_type": "code",
   "execution_count": 24,
   "id": "9cc43b53",
   "metadata": {
    "execution": {
     "iopub.execute_input": "2023-05-22T03:31:05.147490Z",
     "iopub.status.busy": "2023-05-22T03:31:05.147087Z",
     "iopub.status.idle": "2023-05-22T03:31:06.349394Z",
     "shell.execute_reply": "2023-05-22T03:31:06.347927Z"
    },
    "papermill": {
     "duration": 1.222047,
     "end_time": "2023-05-22T03:31:06.352285",
     "exception": false,
     "start_time": "2023-05-22T03:31:05.130238",
     "status": "completed"
    },
    "tags": []
   },
   "outputs": [
    {
     "name": "stdout",
     "output_type": "stream",
     "text": [
      "Classification Report: \n",
      "               precision    recall  f1-score   support\n",
      "\n",
      "           1       0.99      1.00      0.99        80\n",
      "           2       0.44      0.51      0.48        39\n",
      "           3       0.98      0.98      0.98        51\n",
      "           4       0.60      0.53      0.56        34\n",
      "           5       0.83      0.77      0.80        31\n",
      "           6       0.79      0.73      0.76        15\n",
      "\n",
      "    accuracy                           0.81       250\n",
      "   macro avg       0.77      0.76      0.76       250\n",
      "weighted avg       0.82      0.81      0.81       250\n",
      "\n"
     ]
    }
   ],
   "source": [
    "predict = cross_val_predict(estimator = model, X = X_train, y = y_train, cv = 5)\n",
    "print(\"Classification Report: \\n\",classification_report(y_train, predict))"
   ]
  },
  {
   "cell_type": "code",
   "execution_count": 25,
   "id": "c880e1af",
   "metadata": {
    "execution": {
     "iopub.execute_input": "2023-05-22T03:31:06.385408Z",
     "iopub.status.busy": "2023-05-22T03:31:06.384954Z",
     "iopub.status.idle": "2023-05-22T03:31:06.414854Z",
     "shell.execute_reply": "2023-05-22T03:31:06.413436Z"
    },
    "papermill": {
     "duration": 0.049502,
     "end_time": "2023-05-22T03:31:06.417465",
     "exception": false,
     "start_time": "2023-05-22T03:31:06.367963",
     "status": "completed"
    },
    "tags": []
   },
   "outputs": [
    {
     "name": "stdout",
     "output_type": "stream",
     "text": [
      "              precision    recall  f1-score   support\n",
      "\n",
      "           1       1.00      1.00      1.00        31\n",
      "           2       0.38      0.24      0.29        21\n",
      "           3       1.00      0.95      0.97        20\n",
      "           4       0.35      0.64      0.45        14\n",
      "           5       0.93      0.82      0.87        17\n",
      "           6       1.00      0.80      0.89         5\n",
      "\n",
      "    accuracy                           0.76       108\n",
      "   macro avg       0.78      0.74      0.75       108\n",
      "weighted avg       0.79      0.76      0.76       108\n",
      "\n"
     ]
    }
   ],
   "source": [
    "y_pred = model.predict(X_test)\n",
    "report = classification_report(y_test, y_pred)\n",
    "print(report)"
   ]
  },
  {
   "cell_type": "markdown",
   "id": "ca3e1b11",
   "metadata": {
    "papermill": {
     "duration": 0.015145,
     "end_time": "2023-05-22T03:31:06.448421",
     "exception": false,
     "start_time": "2023-05-22T03:31:06.433276",
     "status": "completed"
    },
    "tags": []
   },
   "source": [
    "# Modelling with 10 features"
   ]
  },
  {
   "cell_type": "code",
   "execution_count": 26,
   "id": "9359c9a0",
   "metadata": {
    "execution": {
     "iopub.execute_input": "2023-05-22T03:31:06.481694Z",
     "iopub.status.busy": "2023-05-22T03:31:06.481326Z",
     "iopub.status.idle": "2023-05-22T03:31:06.488129Z",
     "shell.execute_reply": "2023-05-22T03:31:06.487072Z"
    },
    "papermill": {
     "duration": 0.026436,
     "end_time": "2023-05-22T03:31:06.490475",
     "exception": false,
     "start_time": "2023-05-22T03:31:06.464039",
     "status": "completed"
    },
    "tags": []
   },
   "outputs": [],
   "source": [
    "x_train,x_test, y_train, y_test = train_test_split(X_10_features, y, test_size=0.3, random_state=42)"
   ]
  },
  {
   "cell_type": "code",
   "execution_count": 27,
   "id": "1bbd8f40",
   "metadata": {
    "execution": {
     "iopub.execute_input": "2023-05-22T03:31:06.524183Z",
     "iopub.status.busy": "2023-05-22T03:31:06.523786Z",
     "iopub.status.idle": "2023-05-22T03:31:06.767618Z",
     "shell.execute_reply": "2023-05-22T03:31:06.766507Z"
    },
    "papermill": {
     "duration": 0.263703,
     "end_time": "2023-05-22T03:31:06.770080",
     "exception": false,
     "start_time": "2023-05-22T03:31:06.506377",
     "status": "completed"
    },
    "tags": []
   },
   "outputs": [
    {
     "data": {
      "text/html": [
       "<style>#sk-container-id-2 {color: black;background-color: white;}#sk-container-id-2 pre{padding: 0;}#sk-container-id-2 div.sk-toggleable {background-color: white;}#sk-container-id-2 label.sk-toggleable__label {cursor: pointer;display: block;width: 100%;margin-bottom: 0;padding: 0.3em;box-sizing: border-box;text-align: center;}#sk-container-id-2 label.sk-toggleable__label-arrow:before {content: \"▸\";float: left;margin-right: 0.25em;color: #696969;}#sk-container-id-2 label.sk-toggleable__label-arrow:hover:before {color: black;}#sk-container-id-2 div.sk-estimator:hover label.sk-toggleable__label-arrow:before {color: black;}#sk-container-id-2 div.sk-toggleable__content {max-height: 0;max-width: 0;overflow: hidden;text-align: left;background-color: #f0f8ff;}#sk-container-id-2 div.sk-toggleable__content pre {margin: 0.2em;color: black;border-radius: 0.25em;background-color: #f0f8ff;}#sk-container-id-2 input.sk-toggleable__control:checked~div.sk-toggleable__content {max-height: 200px;max-width: 100%;overflow: auto;}#sk-container-id-2 input.sk-toggleable__control:checked~label.sk-toggleable__label-arrow:before {content: \"▾\";}#sk-container-id-2 div.sk-estimator input.sk-toggleable__control:checked~label.sk-toggleable__label {background-color: #d4ebff;}#sk-container-id-2 div.sk-label input.sk-toggleable__control:checked~label.sk-toggleable__label {background-color: #d4ebff;}#sk-container-id-2 input.sk-hidden--visually {border: 0;clip: rect(1px 1px 1px 1px);clip: rect(1px, 1px, 1px, 1px);height: 1px;margin: -1px;overflow: hidden;padding: 0;position: absolute;width: 1px;}#sk-container-id-2 div.sk-estimator {font-family: monospace;background-color: #f0f8ff;border: 1px dotted black;border-radius: 0.25em;box-sizing: border-box;margin-bottom: 0.5em;}#sk-container-id-2 div.sk-estimator:hover {background-color: #d4ebff;}#sk-container-id-2 div.sk-parallel-item::after {content: \"\";width: 100%;border-bottom: 1px solid gray;flex-grow: 1;}#sk-container-id-2 div.sk-label:hover label.sk-toggleable__label {background-color: #d4ebff;}#sk-container-id-2 div.sk-serial::before {content: \"\";position: absolute;border-left: 1px solid gray;box-sizing: border-box;top: 0;bottom: 0;left: 50%;z-index: 0;}#sk-container-id-2 div.sk-serial {display: flex;flex-direction: column;align-items: center;background-color: white;padding-right: 0.2em;padding-left: 0.2em;position: relative;}#sk-container-id-2 div.sk-item {position: relative;z-index: 1;}#sk-container-id-2 div.sk-parallel {display: flex;align-items: stretch;justify-content: center;background-color: white;position: relative;}#sk-container-id-2 div.sk-item::before, #sk-container-id-2 div.sk-parallel-item::before {content: \"\";position: absolute;border-left: 1px solid gray;box-sizing: border-box;top: 0;bottom: 0;left: 50%;z-index: -1;}#sk-container-id-2 div.sk-parallel-item {display: flex;flex-direction: column;z-index: 1;position: relative;background-color: white;}#sk-container-id-2 div.sk-parallel-item:first-child::after {align-self: flex-end;width: 50%;}#sk-container-id-2 div.sk-parallel-item:last-child::after {align-self: flex-start;width: 50%;}#sk-container-id-2 div.sk-parallel-item:only-child::after {width: 0;}#sk-container-id-2 div.sk-dashed-wrapped {border: 1px dashed gray;margin: 0 0.4em 0.5em 0.4em;box-sizing: border-box;padding-bottom: 0.4em;background-color: white;}#sk-container-id-2 div.sk-label label {font-family: monospace;font-weight: bold;display: inline-block;line-height: 1.2em;}#sk-container-id-2 div.sk-label-container {text-align: center;}#sk-container-id-2 div.sk-container {/* jupyter's `normalize.less` sets `[hidden] { display: none; }` but bootstrap.min.css set `[hidden] { display: none !important; }` so we also need the `!important` here to be able to override the default hidden behavior on the sphinx rendered scikit-learn.org. See: https://github.com/scikit-learn/scikit-learn/issues/21755 */display: inline-block !important;position: relative;}#sk-container-id-2 div.sk-text-repr-fallback {display: none;}</style><div id=\"sk-container-id-2\" class=\"sk-top-container\"><div class=\"sk-text-repr-fallback\"><pre>RandomForestClassifier()</pre><b>In a Jupyter environment, please rerun this cell to show the HTML representation or trust the notebook. <br />On GitHub, the HTML representation is unable to render, please try loading this page with nbviewer.org.</b></div><div class=\"sk-container\" hidden><div class=\"sk-item\"><div class=\"sk-estimator sk-toggleable\"><input class=\"sk-toggleable__control sk-hidden--visually\" id=\"sk-estimator-id-2\" type=\"checkbox\" checked><label for=\"sk-estimator-id-2\" class=\"sk-toggleable__label sk-toggleable__label-arrow\">RandomForestClassifier</label><div class=\"sk-toggleable__content\"><pre>RandomForestClassifier()</pre></div></div></div></div></div>"
      ],
      "text/plain": [
       "RandomForestClassifier()"
      ]
     },
     "execution_count": 27,
     "metadata": {},
     "output_type": "execute_result"
    }
   ],
   "source": [
    "model = RandomForestClassifier()\n",
    "model.fit(x_train, y_train)"
   ]
  },
  {
   "cell_type": "code",
   "execution_count": 28,
   "id": "97db08dc",
   "metadata": {
    "execution": {
     "iopub.execute_input": "2023-05-22T03:31:06.803598Z",
     "iopub.status.busy": "2023-05-22T03:31:06.803163Z",
     "iopub.status.idle": "2023-05-22T03:31:08.030638Z",
     "shell.execute_reply": "2023-05-22T03:31:08.029087Z"
    },
    "papermill": {
     "duration": 1.247362,
     "end_time": "2023-05-22T03:31:08.033290",
     "exception": false,
     "start_time": "2023-05-22T03:31:06.785928",
     "status": "completed"
    },
    "tags": []
   },
   "outputs": [
    {
     "name": "stdout",
     "output_type": "stream",
     "text": [
      "Classification Report: \n",
      "               precision    recall  f1-score   support\n",
      "\n",
      "           1       0.99      1.00      0.99        80\n",
      "           2       0.44      0.49      0.46        39\n",
      "           3       0.98      0.98      0.98        51\n",
      "           4       0.61      0.59      0.60        34\n",
      "           5       0.82      0.74      0.78        31\n",
      "           6       0.79      0.73      0.76        15\n",
      "\n",
      "    accuracy                           0.81       250\n",
      "   macro avg       0.77      0.76      0.76       250\n",
      "weighted avg       0.82      0.81      0.81       250\n",
      "\n"
     ]
    }
   ],
   "source": [
    "predict = cross_val_predict(estimator = model, X = X_train, y = y_train, cv = 5)\n",
    "print(\"Classification Report: \\n\",classification_report(y_train, predict))"
   ]
  },
  {
   "cell_type": "code",
   "execution_count": 29,
   "id": "7c1da217",
   "metadata": {
    "execution": {
     "iopub.execute_input": "2023-05-22T03:31:08.067056Z",
     "iopub.status.busy": "2023-05-22T03:31:08.066679Z",
     "iopub.status.idle": "2023-05-22T03:31:08.104351Z",
     "shell.execute_reply": "2023-05-22T03:31:08.103041Z"
    },
    "papermill": {
     "duration": 0.057634,
     "end_time": "2023-05-22T03:31:08.107137",
     "exception": false,
     "start_time": "2023-05-22T03:31:08.049503",
     "status": "completed"
    },
    "tags": []
   },
   "outputs": [
    {
     "name": "stdout",
     "output_type": "stream",
     "text": [
      "              precision    recall  f1-score   support\n",
      "\n",
      "           1       1.00      1.00      1.00        31\n",
      "           2       0.33      0.24      0.28        21\n",
      "           3       1.00      0.95      0.97        20\n",
      "           4       0.35      0.64      0.45        14\n",
      "           5       0.93      0.76      0.84        17\n",
      "           6       0.67      0.40      0.50         5\n",
      "\n",
      "    accuracy                           0.73       108\n",
      "   macro avg       0.71      0.67      0.67       108\n",
      "weighted avg       0.76      0.73      0.73       108\n",
      "\n"
     ]
    }
   ],
   "source": [
    "y_pred = model.predict(x_test)\n",
    "report = classification_report(y_test, y_pred)\n",
    "print(report)"
   ]
  },
  {
   "cell_type": "markdown",
   "id": "97398469",
   "metadata": {
    "papermill": {
     "duration": 0.016199,
     "end_time": "2023-05-22T03:31:08.139596",
     "exception": false,
     "start_time": "2023-05-22T03:31:08.123397",
     "status": "completed"
    },
    "tags": []
   },
   "source": [
    "# Modelling with 25 Features"
   ]
  },
  {
   "cell_type": "code",
   "execution_count": 30,
   "id": "c5bc4a75",
   "metadata": {
    "execution": {
     "iopub.execute_input": "2023-05-22T03:31:08.175649Z",
     "iopub.status.busy": "2023-05-22T03:31:08.173362Z",
     "iopub.status.idle": "2023-05-22T03:31:08.181501Z",
     "shell.execute_reply": "2023-05-22T03:31:08.180543Z"
    },
    "papermill": {
     "duration": 0.028228,
     "end_time": "2023-05-22T03:31:08.183993",
     "exception": false,
     "start_time": "2023-05-22T03:31:08.155765",
     "status": "completed"
    },
    "tags": []
   },
   "outputs": [],
   "source": [
    "x_train,x_test, y_train, y_test = train_test_split(X_25_features, y, test_size=0.3, random_state=42)"
   ]
  },
  {
   "cell_type": "code",
   "execution_count": 31,
   "id": "a29457bf",
   "metadata": {
    "execution": {
     "iopub.execute_input": "2023-05-22T03:31:08.218010Z",
     "iopub.status.busy": "2023-05-22T03:31:08.217621Z",
     "iopub.status.idle": "2023-05-22T03:31:08.460416Z",
     "shell.execute_reply": "2023-05-22T03:31:08.459356Z"
    },
    "papermill": {
     "duration": 0.262909,
     "end_time": "2023-05-22T03:31:08.463140",
     "exception": false,
     "start_time": "2023-05-22T03:31:08.200231",
     "status": "completed"
    },
    "tags": []
   },
   "outputs": [
    {
     "data": {
      "text/html": [
       "<style>#sk-container-id-3 {color: black;background-color: white;}#sk-container-id-3 pre{padding: 0;}#sk-container-id-3 div.sk-toggleable {background-color: white;}#sk-container-id-3 label.sk-toggleable__label {cursor: pointer;display: block;width: 100%;margin-bottom: 0;padding: 0.3em;box-sizing: border-box;text-align: center;}#sk-container-id-3 label.sk-toggleable__label-arrow:before {content: \"▸\";float: left;margin-right: 0.25em;color: #696969;}#sk-container-id-3 label.sk-toggleable__label-arrow:hover:before {color: black;}#sk-container-id-3 div.sk-estimator:hover label.sk-toggleable__label-arrow:before {color: black;}#sk-container-id-3 div.sk-toggleable__content {max-height: 0;max-width: 0;overflow: hidden;text-align: left;background-color: #f0f8ff;}#sk-container-id-3 div.sk-toggleable__content pre {margin: 0.2em;color: black;border-radius: 0.25em;background-color: #f0f8ff;}#sk-container-id-3 input.sk-toggleable__control:checked~div.sk-toggleable__content {max-height: 200px;max-width: 100%;overflow: auto;}#sk-container-id-3 input.sk-toggleable__control:checked~label.sk-toggleable__label-arrow:before {content: \"▾\";}#sk-container-id-3 div.sk-estimator input.sk-toggleable__control:checked~label.sk-toggleable__label {background-color: #d4ebff;}#sk-container-id-3 div.sk-label input.sk-toggleable__control:checked~label.sk-toggleable__label {background-color: #d4ebff;}#sk-container-id-3 input.sk-hidden--visually {border: 0;clip: rect(1px 1px 1px 1px);clip: rect(1px, 1px, 1px, 1px);height: 1px;margin: -1px;overflow: hidden;padding: 0;position: absolute;width: 1px;}#sk-container-id-3 div.sk-estimator {font-family: monospace;background-color: #f0f8ff;border: 1px dotted black;border-radius: 0.25em;box-sizing: border-box;margin-bottom: 0.5em;}#sk-container-id-3 div.sk-estimator:hover {background-color: #d4ebff;}#sk-container-id-3 div.sk-parallel-item::after {content: \"\";width: 100%;border-bottom: 1px solid gray;flex-grow: 1;}#sk-container-id-3 div.sk-label:hover label.sk-toggleable__label {background-color: #d4ebff;}#sk-container-id-3 div.sk-serial::before {content: \"\";position: absolute;border-left: 1px solid gray;box-sizing: border-box;top: 0;bottom: 0;left: 50%;z-index: 0;}#sk-container-id-3 div.sk-serial {display: flex;flex-direction: column;align-items: center;background-color: white;padding-right: 0.2em;padding-left: 0.2em;position: relative;}#sk-container-id-3 div.sk-item {position: relative;z-index: 1;}#sk-container-id-3 div.sk-parallel {display: flex;align-items: stretch;justify-content: center;background-color: white;position: relative;}#sk-container-id-3 div.sk-item::before, #sk-container-id-3 div.sk-parallel-item::before {content: \"\";position: absolute;border-left: 1px solid gray;box-sizing: border-box;top: 0;bottom: 0;left: 50%;z-index: -1;}#sk-container-id-3 div.sk-parallel-item {display: flex;flex-direction: column;z-index: 1;position: relative;background-color: white;}#sk-container-id-3 div.sk-parallel-item:first-child::after {align-self: flex-end;width: 50%;}#sk-container-id-3 div.sk-parallel-item:last-child::after {align-self: flex-start;width: 50%;}#sk-container-id-3 div.sk-parallel-item:only-child::after {width: 0;}#sk-container-id-3 div.sk-dashed-wrapped {border: 1px dashed gray;margin: 0 0.4em 0.5em 0.4em;box-sizing: border-box;padding-bottom: 0.4em;background-color: white;}#sk-container-id-3 div.sk-label label {font-family: monospace;font-weight: bold;display: inline-block;line-height: 1.2em;}#sk-container-id-3 div.sk-label-container {text-align: center;}#sk-container-id-3 div.sk-container {/* jupyter's `normalize.less` sets `[hidden] { display: none; }` but bootstrap.min.css set `[hidden] { display: none !important; }` so we also need the `!important` here to be able to override the default hidden behavior on the sphinx rendered scikit-learn.org. See: https://github.com/scikit-learn/scikit-learn/issues/21755 */display: inline-block !important;position: relative;}#sk-container-id-3 div.sk-text-repr-fallback {display: none;}</style><div id=\"sk-container-id-3\" class=\"sk-top-container\"><div class=\"sk-text-repr-fallback\"><pre>RandomForestClassifier()</pre><b>In a Jupyter environment, please rerun this cell to show the HTML representation or trust the notebook. <br />On GitHub, the HTML representation is unable to render, please try loading this page with nbviewer.org.</b></div><div class=\"sk-container\" hidden><div class=\"sk-item\"><div class=\"sk-estimator sk-toggleable\"><input class=\"sk-toggleable__control sk-hidden--visually\" id=\"sk-estimator-id-3\" type=\"checkbox\" checked><label for=\"sk-estimator-id-3\" class=\"sk-toggleable__label sk-toggleable__label-arrow\">RandomForestClassifier</label><div class=\"sk-toggleable__content\"><pre>RandomForestClassifier()</pre></div></div></div></div></div>"
      ],
      "text/plain": [
       "RandomForestClassifier()"
      ]
     },
     "execution_count": 31,
     "metadata": {},
     "output_type": "execute_result"
    }
   ],
   "source": [
    "model = RandomForestClassifier()\n",
    "model.fit(x_train, y_train)"
   ]
  },
  {
   "cell_type": "code",
   "execution_count": 32,
   "id": "965e0753",
   "metadata": {
    "execution": {
     "iopub.execute_input": "2023-05-22T03:31:08.497744Z",
     "iopub.status.busy": "2023-05-22T03:31:08.497371Z",
     "iopub.status.idle": "2023-05-22T03:31:09.700090Z",
     "shell.execute_reply": "2023-05-22T03:31:09.698715Z"
    },
    "papermill": {
     "duration": 1.223052,
     "end_time": "2023-05-22T03:31:09.702755",
     "exception": false,
     "start_time": "2023-05-22T03:31:08.479703",
     "status": "completed"
    },
    "tags": []
   },
   "outputs": [
    {
     "name": "stdout",
     "output_type": "stream",
     "text": [
      "Classification Report: \n",
      "               precision    recall  f1-score   support\n",
      "\n",
      "           1       0.99      1.00      0.99        80\n",
      "           2       0.47      0.54      0.50        39\n",
      "           3       0.98      0.98      0.98        51\n",
      "           4       0.65      0.59      0.62        34\n",
      "           5       0.83      0.77      0.80        31\n",
      "           6       0.77      0.67      0.71        15\n",
      "\n",
      "    accuracy                           0.82       250\n",
      "   macro avg       0.78      0.76      0.77       250\n",
      "weighted avg       0.83      0.82      0.82       250\n",
      "\n"
     ]
    }
   ],
   "source": [
    "predict = cross_val_predict(estimator = model, X = X_train, y = y_train, cv = 5)\n",
    "print(\"Classification Report: \\n\",classification_report(y_train, predict))"
   ]
  },
  {
   "cell_type": "code",
   "execution_count": 33,
   "id": "b312fcaf",
   "metadata": {
    "execution": {
     "iopub.execute_input": "2023-05-22T03:31:09.738560Z",
     "iopub.status.busy": "2023-05-22T03:31:09.738168Z",
     "iopub.status.idle": "2023-05-22T03:31:09.769143Z",
     "shell.execute_reply": "2023-05-22T03:31:09.767955Z"
    },
    "papermill": {
     "duration": 0.051992,
     "end_time": "2023-05-22T03:31:09.771661",
     "exception": false,
     "start_time": "2023-05-22T03:31:09.719669",
     "status": "completed"
    },
    "tags": []
   },
   "outputs": [
    {
     "name": "stdout",
     "output_type": "stream",
     "text": [
      "              precision    recall  f1-score   support\n",
      "\n",
      "           1       1.00      1.00      1.00        31\n",
      "           2       0.33      0.24      0.28        21\n",
      "           3       1.00      0.95      0.97        20\n",
      "           4       0.35      0.64      0.45        14\n",
      "           5       0.93      0.76      0.84        17\n",
      "           6       0.67      0.40      0.50         5\n",
      "\n",
      "    accuracy                           0.73       108\n",
      "   macro avg       0.71      0.67      0.67       108\n",
      "weighted avg       0.76      0.73      0.73       108\n",
      "\n"
     ]
    }
   ],
   "source": [
    "y_pred = model.predict(x_test)\n",
    "report = classification_report(y_test, y_pred)\n",
    "print(report)"
   ]
  },
  {
   "cell_type": "markdown",
   "id": "f55c51bd",
   "metadata": {
    "papermill": {
     "duration": 0.016588,
     "end_time": "2023-05-22T03:31:09.805137",
     "exception": false,
     "start_time": "2023-05-22T03:31:09.788549",
     "status": "completed"
    },
    "tags": []
   },
   "source": [
    "# Modelling with all Features"
   ]
  },
  {
   "cell_type": "code",
   "execution_count": 34,
   "id": "a7ea6088",
   "metadata": {
    "execution": {
     "iopub.execute_input": "2023-05-22T03:31:09.840955Z",
     "iopub.status.busy": "2023-05-22T03:31:09.840554Z",
     "iopub.status.idle": "2023-05-22T03:31:09.847573Z",
     "shell.execute_reply": "2023-05-22T03:31:09.846489Z"
    },
    "papermill": {
     "duration": 0.027593,
     "end_time": "2023-05-22T03:31:09.849816",
     "exception": false,
     "start_time": "2023-05-22T03:31:09.822223",
     "status": "completed"
    },
    "tags": []
   },
   "outputs": [],
   "source": [
    "x_train,x_test, y_train, y_test = train_test_split(X, y, test_size=0.3, random_state=42)"
   ]
  },
  {
   "cell_type": "code",
   "execution_count": 35,
   "id": "9d49755e",
   "metadata": {
    "execution": {
     "iopub.execute_input": "2023-05-22T03:31:09.885126Z",
     "iopub.status.busy": "2023-05-22T03:31:09.884714Z",
     "iopub.status.idle": "2023-05-22T03:31:10.124328Z",
     "shell.execute_reply": "2023-05-22T03:31:10.123239Z"
    },
    "papermill": {
     "duration": 0.260548,
     "end_time": "2023-05-22T03:31:10.126872",
     "exception": false,
     "start_time": "2023-05-22T03:31:09.866324",
     "status": "completed"
    },
    "tags": []
   },
   "outputs": [
    {
     "data": {
      "text/html": [
       "<style>#sk-container-id-4 {color: black;background-color: white;}#sk-container-id-4 pre{padding: 0;}#sk-container-id-4 div.sk-toggleable {background-color: white;}#sk-container-id-4 label.sk-toggleable__label {cursor: pointer;display: block;width: 100%;margin-bottom: 0;padding: 0.3em;box-sizing: border-box;text-align: center;}#sk-container-id-4 label.sk-toggleable__label-arrow:before {content: \"▸\";float: left;margin-right: 0.25em;color: #696969;}#sk-container-id-4 label.sk-toggleable__label-arrow:hover:before {color: black;}#sk-container-id-4 div.sk-estimator:hover label.sk-toggleable__label-arrow:before {color: black;}#sk-container-id-4 div.sk-toggleable__content {max-height: 0;max-width: 0;overflow: hidden;text-align: left;background-color: #f0f8ff;}#sk-container-id-4 div.sk-toggleable__content pre {margin: 0.2em;color: black;border-radius: 0.25em;background-color: #f0f8ff;}#sk-container-id-4 input.sk-toggleable__control:checked~div.sk-toggleable__content {max-height: 200px;max-width: 100%;overflow: auto;}#sk-container-id-4 input.sk-toggleable__control:checked~label.sk-toggleable__label-arrow:before {content: \"▾\";}#sk-container-id-4 div.sk-estimator input.sk-toggleable__control:checked~label.sk-toggleable__label {background-color: #d4ebff;}#sk-container-id-4 div.sk-label input.sk-toggleable__control:checked~label.sk-toggleable__label {background-color: #d4ebff;}#sk-container-id-4 input.sk-hidden--visually {border: 0;clip: rect(1px 1px 1px 1px);clip: rect(1px, 1px, 1px, 1px);height: 1px;margin: -1px;overflow: hidden;padding: 0;position: absolute;width: 1px;}#sk-container-id-4 div.sk-estimator {font-family: monospace;background-color: #f0f8ff;border: 1px dotted black;border-radius: 0.25em;box-sizing: border-box;margin-bottom: 0.5em;}#sk-container-id-4 div.sk-estimator:hover {background-color: #d4ebff;}#sk-container-id-4 div.sk-parallel-item::after {content: \"\";width: 100%;border-bottom: 1px solid gray;flex-grow: 1;}#sk-container-id-4 div.sk-label:hover label.sk-toggleable__label {background-color: #d4ebff;}#sk-container-id-4 div.sk-serial::before {content: \"\";position: absolute;border-left: 1px solid gray;box-sizing: border-box;top: 0;bottom: 0;left: 50%;z-index: 0;}#sk-container-id-4 div.sk-serial {display: flex;flex-direction: column;align-items: center;background-color: white;padding-right: 0.2em;padding-left: 0.2em;position: relative;}#sk-container-id-4 div.sk-item {position: relative;z-index: 1;}#sk-container-id-4 div.sk-parallel {display: flex;align-items: stretch;justify-content: center;background-color: white;position: relative;}#sk-container-id-4 div.sk-item::before, #sk-container-id-4 div.sk-parallel-item::before {content: \"\";position: absolute;border-left: 1px solid gray;box-sizing: border-box;top: 0;bottom: 0;left: 50%;z-index: -1;}#sk-container-id-4 div.sk-parallel-item {display: flex;flex-direction: column;z-index: 1;position: relative;background-color: white;}#sk-container-id-4 div.sk-parallel-item:first-child::after {align-self: flex-end;width: 50%;}#sk-container-id-4 div.sk-parallel-item:last-child::after {align-self: flex-start;width: 50%;}#sk-container-id-4 div.sk-parallel-item:only-child::after {width: 0;}#sk-container-id-4 div.sk-dashed-wrapped {border: 1px dashed gray;margin: 0 0.4em 0.5em 0.4em;box-sizing: border-box;padding-bottom: 0.4em;background-color: white;}#sk-container-id-4 div.sk-label label {font-family: monospace;font-weight: bold;display: inline-block;line-height: 1.2em;}#sk-container-id-4 div.sk-label-container {text-align: center;}#sk-container-id-4 div.sk-container {/* jupyter's `normalize.less` sets `[hidden] { display: none; }` but bootstrap.min.css set `[hidden] { display: none !important; }` so we also need the `!important` here to be able to override the default hidden behavior on the sphinx rendered scikit-learn.org. See: https://github.com/scikit-learn/scikit-learn/issues/21755 */display: inline-block !important;position: relative;}#sk-container-id-4 div.sk-text-repr-fallback {display: none;}</style><div id=\"sk-container-id-4\" class=\"sk-top-container\"><div class=\"sk-text-repr-fallback\"><pre>RandomForestClassifier()</pre><b>In a Jupyter environment, please rerun this cell to show the HTML representation or trust the notebook. <br />On GitHub, the HTML representation is unable to render, please try loading this page with nbviewer.org.</b></div><div class=\"sk-container\" hidden><div class=\"sk-item\"><div class=\"sk-estimator sk-toggleable\"><input class=\"sk-toggleable__control sk-hidden--visually\" id=\"sk-estimator-id-4\" type=\"checkbox\" checked><label for=\"sk-estimator-id-4\" class=\"sk-toggleable__label sk-toggleable__label-arrow\">RandomForestClassifier</label><div class=\"sk-toggleable__content\"><pre>RandomForestClassifier()</pre></div></div></div></div></div>"
      ],
      "text/plain": [
       "RandomForestClassifier()"
      ]
     },
     "execution_count": 35,
     "metadata": {},
     "output_type": "execute_result"
    }
   ],
   "source": [
    "model = RandomForestClassifier()\n",
    "model.fit(x_train, y_train)"
   ]
  },
  {
   "cell_type": "code",
   "execution_count": 36,
   "id": "d299fc0c",
   "metadata": {
    "execution": {
     "iopub.execute_input": "2023-05-22T03:31:10.162354Z",
     "iopub.status.busy": "2023-05-22T03:31:10.161954Z",
     "iopub.status.idle": "2023-05-22T03:31:11.399641Z",
     "shell.execute_reply": "2023-05-22T03:31:11.397759Z"
    },
    "papermill": {
     "duration": 1.259068,
     "end_time": "2023-05-22T03:31:11.402802",
     "exception": false,
     "start_time": "2023-05-22T03:31:10.143734",
     "status": "completed"
    },
    "tags": []
   },
   "outputs": [
    {
     "name": "stdout",
     "output_type": "stream",
     "text": [
      "Classification Report: \n",
      "               precision    recall  f1-score   support\n",
      "\n",
      "           1       0.99      0.99      0.99        80\n",
      "           2       0.44      0.51      0.48        39\n",
      "           3       0.98      0.98      0.98        51\n",
      "           4       0.61      0.56      0.58        34\n",
      "           5       0.83      0.77      0.80        31\n",
      "           6       0.79      0.73      0.76        15\n",
      "\n",
      "    accuracy                           0.81       250\n",
      "   macro avg       0.77      0.76      0.76       250\n",
      "weighted avg       0.82      0.81      0.81       250\n",
      "\n"
     ]
    }
   ],
   "source": [
    "predict = cross_val_predict(estimator = model, X = X_train, y = y_train, cv = 5)\n",
    "print(\"Classification Report: \\n\",classification_report(y_train, predict))"
   ]
  },
  {
   "cell_type": "code",
   "execution_count": 37,
   "id": "d25e5a5f",
   "metadata": {
    "execution": {
     "iopub.execute_input": "2023-05-22T03:31:11.439908Z",
     "iopub.status.busy": "2023-05-22T03:31:11.439103Z",
     "iopub.status.idle": "2023-05-22T03:31:11.468653Z",
     "shell.execute_reply": "2023-05-22T03:31:11.467352Z"
    },
    "papermill": {
     "duration": 0.051524,
     "end_time": "2023-05-22T03:31:11.472369",
     "exception": false,
     "start_time": "2023-05-22T03:31:11.420845",
     "status": "completed"
    },
    "tags": []
   },
   "outputs": [
    {
     "name": "stdout",
     "output_type": "stream",
     "text": [
      "              precision    recall  f1-score   support\n",
      "\n",
      "           1       1.00      1.00      1.00        31\n",
      "           2       1.00      0.95      0.98        21\n",
      "           3       1.00      1.00      1.00        20\n",
      "           4       0.93      1.00      0.97        14\n",
      "           5       1.00      1.00      1.00        17\n",
      "           6       1.00      1.00      1.00         5\n",
      "\n",
      "    accuracy                           0.99       108\n",
      "   macro avg       0.99      0.99      0.99       108\n",
      "weighted avg       0.99      0.99      0.99       108\n",
      "\n"
     ]
    }
   ],
   "source": [
    "y_pred = model.predict(x_test)\n",
    "report = classification_report(y_test, y_pred)\n",
    "print(report)"
   ]
  }
 ],
 "metadata": {
  "kernelspec": {
   "display_name": "Python 3",
   "language": "python",
   "name": "python3"
  },
  "language_info": {
   "codemirror_mode": {
    "name": "ipython",
    "version": 3
   },
   "file_extension": ".py",
   "mimetype": "text/x-python",
   "name": "python",
   "nbconvert_exporter": "python",
   "pygments_lexer": "ipython3",
   "version": "3.10.10"
  },
  "papermill": {
   "default_parameters": {},
   "duration": 23.042024,
   "end_time": "2023-05-22T03:31:12.410658",
   "environment_variables": {},
   "exception": null,
   "input_path": "__notebook__.ipynb",
   "output_path": "__notebook__.ipynb",
   "parameters": {},
   "start_time": "2023-05-22T03:30:49.368634",
   "version": "2.4.0"
  }
 },
 "nbformat": 4,
 "nbformat_minor": 5
}
