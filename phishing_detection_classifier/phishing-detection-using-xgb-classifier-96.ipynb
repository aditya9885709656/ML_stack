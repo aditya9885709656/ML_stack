{
 "cells": [
  {
   "cell_type": "code",
   "execution_count": 1,
   "id": "bdfc51eb",
   "metadata": {
    "execution": {
     "iopub.execute_input": "2022-07-06T07:21:08.216010Z",
     "iopub.status.busy": "2022-07-06T07:21:08.215522Z",
     "iopub.status.idle": "2022-07-06T07:21:08.228779Z",
     "shell.execute_reply": "2022-07-06T07:21:08.227326Z"
    },
    "papermill": {
     "duration": 0.025647,
     "end_time": "2022-07-06T07:21:08.231696",
     "exception": false,
     "start_time": "2022-07-06T07:21:08.206049",
     "status": "completed"
    },
    "tags": []
   },
   "outputs": [],
   "source": [
    "import numpy as np\n",
    "import pandas as pd\n"
   ]
  },
  {
   "cell_type": "code",
   "execution_count": 2,
   "id": "8d8056b6",
   "metadata": {
    "execution": {
     "iopub.execute_input": "2022-07-06T07:21:08.247457Z",
     "iopub.status.busy": "2022-07-06T07:21:08.246999Z",
     "iopub.status.idle": "2022-07-06T07:21:08.309630Z",
     "shell.execute_reply": "2022-07-06T07:21:08.308712Z"
    },
    "papermill": {
     "duration": 0.073467,
     "end_time": "2022-07-06T07:21:08.312189",
     "exception": false,
     "start_time": "2022-07-06T07:21:08.238722",
     "status": "completed"
    },
    "tags": []
   },
   "outputs": [],
   "source": [
    "dataset = pd.read_csv('../input/phishing-website-detector/phishing.csv')"
   ]
  },
  {
   "cell_type": "code",
   "execution_count": 3,
   "id": "9f3b8ec3",
   "metadata": {
    "execution": {
     "iopub.execute_input": "2022-07-06T07:21:08.329079Z",
     "iopub.status.busy": "2022-07-06T07:21:08.328136Z",
     "iopub.status.idle": "2022-07-06T07:21:08.357244Z",
     "shell.execute_reply": "2022-07-06T07:21:08.356100Z"
    },
    "papermill": {
     "duration": 0.041985,
     "end_time": "2022-07-06T07:21:08.360893",
     "exception": false,
     "start_time": "2022-07-06T07:21:08.318908",
     "status": "completed"
    },
    "tags": []
   },
   "outputs": [
    {
     "data": {
      "text/html": [
       "<div>\n",
       "<style scoped>\n",
       "    .dataframe tbody tr th:only-of-type {\n",
       "        vertical-align: middle;\n",
       "    }\n",
       "\n",
       "    .dataframe tbody tr th {\n",
       "        vertical-align: top;\n",
       "    }\n",
       "\n",
       "    .dataframe thead th {\n",
       "        text-align: right;\n",
       "    }\n",
       "</style>\n",
       "<table border=\"1\" class=\"dataframe\">\n",
       "  <thead>\n",
       "    <tr style=\"text-align: right;\">\n",
       "      <th></th>\n",
       "      <th>Index</th>\n",
       "      <th>UsingIP</th>\n",
       "      <th>LongURL</th>\n",
       "      <th>ShortURL</th>\n",
       "      <th>Symbol@</th>\n",
       "      <th>Redirecting//</th>\n",
       "      <th>PrefixSuffix-</th>\n",
       "      <th>SubDomains</th>\n",
       "      <th>HTTPS</th>\n",
       "      <th>DomainRegLen</th>\n",
       "      <th>...</th>\n",
       "      <th>UsingPopupWindow</th>\n",
       "      <th>IframeRedirection</th>\n",
       "      <th>AgeofDomain</th>\n",
       "      <th>DNSRecording</th>\n",
       "      <th>WebsiteTraffic</th>\n",
       "      <th>PageRank</th>\n",
       "      <th>GoogleIndex</th>\n",
       "      <th>LinksPointingToPage</th>\n",
       "      <th>StatsReport</th>\n",
       "      <th>class</th>\n",
       "    </tr>\n",
       "  </thead>\n",
       "  <tbody>\n",
       "    <tr>\n",
       "      <th>0</th>\n",
       "      <td>0</td>\n",
       "      <td>1</td>\n",
       "      <td>1</td>\n",
       "      <td>1</td>\n",
       "      <td>1</td>\n",
       "      <td>1</td>\n",
       "      <td>-1</td>\n",
       "      <td>0</td>\n",
       "      <td>1</td>\n",
       "      <td>-1</td>\n",
       "      <td>...</td>\n",
       "      <td>1</td>\n",
       "      <td>1</td>\n",
       "      <td>-1</td>\n",
       "      <td>-1</td>\n",
       "      <td>0</td>\n",
       "      <td>-1</td>\n",
       "      <td>1</td>\n",
       "      <td>1</td>\n",
       "      <td>1</td>\n",
       "      <td>-1</td>\n",
       "    </tr>\n",
       "    <tr>\n",
       "      <th>1</th>\n",
       "      <td>1</td>\n",
       "      <td>1</td>\n",
       "      <td>0</td>\n",
       "      <td>1</td>\n",
       "      <td>1</td>\n",
       "      <td>1</td>\n",
       "      <td>-1</td>\n",
       "      <td>-1</td>\n",
       "      <td>-1</td>\n",
       "      <td>-1</td>\n",
       "      <td>...</td>\n",
       "      <td>1</td>\n",
       "      <td>1</td>\n",
       "      <td>1</td>\n",
       "      <td>-1</td>\n",
       "      <td>1</td>\n",
       "      <td>-1</td>\n",
       "      <td>1</td>\n",
       "      <td>0</td>\n",
       "      <td>-1</td>\n",
       "      <td>-1</td>\n",
       "    </tr>\n",
       "    <tr>\n",
       "      <th>2</th>\n",
       "      <td>2</td>\n",
       "      <td>1</td>\n",
       "      <td>0</td>\n",
       "      <td>1</td>\n",
       "      <td>1</td>\n",
       "      <td>1</td>\n",
       "      <td>-1</td>\n",
       "      <td>-1</td>\n",
       "      <td>-1</td>\n",
       "      <td>1</td>\n",
       "      <td>...</td>\n",
       "      <td>1</td>\n",
       "      <td>1</td>\n",
       "      <td>-1</td>\n",
       "      <td>-1</td>\n",
       "      <td>1</td>\n",
       "      <td>-1</td>\n",
       "      <td>1</td>\n",
       "      <td>-1</td>\n",
       "      <td>1</td>\n",
       "      <td>-1</td>\n",
       "    </tr>\n",
       "    <tr>\n",
       "      <th>3</th>\n",
       "      <td>3</td>\n",
       "      <td>1</td>\n",
       "      <td>0</td>\n",
       "      <td>-1</td>\n",
       "      <td>1</td>\n",
       "      <td>1</td>\n",
       "      <td>-1</td>\n",
       "      <td>1</td>\n",
       "      <td>1</td>\n",
       "      <td>-1</td>\n",
       "      <td>...</td>\n",
       "      <td>-1</td>\n",
       "      <td>1</td>\n",
       "      <td>-1</td>\n",
       "      <td>-1</td>\n",
       "      <td>0</td>\n",
       "      <td>-1</td>\n",
       "      <td>1</td>\n",
       "      <td>1</td>\n",
       "      <td>1</td>\n",
       "      <td>1</td>\n",
       "    </tr>\n",
       "    <tr>\n",
       "      <th>4</th>\n",
       "      <td>4</td>\n",
       "      <td>-1</td>\n",
       "      <td>0</td>\n",
       "      <td>-1</td>\n",
       "      <td>1</td>\n",
       "      <td>-1</td>\n",
       "      <td>-1</td>\n",
       "      <td>1</td>\n",
       "      <td>1</td>\n",
       "      <td>-1</td>\n",
       "      <td>...</td>\n",
       "      <td>1</td>\n",
       "      <td>1</td>\n",
       "      <td>1</td>\n",
       "      <td>1</td>\n",
       "      <td>1</td>\n",
       "      <td>-1</td>\n",
       "      <td>1</td>\n",
       "      <td>-1</td>\n",
       "      <td>-1</td>\n",
       "      <td>1</td>\n",
       "    </tr>\n",
       "  </tbody>\n",
       "</table>\n",
       "<p>5 rows × 32 columns</p>\n",
       "</div>"
      ],
      "text/plain": [
       "   Index  UsingIP  LongURL  ShortURL  Symbol@  Redirecting//  PrefixSuffix-  \\\n",
       "0      0        1        1         1        1              1             -1   \n",
       "1      1        1        0         1        1              1             -1   \n",
       "2      2        1        0         1        1              1             -1   \n",
       "3      3        1        0        -1        1              1             -1   \n",
       "4      4       -1        0        -1        1             -1             -1   \n",
       "\n",
       "   SubDomains  HTTPS  DomainRegLen  ...  UsingPopupWindow  IframeRedirection  \\\n",
       "0           0      1            -1  ...                 1                  1   \n",
       "1          -1     -1            -1  ...                 1                  1   \n",
       "2          -1     -1             1  ...                 1                  1   \n",
       "3           1      1            -1  ...                -1                  1   \n",
       "4           1      1            -1  ...                 1                  1   \n",
       "\n",
       "   AgeofDomain  DNSRecording  WebsiteTraffic  PageRank  GoogleIndex  \\\n",
       "0           -1            -1               0        -1            1   \n",
       "1            1            -1               1        -1            1   \n",
       "2           -1            -1               1        -1            1   \n",
       "3           -1            -1               0        -1            1   \n",
       "4            1             1               1        -1            1   \n",
       "\n",
       "   LinksPointingToPage  StatsReport  class  \n",
       "0                    1            1     -1  \n",
       "1                    0           -1     -1  \n",
       "2                   -1            1     -1  \n",
       "3                    1            1      1  \n",
       "4                   -1           -1      1  \n",
       "\n",
       "[5 rows x 32 columns]"
      ]
     },
     "execution_count": 3,
     "metadata": {},
     "output_type": "execute_result"
    }
   ],
   "source": [
    "dataset.head()"
   ]
  },
  {
   "cell_type": "code",
   "execution_count": 4,
   "id": "30f84e98",
   "metadata": {
    "execution": {
     "iopub.execute_input": "2022-07-06T07:21:08.376954Z",
     "iopub.status.busy": "2022-07-06T07:21:08.376173Z",
     "iopub.status.idle": "2022-07-06T07:21:08.404875Z",
     "shell.execute_reply": "2022-07-06T07:21:08.403757Z"
    },
    "papermill": {
     "duration": 0.039525,
     "end_time": "2022-07-06T07:21:08.407461",
     "exception": false,
     "start_time": "2022-07-06T07:21:08.367936",
     "status": "completed"
    },
    "tags": []
   },
   "outputs": [
    {
     "name": "stdout",
     "output_type": "stream",
     "text": [
      "<class 'pandas.core.frame.DataFrame'>\n",
      "RangeIndex: 11054 entries, 0 to 11053\n",
      "Data columns (total 32 columns):\n",
      " #   Column               Non-Null Count  Dtype\n",
      "---  ------               --------------  -----\n",
      " 0   Index                11054 non-null  int64\n",
      " 1   UsingIP              11054 non-null  int64\n",
      " 2   LongURL              11054 non-null  int64\n",
      " 3   ShortURL             11054 non-null  int64\n",
      " 4   Symbol@              11054 non-null  int64\n",
      " 5   Redirecting//        11054 non-null  int64\n",
      " 6   PrefixSuffix-        11054 non-null  int64\n",
      " 7   SubDomains           11054 non-null  int64\n",
      " 8   HTTPS                11054 non-null  int64\n",
      " 9   DomainRegLen         11054 non-null  int64\n",
      " 10  Favicon              11054 non-null  int64\n",
      " 11  NonStdPort           11054 non-null  int64\n",
      " 12  HTTPSDomainURL       11054 non-null  int64\n",
      " 13  RequestURL           11054 non-null  int64\n",
      " 14  AnchorURL            11054 non-null  int64\n",
      " 15  LinksInScriptTags    11054 non-null  int64\n",
      " 16  ServerFormHandler    11054 non-null  int64\n",
      " 17  InfoEmail            11054 non-null  int64\n",
      " 18  AbnormalURL          11054 non-null  int64\n",
      " 19  WebsiteForwarding    11054 non-null  int64\n",
      " 20  StatusBarCust        11054 non-null  int64\n",
      " 21  DisableRightClick    11054 non-null  int64\n",
      " 22  UsingPopupWindow     11054 non-null  int64\n",
      " 23  IframeRedirection    11054 non-null  int64\n",
      " 24  AgeofDomain          11054 non-null  int64\n",
      " 25  DNSRecording         11054 non-null  int64\n",
      " 26  WebsiteTraffic       11054 non-null  int64\n",
      " 27  PageRank             11054 non-null  int64\n",
      " 28  GoogleIndex          11054 non-null  int64\n",
      " 29  LinksPointingToPage  11054 non-null  int64\n",
      " 30  StatsReport          11054 non-null  int64\n",
      " 31  class                11054 non-null  int64\n",
      "dtypes: int64(32)\n",
      "memory usage: 2.7 MB\n"
     ]
    }
   ],
   "source": [
    "dataset.info()"
   ]
  },
  {
   "cell_type": "code",
   "execution_count": 5,
   "id": "b919944a",
   "metadata": {
    "execution": {
     "iopub.execute_input": "2022-07-06T07:21:08.423138Z",
     "iopub.status.busy": "2022-07-06T07:21:08.422555Z",
     "iopub.status.idle": "2022-07-06T07:21:08.431096Z",
     "shell.execute_reply": "2022-07-06T07:21:08.430255Z"
    },
    "papermill": {
     "duration": 0.01895,
     "end_time": "2022-07-06T07:21:08.433168",
     "exception": false,
     "start_time": "2022-07-06T07:21:08.414218",
     "status": "completed"
    },
    "tags": []
   },
   "outputs": [
    {
     "data": {
      "text/plain": [
       "Index                  0\n",
       "UsingIP                0\n",
       "LongURL                0\n",
       "ShortURL               0\n",
       "Symbol@                0\n",
       "Redirecting//          0\n",
       "PrefixSuffix-          0\n",
       "SubDomains             0\n",
       "HTTPS                  0\n",
       "DomainRegLen           0\n",
       "Favicon                0\n",
       "NonStdPort             0\n",
       "HTTPSDomainURL         0\n",
       "RequestURL             0\n",
       "AnchorURL              0\n",
       "LinksInScriptTags      0\n",
       "ServerFormHandler      0\n",
       "InfoEmail              0\n",
       "AbnormalURL            0\n",
       "WebsiteForwarding      0\n",
       "StatusBarCust          0\n",
       "DisableRightClick      0\n",
       "UsingPopupWindow       0\n",
       "IframeRedirection      0\n",
       "AgeofDomain            0\n",
       "DNSRecording           0\n",
       "WebsiteTraffic         0\n",
       "PageRank               0\n",
       "GoogleIndex            0\n",
       "LinksPointingToPage    0\n",
       "StatsReport            0\n",
       "class                  0\n",
       "dtype: int64"
      ]
     },
     "execution_count": 5,
     "metadata": {},
     "output_type": "execute_result"
    }
   ],
   "source": [
    "dataset.isnull().sum()"
   ]
  },
  {
   "cell_type": "code",
   "execution_count": 6,
   "id": "f36022b6",
   "metadata": {
    "execution": {
     "iopub.execute_input": "2022-07-06T07:21:08.449226Z",
     "iopub.status.busy": "2022-07-06T07:21:08.448514Z",
     "iopub.status.idle": "2022-07-06T07:21:08.457859Z",
     "shell.execute_reply": "2022-07-06T07:21:08.456947Z"
    },
    "papermill": {
     "duration": 0.019981,
     "end_time": "2022-07-06T07:21:08.460168",
     "exception": false,
     "start_time": "2022-07-06T07:21:08.440187",
     "status": "completed"
    },
    "tags": []
   },
   "outputs": [],
   "source": [
    "Y = dataset[\"class\"]\n",
    "X = dataset.drop([\"class\"],axis=1)"
   ]
  },
  {
   "cell_type": "code",
   "execution_count": 7,
   "id": "49b463fc",
   "metadata": {
    "execution": {
     "iopub.execute_input": "2022-07-06T07:21:08.476370Z",
     "iopub.status.busy": "2022-07-06T07:21:08.475618Z",
     "iopub.status.idle": "2022-07-06T07:21:09.750559Z",
     "shell.execute_reply": "2022-07-06T07:21:09.749123Z"
    },
    "papermill": {
     "duration": 1.28656,
     "end_time": "2022-07-06T07:21:09.753877",
     "exception": false,
     "start_time": "2022-07-06T07:21:08.467317",
     "status": "completed"
    },
    "tags": []
   },
   "outputs": [],
   "source": [
    "from sklearn.model_selection import train_test_split\n",
    "X_train,X_test,Y_train,Y_test = train_test_split(X,Y,test_size=0.2,random_state=0)"
   ]
  },
  {
   "cell_type": "code",
   "execution_count": 8,
   "id": "9e8f2d31",
   "metadata": {
    "execution": {
     "iopub.execute_input": "2022-07-06T07:21:09.771973Z",
     "iopub.status.busy": "2022-07-06T07:21:09.771530Z",
     "iopub.status.idle": "2022-07-06T07:21:09.780781Z",
     "shell.execute_reply": "2022-07-06T07:21:09.779231Z"
    },
    "papermill": {
     "duration": 0.021204,
     "end_time": "2022-07-06T07:21:09.783266",
     "exception": false,
     "start_time": "2022-07-06T07:21:09.762062",
     "status": "completed"
    },
    "tags": []
   },
   "outputs": [
    {
     "data": {
      "text/plain": [
       "0       -1\n",
       "1       -1\n",
       "2       -1\n",
       "3        1\n",
       "4        1\n",
       "        ..\n",
       "11049    1\n",
       "11050   -1\n",
       "11051   -1\n",
       "11052   -1\n",
       "11053   -1\n",
       "Name: class, Length: 11054, dtype: int64"
      ]
     },
     "execution_count": 8,
     "metadata": {},
     "output_type": "execute_result"
    }
   ],
   "source": [
    "Y"
   ]
  },
  {
   "cell_type": "markdown",
   "id": "334432a4",
   "metadata": {
    "papermill": {
     "duration": 0.007046,
     "end_time": "2022-07-06T07:21:09.798460",
     "exception": false,
     "start_time": "2022-07-06T07:21:09.791414",
     "status": "completed"
    },
    "tags": []
   },
   "source": [
    "## Training Using Different Models"
   ]
  },
  {
   "cell_type": "code",
   "execution_count": 9,
   "id": "1d82688c",
   "metadata": {
    "execution": {
     "iopub.execute_input": "2022-07-06T07:21:09.815232Z",
     "iopub.status.busy": "2022-07-06T07:21:09.814452Z",
     "iopub.status.idle": "2022-07-06T07:21:10.129121Z",
     "shell.execute_reply": "2022-07-06T07:21:10.127656Z"
    },
    "papermill": {
     "duration": 0.333262,
     "end_time": "2022-07-06T07:21:10.138946",
     "exception": false,
     "start_time": "2022-07-06T07:21:09.805684",
     "status": "completed"
    },
    "tags": []
   },
   "outputs": [
    {
     "name": "stdout",
     "output_type": "stream",
     "text": [
      "0.9167797376752601\n"
     ]
    },
    {
     "name": "stderr",
     "output_type": "stream",
     "text": [
      "/opt/conda/lib/python3.7/site-packages/sklearn/linear_model/_logistic.py:818: ConvergenceWarning: lbfgs failed to converge (status=1):\n",
      "STOP: TOTAL NO. of ITERATIONS REACHED LIMIT.\n",
      "\n",
      "Increase the number of iterations (max_iter) or scale the data as shown in:\n",
      "    https://scikit-learn.org/stable/modules/preprocessing.html\n",
      "Please also refer to the documentation for alternative solver options:\n",
      "    https://scikit-learn.org/stable/modules/linear_model.html#logistic-regression\n",
      "  extra_warning_msg=_LOGISTIC_SOLVER_CONVERGENCE_MSG,\n"
     ]
    }
   ],
   "source": [
    "#Using Logistic Regression\n",
    "from sklearn.linear_model import LogisticRegression\n",
    "from sklearn.metrics import accuracy_score\n",
    "lg = LogisticRegression()\n",
    "lg.fit(X_train,Y_train)\n",
    "pred = lg.predict(X_test)\n",
    "print(accuracy_score(pred,Y_test))"
   ]
  },
  {
   "cell_type": "code",
   "execution_count": 10,
   "id": "5e30463c",
   "metadata": {
    "execution": {
     "iopub.execute_input": "2022-07-06T07:21:10.170921Z",
     "iopub.status.busy": "2022-07-06T07:21:10.170310Z",
     "iopub.status.idle": "2022-07-06T07:21:18.381116Z",
     "shell.execute_reply": "2022-07-06T07:21:18.379983Z"
    },
    "papermill": {
     "duration": 8.230667,
     "end_time": "2022-07-06T07:21:18.384291",
     "exception": false,
     "start_time": "2022-07-06T07:21:10.153624",
     "status": "completed"
    },
    "tags": []
   },
   "outputs": [],
   "source": [
    "#Using SVM \n",
    "from sklearn import svm\n",
    "sv = svm.SVC()\n",
    "sv.fit(X_train,Y_train)\n",
    "pred_svm = sv.predict(X_test)"
   ]
  },
  {
   "cell_type": "code",
   "execution_count": 11,
   "id": "71850ce9",
   "metadata": {
    "execution": {
     "iopub.execute_input": "2022-07-06T07:21:18.401227Z",
     "iopub.status.busy": "2022-07-06T07:21:18.400493Z",
     "iopub.status.idle": "2022-07-06T07:21:18.408921Z",
     "shell.execute_reply": "2022-07-06T07:21:18.407503Z"
    },
    "papermill": {
     "duration": 0.019649,
     "end_time": "2022-07-06T07:21:18.411489",
     "exception": false,
     "start_time": "2022-07-06T07:21:18.391840",
     "status": "completed"
    },
    "tags": []
   },
   "outputs": [
    {
     "name": "stdout",
     "output_type": "stream",
     "text": [
      "0.5739484396200815\n"
     ]
    }
   ],
   "source": [
    "print(accuracy_score(pred_svm,Y_test))"
   ]
  },
  {
   "cell_type": "code",
   "execution_count": 12,
   "id": "97108815",
   "metadata": {
    "execution": {
     "iopub.execute_input": "2022-07-06T07:21:18.428213Z",
     "iopub.status.busy": "2022-07-06T07:21:18.427815Z",
     "iopub.status.idle": "2022-07-06T07:21:18.436853Z",
     "shell.execute_reply": "2022-07-06T07:21:18.435327Z"
    },
    "papermill": {
     "duration": 0.020459,
     "end_time": "2022-07-06T07:21:18.439408",
     "exception": false,
     "start_time": "2022-07-06T07:21:18.418949",
     "status": "completed"
    },
    "tags": []
   },
   "outputs": [
    {
     "data": {
      "text/plain": [
       "5297     1\n",
       "3420     1\n",
       "8196    -1\n",
       "7470     1\n",
       "3858     1\n",
       "        ..\n",
       "4859     1\n",
       "3264     1\n",
       "9845     1\n",
       "10799    1\n",
       "2732     1\n",
       "Name: class, Length: 8843, dtype: int64"
      ]
     },
     "execution_count": 12,
     "metadata": {},
     "output_type": "execute_result"
    }
   ],
   "source": [
    "Y_train"
   ]
  },
  {
   "cell_type": "code",
   "execution_count": 13,
   "id": "08ab13f3",
   "metadata": {
    "execution": {
     "iopub.execute_input": "2022-07-06T07:21:18.456903Z",
     "iopub.status.busy": "2022-07-06T07:21:18.456434Z",
     "iopub.status.idle": "2022-07-06T07:21:18.463386Z",
     "shell.execute_reply": "2022-07-06T07:21:18.462296Z"
    },
    "papermill": {
     "duration": 0.018448,
     "end_time": "2022-07-06T07:21:18.465795",
     "exception": false,
     "start_time": "2022-07-06T07:21:18.447347",
     "status": "completed"
    },
    "tags": []
   },
   "outputs": [],
   "source": [
    "y_train = Y_train.replace({1:1,-1:0})"
   ]
  },
  {
   "cell_type": "code",
   "execution_count": 14,
   "id": "5d16fee3",
   "metadata": {
    "execution": {
     "iopub.execute_input": "2022-07-06T07:21:18.482799Z",
     "iopub.status.busy": "2022-07-06T07:21:18.482385Z",
     "iopub.status.idle": "2022-07-06T07:21:18.490236Z",
     "shell.execute_reply": "2022-07-06T07:21:18.488533Z"
    },
    "papermill": {
     "duration": 0.019246,
     "end_time": "2022-07-06T07:21:18.492620",
     "exception": false,
     "start_time": "2022-07-06T07:21:18.473374",
     "status": "completed"
    },
    "tags": []
   },
   "outputs": [
    {
     "name": "stdout",
     "output_type": "stream",
     "text": [
      "5297     1\n",
      "3420     1\n",
      "8196     0\n",
      "7470     1\n",
      "3858     1\n",
      "        ..\n",
      "4859     1\n",
      "3264     1\n",
      "9845     1\n",
      "10799    1\n",
      "2732     1\n",
      "Name: class, Length: 8843, dtype: int64\n"
     ]
    }
   ],
   "source": [
    "print(y_train)"
   ]
  },
  {
   "cell_type": "code",
   "execution_count": 15,
   "id": "1d23b10a",
   "metadata": {
    "execution": {
     "iopub.execute_input": "2022-07-06T07:21:18.510525Z",
     "iopub.status.busy": "2022-07-06T07:21:18.510175Z",
     "iopub.status.idle": "2022-07-06T07:21:18.515814Z",
     "shell.execute_reply": "2022-07-06T07:21:18.514680Z"
    },
    "papermill": {
     "duration": 0.017584,
     "end_time": "2022-07-06T07:21:18.518066",
     "exception": false,
     "start_time": "2022-07-06T07:21:18.500482",
     "status": "completed"
    },
    "tags": []
   },
   "outputs": [],
   "source": [
    "y_test = Y_test.replace({1:1,-1:0})"
   ]
  },
  {
   "cell_type": "code",
   "execution_count": 16,
   "id": "48f7cd19",
   "metadata": {
    "execution": {
     "iopub.execute_input": "2022-07-06T07:21:18.535368Z",
     "iopub.status.busy": "2022-07-06T07:21:18.534954Z",
     "iopub.status.idle": "2022-07-06T07:21:19.646976Z",
     "shell.execute_reply": "2022-07-06T07:21:19.645935Z"
    },
    "papermill": {
     "duration": 1.12375,
     "end_time": "2022-07-06T07:21:19.649427",
     "exception": false,
     "start_time": "2022-07-06T07:21:18.525677",
     "status": "completed"
    },
    "tags": []
   },
   "outputs": [
    {
     "name": "stdout",
     "output_type": "stream",
     "text": [
      "0.9651741293532339\n"
     ]
    }
   ],
   "source": [
    "#Using XGB \n",
    "from xgboost import XGBClassifier\n",
    "xg = XGBClassifier()\n",
    "xg.fit(X_train,y_train)\n",
    "pred_xg = xg.predict(X_test)\n",
    "print(accuracy_score(pred_xg,y_test))"
   ]
  },
  {
   "cell_type": "markdown",
   "id": "32c06f48",
   "metadata": {
    "papermill": {
     "duration": 0.007648,
     "end_time": "2022-07-06T07:21:19.666161",
     "exception": false,
     "start_time": "2022-07-06T07:21:19.658513",
     "status": "completed"
    },
    "tags": []
   },
   "source": [
    "## Printing the Classification Report and Confusion Matrix for XGB Classifier"
   ]
  },
  {
   "cell_type": "code",
   "execution_count": 17,
   "id": "ff9e44c3",
   "metadata": {
    "execution": {
     "iopub.execute_input": "2022-07-06T07:21:19.683134Z",
     "iopub.status.busy": "2022-07-06T07:21:19.682729Z",
     "iopub.status.idle": "2022-07-06T07:21:19.696876Z",
     "shell.execute_reply": "2022-07-06T07:21:19.695582Z"
    },
    "papermill": {
     "duration": 0.025696,
     "end_time": "2022-07-06T07:21:19.699564",
     "exception": false,
     "start_time": "2022-07-06T07:21:19.673868",
     "status": "completed"
    },
    "tags": []
   },
   "outputs": [],
   "source": [
    "from sklearn.metrics import classification_report,confusion_matrix\n",
    "classification_repo = classification_report(pred_xg,y_test)"
   ]
  },
  {
   "cell_type": "code",
   "execution_count": 18,
   "id": "8c5b5127",
   "metadata": {
    "execution": {
     "iopub.execute_input": "2022-07-06T07:21:19.716463Z",
     "iopub.status.busy": "2022-07-06T07:21:19.716092Z",
     "iopub.status.idle": "2022-07-06T07:21:19.724584Z",
     "shell.execute_reply": "2022-07-06T07:21:19.723444Z"
    },
    "papermill": {
     "duration": 0.019881,
     "end_time": "2022-07-06T07:21:19.727052",
     "exception": false,
     "start_time": "2022-07-06T07:21:19.707171",
     "status": "completed"
    },
    "tags": []
   },
   "outputs": [],
   "source": [
    "confusion_mat = confusion_matrix(pred_xg,y_test)"
   ]
  },
  {
   "cell_type": "code",
   "execution_count": 19,
   "id": "f87d413b",
   "metadata": {
    "execution": {
     "iopub.execute_input": "2022-07-06T07:21:19.744158Z",
     "iopub.status.busy": "2022-07-06T07:21:19.743783Z",
     "iopub.status.idle": "2022-07-06T07:21:19.749451Z",
     "shell.execute_reply": "2022-07-06T07:21:19.748208Z"
    },
    "papermill": {
     "duration": 0.01725,
     "end_time": "2022-07-06T07:21:19.751947",
     "exception": false,
     "start_time": "2022-07-06T07:21:19.734697",
     "status": "completed"
    },
    "tags": []
   },
   "outputs": [
    {
     "name": "stdout",
     "output_type": "stream",
     "text": [
      "[[ 902   37]\n",
      " [  40 1232]] \n",
      "               precision    recall  f1-score   support\n",
      "\n",
      "           0       0.96      0.96      0.96       939\n",
      "           1       0.97      0.97      0.97      1272\n",
      "\n",
      "    accuracy                           0.97      2211\n",
      "   macro avg       0.96      0.96      0.96      2211\n",
      "weighted avg       0.97      0.97      0.97      2211\n",
      "\n"
     ]
    }
   ],
   "source": [
    "print(confusion_mat,\"\\n\",classification_repo)"
   ]
  },
  {
   "cell_type": "code",
   "execution_count": null,
   "id": "7eb4d44b",
   "metadata": {
    "papermill": {
     "duration": 0.007402,
     "end_time": "2022-07-06T07:21:19.766961",
     "exception": false,
     "start_time": "2022-07-06T07:21:19.759559",
     "status": "completed"
    },
    "tags": []
   },
   "outputs": [],
   "source": []
  }
 ],
 "metadata": {
  "kernelspec": {
   "display_name": "Python 3",
   "language": "python",
   "name": "python3"
  },
  "language_info": {
   "codemirror_mode": {
    "name": "ipython",
    "version": 3
   },
   "file_extension": ".py",
   "mimetype": "text/x-python",
   "name": "python",
   "nbconvert_exporter": "python",
   "pygments_lexer": "ipython3",
   "version": "3.7.12"
  },
  "papermill": {
   "default_parameters": {},
   "duration": 23.331435,
   "end_time": "2022-07-06T07:21:20.495398",
   "environment_variables": {},
   "exception": null,
   "input_path": "__notebook__.ipynb",
   "output_path": "__notebook__.ipynb",
   "parameters": {},
   "start_time": "2022-07-06T07:20:57.163963",
   "version": "2.3.4"
  }
 },
 "nbformat": 4,
 "nbformat_minor": 5
}
